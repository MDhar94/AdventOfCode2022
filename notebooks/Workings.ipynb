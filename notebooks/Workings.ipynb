{
 "cells": [
  {
   "cell_type": "markdown",
   "id": "5cb74f5e",
   "metadata": {},
   "source": [
    "# Challenge day 1"
   ]
  },
  {
   "cell_type": "code",
   "execution_count": 1,
   "id": "c7ee61fb",
   "metadata": {},
   "outputs": [],
   "source": [
    "import pandas as pd\n",
    "import numpy as np\n",
    "from itertools import groupby"
   ]
  },
  {
   "cell_type": "markdown",
   "id": "b0bbb531",
   "metadata": {},
   "source": [
    "## Part i "
   ]
  },
  {
   "cell_type": "markdown",
   "id": "3eef8627",
   "metadata": {},
   "source": [
    "### Get data"
   ]
  },
  {
   "cell_type": "code",
   "execution_count": 2,
   "id": "9044067d",
   "metadata": {},
   "outputs": [],
   "source": [
    "data_dir = '../raw_data/'"
   ]
  },
  {
   "cell_type": "code",
   "execution_count": 3,
   "id": "21d47187",
   "metadata": {},
   "outputs": [],
   "source": [
    "with open(data_dir+'Day1_data.txt') as f:\n",
    "    data = f.readlines()"
   ]
  },
  {
   "cell_type": "markdown",
   "id": "bb622d0c",
   "metadata": {},
   "source": [
    "### Clean data"
   ]
  },
  {
   "cell_type": "code",
   "execution_count": 4,
   "id": "6e800360",
   "metadata": {},
   "outputs": [],
   "source": [
    "data_clean = [data.replace('\\n','') for data in data]"
   ]
  },
  {
   "cell_type": "code",
   "execution_count": 59,
   "id": "857c8a7a",
   "metadata": {},
   "outputs": [],
   "source": [
    "elves1 = [list(sub) for ele, sub in groupby(data_clean, key = bool) if ele]\n",
    "\n",
    "num_elves = [[int(numerics) for numerics in strings] for strings in elves1]"
   ]
  },
  {
   "cell_type": "code",
   "execution_count": 6,
   "id": "2de558ba",
   "metadata": {},
   "outputs": [],
   "source": [
    "sum_elves = [sum(elf) for elf in num_elves]"
   ]
  },
  {
   "cell_type": "markdown",
   "id": "151b6aa2",
   "metadata": {},
   "source": [
    "### Get max value"
   ]
  },
  {
   "cell_type": "code",
   "execution_count": 7,
   "id": "760ade99",
   "metadata": {},
   "outputs": [],
   "source": [
    "max_value = max(sum_elves)\n",
    "max_index = sum_elves.index(max_value)"
   ]
  },
  {
   "cell_type": "code",
   "execution_count": 8,
   "id": "c159fc89",
   "metadata": {},
   "outputs": [
    {
     "data": {
      "text/plain": [
       "59"
      ]
     },
     "execution_count": 8,
     "metadata": {},
     "output_type": "execute_result"
    }
   ],
   "source": [
    "max_index"
   ]
  },
  {
   "cell_type": "markdown",
   "id": "cf7816ae",
   "metadata": {},
   "source": [
    "### Find total calories"
   ]
  },
  {
   "cell_type": "code",
   "execution_count": 9,
   "id": "58cf3098",
   "metadata": {},
   "outputs": [
    {
     "data": {
      "text/plain": [
       "71502"
      ]
     },
     "execution_count": 9,
     "metadata": {},
     "output_type": "execute_result"
    }
   ],
   "source": [
    "sum_elves[max_index]"
   ]
  },
  {
   "cell_type": "markdown",
   "id": "cad10ff4",
   "metadata": {},
   "source": [
    "## Part ii"
   ]
  },
  {
   "cell_type": "markdown",
   "id": "ef19e26e",
   "metadata": {},
   "source": [
    "### Find top three highest calories amounts"
   ]
  },
  {
   "cell_type": "code",
   "execution_count": 17,
   "id": "bd7b8772",
   "metadata": {},
   "outputs": [],
   "source": [
    "index_values = [(i,x) for x,i in enumerate(sum_elves)]"
   ]
  },
  {
   "cell_type": "code",
   "execution_count": 53,
   "id": "72b4fc1c",
   "metadata": {},
   "outputs": [
    {
     "name": "stdout",
     "output_type": "stream",
     "text": [
      "59 71502\n",
      "136 68977\n",
      "3 67712\n"
     ]
    },
    {
     "data": {
      "text/plain": [
       "208191"
      ]
     },
     "execution_count": 53,
     "metadata": {},
     "output_type": "execute_result"
    }
   ],
   "source": [
    "top_three_elves = sorted(index_values, reverse=True)[0:3]\n",
    "\n",
    "elf_dict = {}\n",
    "\n",
    "for elf_cal, elf_id in top_three_elves:\n",
    "    \n",
    "    print(elf_id, elf_cal)\n",
    "    \n",
    "    elf_dict[elf_id] = elf_cal\n",
    "    \n",
    "\n",
    "# sum(elf_dict.values())\n",
    "sum(elf_dict.values())\n",
    "    "
   ]
  },
  {
   "cell_type": "code",
   "execution_count": 15,
   "id": "501c1c1f",
   "metadata": {},
   "outputs": [
    {
     "data": {
      "text/plain": [
       "[71502, 68977, 67712]"
      ]
     },
     "execution_count": 15,
     "metadata": {},
     "output_type": "execute_result"
    }
   ],
   "source": [
    "top_three_elves = [elf[0] for elf in sorted(index_values,reverse=True)[0:3]]\n",
    "\n",
    "top_three_kcal"
   ]
  },
  {
   "cell_type": "code",
   "execution_count": 12,
   "id": "bfec4c2e",
   "metadata": {},
   "outputs": [
    {
     "data": {
      "text/plain": [
       "208191"
      ]
     },
     "execution_count": 12,
     "metadata": {},
     "output_type": "execute_result"
    }
   ],
   "source": [
    "sum(top_three_kcal)"
   ]
  },
  {
   "cell_type": "markdown",
   "id": "f49660cb",
   "metadata": {},
   "source": [
    "# Challenge day 2"
   ]
  },
  {
   "cell_type": "markdown",
   "id": "af35e6a7",
   "metadata": {},
   "source": [
    "## Part i"
   ]
  },
  {
   "cell_type": "code",
   "execution_count": 24,
   "id": "1a33b749",
   "metadata": {
    "scrolled": false
   },
   "outputs": [],
   "source": [
    "df = pd.read_csv('../raw_data/Day2_data.csv'\n",
    "            , delim_whitespace=True\n",
    "            , header=None \n",
    "            , names=['Opponent','Response'])"
   ]
  },
  {
   "cell_type": "code",
   "execution_count": 15,
   "id": "56fa8ef7",
   "metadata": {},
   "outputs": [],
   "source": [
    "choice_dict = {'A':'Rock'\n",
    "               , 'B':'Paper'\n",
    "               ,'C':'Scissors'\n",
    "               ,'X':'Rock'\n",
    "               ,'Y':'Paper'\n",
    "               ,'Z':'Scissors'}"
   ]
  },
  {
   "cell_type": "code",
   "execution_count": 41,
   "id": "4e00b193",
   "metadata": {},
   "outputs": [
    {
     "data": {
      "text/html": [
       "<div>\n",
       "<style scoped>\n",
       "    .dataframe tbody tr th:only-of-type {\n",
       "        vertical-align: middle;\n",
       "    }\n",
       "\n",
       "    .dataframe tbody tr th {\n",
       "        vertical-align: top;\n",
       "    }\n",
       "\n",
       "    .dataframe thead th {\n",
       "        text-align: right;\n",
       "    }\n",
       "</style>\n",
       "<table border=\"1\" class=\"dataframe\">\n",
       "  <thead>\n",
       "    <tr style=\"text-align: right;\">\n",
       "      <th></th>\n",
       "      <th>Opponent</th>\n",
       "      <th>Response</th>\n",
       "    </tr>\n",
       "  </thead>\n",
       "  <tbody>\n",
       "    <tr>\n",
       "      <th>0</th>\n",
       "      <td>Rock</td>\n",
       "      <td>Paper</td>\n",
       "    </tr>\n",
       "    <tr>\n",
       "      <th>1</th>\n",
       "      <td>Scissors</td>\n",
       "      <td>Paper</td>\n",
       "    </tr>\n",
       "    <tr>\n",
       "      <th>2</th>\n",
       "      <td>Scissors</td>\n",
       "      <td>Rock</td>\n",
       "    </tr>\n",
       "    <tr>\n",
       "      <th>3</th>\n",
       "      <td>Rock</td>\n",
       "      <td>Paper</td>\n",
       "    </tr>\n",
       "    <tr>\n",
       "      <th>4</th>\n",
       "      <td>Scissors</td>\n",
       "      <td>Rock</td>\n",
       "    </tr>\n",
       "  </tbody>\n",
       "</table>\n",
       "</div>"
      ],
      "text/plain": [
       "   Opponent Response\n",
       "0      Rock    Paper\n",
       "1  Scissors    Paper\n",
       "2  Scissors     Rock\n",
       "3      Rock    Paper\n",
       "4  Scissors     Rock"
      ]
     },
     "execution_count": 41,
     "metadata": {},
     "output_type": "execute_result"
    }
   ],
   "source": [
    "df_clean = df.replace({'Opponent':choice_dict\n",
    "            ,'Response':choice_dict})\n",
    "\n",
    "df_clean.head()"
   ]
  },
  {
   "cell_type": "code",
   "execution_count": 62,
   "id": "50f4766d",
   "metadata": {},
   "outputs": [],
   "source": [
    "def score_calculator(row):\n",
    "        \n",
    "    combo_dict = {'loss':['RockPaper','PaperScissors','ScissorsRock'],\n",
    "                  'draw':['RockRock','PaperPaper','ScissorsScissors'],\n",
    "                  'win':['PaperRock','ScissorsPaper','RockScissors']}\n",
    "    \n",
    "    score_dict = {'win':[6],'draw':[3],'loss':[0]}\n",
    "    \n",
    "    choice_score_dict = {'Rock':1,'Paper':2,'Scissors':3}\n",
    "    \n",
    "    combination = row['Response'] + row['Opponent']\n",
    "    \n",
    "    score = 0\n",
    "        \n",
    "    if combination in combo_dict['win']:\n",
    "\n",
    "        score += 6 + choice_score_dict[row['Response']]\n",
    "              \n",
    "        \n",
    "    elif combination in combo_dict['draw']:\n",
    "        \n",
    "        score += 3 + choice_score_dict[row['Response']]\n",
    "        \n",
    "    elif combination in combo_dict['loss']:\n",
    "        \n",
    "        score += 0 + choice_score_dict[row['Response']]\n",
    "        \n",
    "    else:\n",
    "        \n",
    "        print('combo not valid')\n",
    "        \n",
    "    return score"
   ]
  },
  {
   "cell_type": "code",
   "execution_count": 75,
   "id": "7228bfe6",
   "metadata": {
    "scrolled": false
   },
   "outputs": [],
   "source": [
    "df_clean['Score'] = df_clean.apply(lambda row: score_calculator(row),axis=1)"
   ]
  },
  {
   "cell_type": "code",
   "execution_count": 65,
   "id": "fe3e2b0d",
   "metadata": {},
   "outputs": [
    {
     "data": {
      "text/plain": [
       "14531"
      ]
     },
     "execution_count": 65,
     "metadata": {},
     "output_type": "execute_result"
    }
   ],
   "source": [
    "df_clean.Score.sum()"
   ]
  },
  {
   "cell_type": "markdown",
   "id": "7219b90b",
   "metadata": {},
   "source": [
    "### Test"
   ]
  },
  {
   "cell_type": "code",
   "execution_count": 74,
   "id": "39494bf0",
   "metadata": {},
   "outputs": [
    {
     "data": {
      "text/plain": [
       "15"
      ]
     },
     "execution_count": 74,
     "metadata": {},
     "output_type": "execute_result"
    }
   ],
   "source": [
    "test_df = pd.DataFrame({'Opponent':['Rock','Paper','Scissors'],'Response':['Paper','Rock','Scissors']})\n",
    "\n",
    "test_df['Score'] = test_df.apply(lambda row: score_calculator(row),axis=1)\n",
    "\n",
    "test_df.Score.sum()"
   ]
  }
 ],
 "metadata": {
  "kernelspec": {
   "display_name": "Python 3 (ipykernel)",
   "language": "python",
   "name": "python3"
  },
  "language_info": {
   "codemirror_mode": {
    "name": "ipython",
    "version": 3
   },
   "file_extension": ".py",
   "mimetype": "text/x-python",
   "name": "python",
   "nbconvert_exporter": "python",
   "pygments_lexer": "ipython3",
   "version": "3.10.6"
  },
  "toc": {
   "base_numbering": 1,
   "nav_menu": {},
   "number_sections": true,
   "sideBar": true,
   "skip_h1_title": false,
   "title_cell": "Table of Contents",
   "title_sidebar": "Contents",
   "toc_cell": false,
   "toc_position": {},
   "toc_section_display": true,
   "toc_window_display": true
  }
 },
 "nbformat": 4,
 "nbformat_minor": 5
}
