{
 "cells": [
  {
   "cell_type": "markdown",
   "id": "5cb74f5e",
   "metadata": {
    "heading_collapsed": true
   },
   "source": [
    "# Day 1"
   ]
  },
  {
   "cell_type": "code",
   "execution_count": null,
   "id": "c7ee61fb",
   "metadata": {
    "hidden": true
   },
   "outputs": [],
   "source": [
    "import pandas as pd\n",
    "import numpy as np\n",
    "from itertools import groupby"
   ]
  },
  {
   "cell_type": "markdown",
   "id": "b0bbb531",
   "metadata": {
    "hidden": true
   },
   "source": [
    "## Part i "
   ]
  },
  {
   "cell_type": "markdown",
   "id": "3eef8627",
   "metadata": {
    "hidden": true
   },
   "source": [
    "### Get data"
   ]
  },
  {
   "cell_type": "code",
   "execution_count": null,
   "id": "9044067d",
   "metadata": {
    "hidden": true
   },
   "outputs": [],
   "source": [
    "data_dir = '../raw_data/'"
   ]
  },
  {
   "cell_type": "code",
   "execution_count": null,
   "id": "21d47187",
   "metadata": {
    "hidden": true
   },
   "outputs": [],
   "source": [
    "with open(data_dir+'Day1_data.txt') as f:\n",
    "    data = f.readlines()"
   ]
  },
  {
   "cell_type": "markdown",
   "id": "bb622d0c",
   "metadata": {
    "hidden": true
   },
   "source": [
    "### Clean data"
   ]
  },
  {
   "cell_type": "code",
   "execution_count": null,
   "id": "6e800360",
   "metadata": {
    "hidden": true
   },
   "outputs": [],
   "source": [
    "data_clean = [data.replace('\\n','') for data in data]"
   ]
  },
  {
   "cell_type": "code",
   "execution_count": null,
   "id": "857c8a7a",
   "metadata": {
    "hidden": true
   },
   "outputs": [],
   "source": [
    "elves1 = [list(sub) for ele, sub in groupby(data_clean, key = bool) if ele]\n",
    "\n",
    "num_elves = [[int(numerics) for numerics in strings] for strings in elves1]"
   ]
  },
  {
   "cell_type": "code",
   "execution_count": null,
   "id": "2de558ba",
   "metadata": {
    "hidden": true
   },
   "outputs": [],
   "source": [
    "sum_elves = [sum(elf) for elf in num_elves]"
   ]
  },
  {
   "cell_type": "markdown",
   "id": "151b6aa2",
   "metadata": {
    "hidden": true
   },
   "source": [
    "### Get max value"
   ]
  },
  {
   "cell_type": "code",
   "execution_count": null,
   "id": "760ade99",
   "metadata": {
    "hidden": true
   },
   "outputs": [],
   "source": [
    "max_value = max(sum_elves)\n",
    "max_index = sum_elves.index(max_value)"
   ]
  },
  {
   "cell_type": "code",
   "execution_count": null,
   "id": "c159fc89",
   "metadata": {
    "hidden": true
   },
   "outputs": [],
   "source": [
    "max_index"
   ]
  },
  {
   "cell_type": "markdown",
   "id": "cf7816ae",
   "metadata": {
    "hidden": true
   },
   "source": [
    "### Find total calories"
   ]
  },
  {
   "cell_type": "code",
   "execution_count": null,
   "id": "58cf3098",
   "metadata": {
    "hidden": true
   },
   "outputs": [],
   "source": [
    "sum_elves[max_index]"
   ]
  },
  {
   "cell_type": "markdown",
   "id": "cad10ff4",
   "metadata": {
    "hidden": true
   },
   "source": [
    "## Part ii"
   ]
  },
  {
   "cell_type": "markdown",
   "id": "ef19e26e",
   "metadata": {
    "hidden": true
   },
   "source": [
    "### Find top three highest calories amounts"
   ]
  },
  {
   "cell_type": "code",
   "execution_count": null,
   "id": "bd7b8772",
   "metadata": {
    "hidden": true
   },
   "outputs": [],
   "source": [
    "index_values = [(i,x) for x,i in enumerate(sum_elves)]"
   ]
  },
  {
   "cell_type": "code",
   "execution_count": null,
   "id": "72b4fc1c",
   "metadata": {
    "hidden": true
   },
   "outputs": [],
   "source": [
    "top_three_elves = sorted(index_values, reverse=True)[0:3]\n",
    "\n",
    "elf_dict = {}\n",
    "\n",
    "for elf_cal, elf_id in top_three_elves:\n",
    "    \n",
    "    print(elf_id, elf_cal)\n",
    "    \n",
    "    elf_dict[elf_id] = elf_cal\n",
    "    \n",
    "\n",
    "# sum(elf_dict.values())\n",
    "sum(elf_dict.values())\n",
    "    "
   ]
  },
  {
   "cell_type": "code",
   "execution_count": null,
   "id": "501c1c1f",
   "metadata": {
    "hidden": true
   },
   "outputs": [],
   "source": [
    "top_three_elves = [elf[0] for elf in sorted(index_values,reverse=True)[0:3]]\n",
    "\n",
    "top_three_elves"
   ]
  },
  {
   "cell_type": "code",
   "execution_count": null,
   "id": "bfec4c2e",
   "metadata": {
    "hidden": true
   },
   "outputs": [],
   "source": [
    "sum(top_three_elves)"
   ]
  },
  {
   "cell_type": "markdown",
   "id": "d46cdff2",
   "metadata": {
    "heading_collapsed": true
   },
   "source": [
    "# Day 2"
   ]
  },
  {
   "cell_type": "markdown",
   "id": "fe3e5a3d",
   "metadata": {
    "hidden": true
   },
   "source": [
    "## Part i"
   ]
  },
  {
   "cell_type": "code",
   "execution_count": null,
   "id": "7ebc55e5",
   "metadata": {
    "hidden": true,
    "scrolled": false
   },
   "outputs": [],
   "source": [
    "df = pd.read_csv('../raw_data/Day2_data.csv'\n",
    "            , delim_whitespace=True\n",
    "            , header=None \n",
    "            , names=['Opponent','Response'])"
   ]
  },
  {
   "cell_type": "code",
   "execution_count": null,
   "id": "c229f58a",
   "metadata": {
    "hidden": true
   },
   "outputs": [],
   "source": [
    "choice_dict = {'A':'Rock'\n",
    "               , 'B':'Paper'\n",
    "               ,'C':'Scissors'\n",
    "               ,'X':'Rock'\n",
    "               ,'Y':'Paper'\n",
    "               ,'Z':'Scissors'}"
   ]
  },
  {
   "cell_type": "code",
   "execution_count": null,
   "id": "54bc1795",
   "metadata": {
    "hidden": true
   },
   "outputs": [],
   "source": [
    "df_clean = df.replace({'Opponent':choice_dict\n",
    "            ,'Response':choice_dict})\n",
    "\n",
    "df_clean.head()"
   ]
  },
  {
   "cell_type": "code",
   "execution_count": null,
   "id": "c16cc21e",
   "metadata": {
    "hidden": true
   },
   "outputs": [],
   "source": [
    "def score_calculator(row):\n",
    "        \n",
    "    combo_dict = {'loss':['RockPaper','PaperScissors','ScissorsRock'],\n",
    "                  'draw':['RockRock','PaperPaper','ScissorsScissors'],\n",
    "                  'win':['PaperRock','ScissorsPaper','RockScissors']}\n",
    "    \n",
    "    score_dict = {'win':[6],'draw':[3],'loss':[0]}\n",
    "    \n",
    "    choice_score_dict = {'Rock':1,'Paper':2,'Scissors':3}\n",
    "    \n",
    "    combination = row['Response'] + row['Opponent']\n",
    "    \n",
    "    score = 0\n",
    "        \n",
    "    if combination in combo_dict['win']:\n",
    "\n",
    "        score += 6 + choice_score_dict[row['Response']]\n",
    "              \n",
    "        \n",
    "    elif combination in combo_dict['draw']:\n",
    "        \n",
    "        score += 3 + choice_score_dict[row['Response']]\n",
    "        \n",
    "    elif combination in combo_dict['loss']:\n",
    "        \n",
    "        score += 0 + choice_score_dict[row['Response']]\n",
    "        \n",
    "    else:\n",
    "        \n",
    "        print('combo not valid')\n",
    "        \n",
    "    return score"
   ]
  },
  {
   "cell_type": "code",
   "execution_count": null,
   "id": "cce057c4",
   "metadata": {
    "hidden": true,
    "scrolled": false
   },
   "outputs": [],
   "source": [
    "df_clean['Score'] = df_clean.apply(lambda row: score_calculator(row),axis=1)"
   ]
  },
  {
   "cell_type": "code",
   "execution_count": null,
   "id": "4308e4e6",
   "metadata": {
    "hidden": true
   },
   "outputs": [],
   "source": [
    "df_clean.Score.sum()"
   ]
  },
  {
   "cell_type": "markdown",
   "id": "d98cea1f",
   "metadata": {
    "hidden": true
   },
   "source": [
    "### Test"
   ]
  },
  {
   "cell_type": "code",
   "execution_count": null,
   "id": "9dcf4e32",
   "metadata": {
    "hidden": true
   },
   "outputs": [],
   "source": [
    "test_df = pd.DataFrame({'Opponent':['Rock','Paper','Scissors'],'Response':['Paper','Rock','Scissors']})\n",
    "\n",
    "test_df['Score'] = test_df.apply(lambda row: score_calculator(row),axis=1)\n",
    "\n",
    "test_df.Score.sum()"
   ]
  },
  {
   "cell_type": "markdown",
   "id": "407e24dd",
   "metadata": {
    "hidden": true
   },
   "source": [
    "## Part ii"
   ]
  },
  {
   "cell_type": "markdown",
   "id": "0057e05c",
   "metadata": {
    "hidden": true
   },
   "source": [
    "X = Win\n",
    "\n",
    "Y = Draw\n",
    "\n",
    "Z = Lose"
   ]
  },
  {
   "cell_type": "code",
   "execution_count": null,
   "id": "33558a94",
   "metadata": {
    "hidden": true
   },
   "outputs": [],
   "source": [
    "choice_dict2 = {'A':'Rock'\n",
    "               , 'B':'Paper'\n",
    "               ,'C':'Scissors'\n",
    "               ,'X':'Lose'\n",
    "               ,'Y':'Draw'\n",
    "               ,'Z':'Win'}"
   ]
  },
  {
   "cell_type": "code",
   "execution_count": null,
   "id": "24af2617",
   "metadata": {
    "hidden": true
   },
   "outputs": [],
   "source": [
    "df2 = df.rename(columns={'Response':'Result'}).replace({'Opponent':choice_dict\n",
    "                                                        ,'Result':choice_dict2})"
   ]
  },
  {
   "cell_type": "code",
   "execution_count": null,
   "id": "26f0934f",
   "metadata": {
    "hidden": true
   },
   "outputs": [],
   "source": [
    "df2.head()"
   ]
  },
  {
   "cell_type": "code",
   "execution_count": null,
   "id": "1fb84db4",
   "metadata": {
    "hidden": true
   },
   "outputs": [],
   "source": [
    "def score_calculator2(row):\n",
    "                \n",
    "    combo_dict = {'RockLose':'Scissors', 'RockDraw':'Rock','RockWin':'Paper'\n",
    "                 ,'ScissorsLose':'Paper','ScissorsDraw':'Scissors','ScissorsWin':'Rock'\n",
    "                 ,'PaperLose':'Rock','PaperDraw':'Paper','PaperWin':'Scissors'}\n",
    "    \n",
    "    score_dict = {'Win':6,'Draw':3,'Lose':0}\n",
    "    \n",
    "    choice_score_dict = {'Rock':1,'Paper':2,'Scissors':3}\n",
    "    \n",
    "    combination = row['Opponent'] + row['Result']\n",
    "        \n",
    "    sign_played = combo_dict[combination]\n",
    "    \n",
    "    sign_score = choice_score_dict[sign_played]\n",
    "    round_score = score_dict[row['Result']]\n",
    "        \n",
    "    return sign_score + round_score"
   ]
  },
  {
   "cell_type": "code",
   "execution_count": null,
   "id": "3113db34",
   "metadata": {
    "hidden": true
   },
   "outputs": [],
   "source": [
    "df2['score'] = df2.apply(lambda row: score_calculator2(row),axis=1)"
   ]
  },
  {
   "cell_type": "code",
   "execution_count": null,
   "id": "85318326",
   "metadata": {
    "hidden": true
   },
   "outputs": [],
   "source": [
    "df2['score'].sum()"
   ]
  },
  {
   "cell_type": "code",
   "execution_count": null,
   "id": "7a24a728",
   "metadata": {
    "hidden": true
   },
   "outputs": [],
   "source": [
    "test_df = pd.DataFrame({'Opponent':['Rock','Paper','Scissors'],'Result':['Draw','Lose','Win']})\n",
    "\n",
    "test_df['Score'] = test_df.apply(lambda row: score_calculator2(row),axis=1)\n",
    "\n",
    "test_df.Score.sum()"
   ]
  },
  {
   "cell_type": "markdown",
   "id": "fa6741a6",
   "metadata": {
    "heading_collapsed": true
   },
   "source": [
    "# Day 3"
   ]
  },
  {
   "cell_type": "markdown",
   "id": "3c1973b0",
   "metadata": {
    "hidden": true
   },
   "source": [
    "## Part i "
   ]
  },
  {
   "cell_type": "code",
   "execution_count": null,
   "id": "ec36a639",
   "metadata": {
    "hidden": true
   },
   "outputs": [],
   "source": [
    "from aocd import get_data"
   ]
  },
  {
   "cell_type": "code",
   "execution_count": null,
   "id": "ef4808ee",
   "metadata": {
    "hidden": true
   },
   "outputs": [],
   "source": [
    "with open('/Users/mischadhar/.config/aocd/token/token.txt') as f:\n",
    "    token = f.read()\n",
    "    \n",
    "(len(token.strip('\\n')),len(token))"
   ]
  },
  {
   "cell_type": "code",
   "execution_count": null,
   "id": "d0314dba",
   "metadata": {
    "hidden": true
   },
   "outputs": [],
   "source": [
    "token"
   ]
  },
  {
   "cell_type": "code",
   "execution_count": null,
   "id": "9ef06337",
   "metadata": {
    "hidden": true,
    "scrolled": true
   },
   "outputs": [],
   "source": [
    "token_file = !cat /Users/mischadhar/.config/aocd/token/token.txt\n",
    "\n",
    "token = token_file[0]"
   ]
  },
  {
   "cell_type": "code",
   "execution_count": null,
   "id": "05843dd6",
   "metadata": {
    "hidden": true
   },
   "outputs": [],
   "source": [
    "token_file"
   ]
  },
  {
   "cell_type": "markdown",
   "id": "cf11f133",
   "metadata": {
    "hidden": true
   },
   "source": [
    "53616c7465645f5f30e0d992ea63cabcc59f2eaaf4c3798bfd335b499b8f3230f6c32cda0595f224a9707a28ae4f1e140197f8febb15ab51e29c92d99b76e2ad"
   ]
  },
  {
   "cell_type": "code",
   "execution_count": null,
   "id": "5f5b2096",
   "metadata": {
    "hidden": true
   },
   "outputs": [],
   "source": [
    "token"
   ]
  },
  {
   "cell_type": "code",
   "execution_count": null,
   "id": "a6c4927f",
   "metadata": {
    "hidden": true
   },
   "outputs": [],
   "source": [
    "data = get_data(session=token,day=3,year=2022)"
   ]
  },
  {
   "cell_type": "code",
   "execution_count": null,
   "id": "70b9f08d",
   "metadata": {
    "hidden": true,
    "scrolled": true
   },
   "outputs": [],
   "source": [
    "data_split = data.split(sep='\\n')\n",
    "\n",
    "len(data_split)"
   ]
  },
  {
   "cell_type": "code",
   "execution_count": null,
   "id": "069a835e",
   "metadata": {
    "hidden": true
   },
   "outputs": [],
   "source": [
    "rucksack_sizes = [len(data) for data in data_split]"
   ]
  },
  {
   "cell_type": "code",
   "execution_count": null,
   "id": "6d8f7307",
   "metadata": {
    "hidden": true
   },
   "outputs": [],
   "source": [
    "data_split[0]\n",
    "\n",
    "data_split[0][:int(len(data_split[0])/2)]\n",
    "\n",
    "data_split[0][int(len(data_split[0])/2):]"
   ]
  },
  {
   "cell_type": "code",
   "execution_count": null,
   "id": "47d3ce0e",
   "metadata": {
    "hidden": true
   },
   "outputs": [],
   "source": [
    "rucksacks = []\n",
    "\n",
    "for rucksack in data_split:\n",
    "    \n",
    "    rucksack_size = int(len(rucksack)/2)\n",
    "    \n",
    "    temp_list = []\n",
    "    \n",
    "    temp_list.append(rucksack[:rucksack_size])\n",
    "    temp_list.append(rucksack[rucksack_size:])\n",
    "    \n",
    "    if len(temp_list[0]) != len(temp_list[1]):\n",
    "        \n",
    "        break\n",
    "        \n",
    "    rucksacks.append(temp_list) "
   ]
  },
  {
   "cell_type": "code",
   "execution_count": null,
   "id": "979bab14",
   "metadata": {
    "hidden": true
   },
   "outputs": [],
   "source": [
    "len(rucksacks)"
   ]
  },
  {
   "cell_type": "code",
   "execution_count": null,
   "id": "ff7bd7e7",
   "metadata": {
    "hidden": true
   },
   "outputs": [],
   "source": [
    "test_sack = rucksacks[1]\n",
    "\n",
    "test_sack"
   ]
  },
  {
   "cell_type": "code",
   "execution_count": null,
   "id": "ebe80574",
   "metadata": {
    "hidden": true
   },
   "outputs": [],
   "source": [
    "import string"
   ]
  },
  {
   "cell_type": "code",
   "execution_count": null,
   "id": "f1a9c5db",
   "metadata": {
    "hidden": true
   },
   "outputs": [],
   "source": [
    "string.ascii_letters.index('a')"
   ]
  },
  {
   "cell_type": "code",
   "execution_count": null,
   "id": "85161c30",
   "metadata": {
    "hidden": true,
    "scrolled": true
   },
   "outputs": [],
   "source": [
    "priority_scores = []\n",
    "\n",
    "for sack in rucksacks:\n",
    "    \n",
    "    common_value = list(set(sack[0]).intersection(sack[1]))[0]\n",
    "        \n",
    "    priority_score = string.ascii_letters.index(common_value) + 1\n",
    "    \n",
    "    priority_scores.append(priority_score)\n",
    "    \n",
    "sum(priority_scores)"
   ]
  },
  {
   "cell_type": "markdown",
   "id": "b73cf7f0",
   "metadata": {
    "hidden": true
   },
   "source": [
    "### Test"
   ]
  },
  {
   "cell_type": "code",
   "execution_count": null,
   "id": "2bb10662",
   "metadata": {
    "hidden": true
   },
   "outputs": [],
   "source": [
    "# 16 (p), 38 (L), 42 (P), 22 (v), 20 (t), and 19 (s)\n",
    "\n",
    "test_case = ['p','L','P','v','t','s']\n",
    "\n",
    "test_priority_scores = []\n",
    "\n",
    "for test in test_case:\n",
    "    \n",
    "    test_priority_score = string.ascii_letters.index(test) + 1\n",
    "    \n",
    "    print(test_priority_score)\n",
    "    \n",
    "    test_priority_scores.append(test_priority_score)\n",
    "\n",
    "sum(test_priority_scores)"
   ]
  },
  {
   "cell_type": "markdown",
   "id": "9ba2ae94",
   "metadata": {
    "hidden": true
   },
   "source": [
    "## Part ii"
   ]
  },
  {
   "cell_type": "code",
   "execution_count": null,
   "id": "83ed50e6",
   "metadata": {
    "hidden": true
   },
   "outputs": [],
   "source": [
    "data_split"
   ]
  },
  {
   "cell_type": "code",
   "execution_count": null,
   "id": "f94c83d8",
   "metadata": {
    "hidden": true
   },
   "outputs": [],
   "source": [
    "badge_values = []"
   ]
  },
  {
   "cell_type": "code",
   "execution_count": null,
   "id": "a3b9db19",
   "metadata": {
    "hidden": true
   },
   "outputs": [],
   "source": [
    "for i in range(0,len(data_split),3):\n",
    "    \n",
    "#     print(i)\n",
    "    \n",
    "    temp_group = []\n",
    "    \n",
    "    temp_group.append(data_split[i])\n",
    "    temp_group.append(data_split[i+1])\n",
    "    temp_group.append(data_split[i+2])\n",
    "    \n",
    "    badge = set(temp_group[0]) & set(temp_group[1]) & set(temp_group[2])\n",
    "    \n",
    "    badge_score = string.ascii_letters.index(list(badge)[0]) + 1\n",
    "    \n",
    "#     print(badge_score)\n",
    "    \n",
    "    badge_values.append(badge_score)"
   ]
  },
  {
   "cell_type": "code",
   "execution_count": null,
   "id": "30b3fcde",
   "metadata": {
    "hidden": true,
    "scrolled": true
   },
   "outputs": [],
   "source": [
    "len(badge_values)"
   ]
  },
  {
   "cell_type": "code",
   "execution_count": null,
   "id": "73ea5c93",
   "metadata": {
    "hidden": true
   },
   "outputs": [],
   "source": [
    "sum(badge_values)"
   ]
  },
  {
   "cell_type": "markdown",
   "id": "ae87a887",
   "metadata": {
    "heading_collapsed": true
   },
   "source": [
    "# Day 4"
   ]
  },
  {
   "cell_type": "markdown",
   "id": "4e4ec4a3",
   "metadata": {
    "hidden": true
   },
   "source": [
    "## Part i"
   ]
  },
  {
   "cell_type": "code",
   "execution_count": null,
   "id": "e322fb97",
   "metadata": {
    "hidden": true
   },
   "outputs": [],
   "source": [
    "token_file = !cat /Users/mischadhar/.config/aocd/token/token.txt\n",
    "\n",
    "token = token_file[0]"
   ]
  },
  {
   "cell_type": "code",
   "execution_count": null,
   "id": "104802de",
   "metadata": {
    "hidden": true
   },
   "outputs": [],
   "source": [
    "data = get_data(session=token,day=4,year=2022)"
   ]
  },
  {
   "cell_type": "code",
   "execution_count": null,
   "id": "d529fdb4",
   "metadata": {
    "hidden": true
   },
   "outputs": [],
   "source": [
    "data = data.split(sep='\\n')\n",
    "\n",
    "(data[0:2])"
   ]
  },
  {
   "cell_type": "code",
   "execution_count": null,
   "id": "42852196",
   "metadata": {
    "hidden": true
   },
   "outputs": [],
   "source": [
    "import re\n",
    "\n",
    "temp_lst = []\n",
    "\n",
    "for area in data:\n",
    "    \n",
    "    split = re.split(',| |\\-', area)\n",
    "    \n",
    "    elf1 = [int(x) for x in split[:2]]\n",
    "    elf2 = [int(x) for x in split[2:]]\n",
    "    \n",
    "    \n",
    "    range1 = list(range(elf1[0],elf1[1]+1))\n",
    "    range2 = list(range(elf2[0],elf2[1]+1))\n",
    "    \n",
    "    response = 0\n",
    "    \n",
    "    if set(range1).issubset(range2) or set(range2).issubset(range1):\n",
    "        \n",
    "        response = 1\n",
    "        \n",
    "    temp_lst.append(response)"
   ]
  },
  {
   "cell_type": "code",
   "execution_count": null,
   "id": "3dc440a3",
   "metadata": {
    "hidden": true
   },
   "outputs": [],
   "source": [
    "sum(temp_lst)"
   ]
  },
  {
   "cell_type": "code",
   "execution_count": null,
   "id": "14aebcaa",
   "metadata": {
    "hidden": true
   },
   "outputs": [],
   "source": [
    "list(range(3,4))"
   ]
  },
  {
   "cell_type": "code",
   "execution_count": null,
   "id": "0dae0d46",
   "metadata": {
    "hidden": true
   },
   "outputs": [],
   "source": [
    "import re\n",
    "\n",
    "count_val = 0\n",
    "\n",
    "for area in data:\n",
    "    \n",
    "    split = re.split(',| |\\-', area)\n",
    "    \n",
    "    elf1 = [int(x) for x in split[:2]]\n",
    "    elf2 = [int(x) for x in split[2:]]\n",
    "    \n",
    "    range1 = list(range(elf1[0],elf1[1]+1))\n",
    "    range2 = list(range(elf2[0],elf2[1]+1))\n",
    "    \n",
    "    response = 0\n",
    "    \n",
    "    intersection = len(list(set(range1).intersection(range2)))\n",
    "        \n",
    "    if len(list(set(range1).intersection(range2)))>0:\n",
    "        \n",
    "        count_val += 1\n",
    "        \n",
    "count_val"
   ]
  },
  {
   "cell_type": "markdown",
   "id": "6a2c9097",
   "metadata": {
    "heading_collapsed": true
   },
   "source": [
    "# Day 5"
   ]
  },
  {
   "cell_type": "markdown",
   "id": "6b8a8baa",
   "metadata": {
    "hidden": true
   },
   "source": [
    "## Part i"
   ]
  },
  {
   "cell_type": "code",
   "execution_count": null,
   "id": "6cc85df9",
   "metadata": {
    "hidden": true
   },
   "outputs": [],
   "source": [
    "from aocd import get_data\n",
    "\n",
    "token_file = !cat /Users/mischadhar/.config/aocd/token/token.txt\n",
    "\n",
    "token = token_file[0]\n",
    "\n",
    "data = get_data(session=token,day=5,year=2022)"
   ]
  },
  {
   "cell_type": "code",
   "execution_count": null,
   "id": "afe9bcdb",
   "metadata": {
    "hidden": true
   },
   "outputs": [],
   "source": [
    "data = data.split(sep='\\n')\n",
    "\n",
    "data_instructions = data[10:]\n",
    "\n",
    "data_main = data[:9]"
   ]
  },
  {
   "cell_type": "code",
   "execution_count": null,
   "id": "996d2a85",
   "metadata": {
    "hidden": true
   },
   "outputs": [],
   "source": [
    "data_main"
   ]
  },
  {
   "cell_type": "code",
   "execution_count": null,
   "id": "4c0fecbb",
   "metadata": {
    "hidden": true
   },
   "outputs": [],
   "source": [
    "Stack1 = 'TPZCSLQN'\n",
    "Stack2 = 'LPTVHCG'\n",
    "Stack3 = 'DCZF'\n",
    "Stack4 = 'GWTDLMVC'\n",
    "Stack5 = 'PWC'\n",
    "Stack6 = 'PFJDCTSZ'\n",
    "Stack7 = 'VWGBD'\n",
    "Stack8 = 'NJSQHW'\n",
    "Stack9 = 'RCQJSLV'"
   ]
  },
  {
   "cell_type": "code",
   "execution_count": null,
   "id": "cade0e2b",
   "metadata": {
    "hidden": true
   },
   "outputs": [],
   "source": [
    "Stacks = []\n",
    "\n",
    "Stacks.append([char for char in Stack1])\n",
    "Stacks.append([char for char in Stack2])\n",
    "Stacks.append([char for char in Stack3])\n",
    "Stacks.append([char for char in Stack4])\n",
    "Stacks.append([char for char in Stack5])\n",
    "Stacks.append([char for char in Stack6])\n",
    "Stacks.append([char for char in Stack7])\n",
    "Stacks.append([char for char in Stack8])\n",
    "Stacks.append([char for char in Stack9])"
   ]
  },
  {
   "cell_type": "code",
   "execution_count": null,
   "id": "9008e952",
   "metadata": {
    "hidden": true,
    "scrolled": true
   },
   "outputs": [],
   "source": [
    "Stacks"
   ]
  },
  {
   "cell_type": "code",
   "execution_count": null,
   "id": "1cd7ac33",
   "metadata": {
    "hidden": true
   },
   "outputs": [],
   "source": [
    "for instruction in data_instructions:\n",
    "    \n",
    "    tmp = instruction.split()\n",
    "    \n",
    "    moves_ = int(tmp[1]) \n",
    "    from_ = int(tmp[3])\n",
    "    to_ = int(tmp[5])\n",
    "    \n",
    "    for i in range(moves_):\n",
    "        \n",
    "        to_move = Stacks[from_-1].pop()\n",
    "        Stacks[to_-1].append(to_move)\n",
    "        \n",
    "Stacks"
   ]
  },
  {
   "cell_type": "code",
   "execution_count": null,
   "id": "aaf422d4",
   "metadata": {
    "hidden": true
   },
   "outputs": [],
   "source": [
    "final_items = [stack[-1:] for stack in Stacks]"
   ]
  },
  {
   "cell_type": "code",
   "execution_count": null,
   "id": "2901816b",
   "metadata": {
    "hidden": true
   },
   "outputs": [],
   "source": [
    "final_items"
   ]
  },
  {
   "cell_type": "markdown",
   "id": "9aecdc4c",
   "metadata": {
    "hidden": true
   },
   "source": [
    "## Part ii"
   ]
  },
  {
   "cell_type": "code",
   "execution_count": null,
   "id": "a6ad436d",
   "metadata": {
    "hidden": true
   },
   "outputs": [],
   "source": [
    "Stacks = []\n",
    "\n",
    "Stacks.append([char for char in Stack1])\n",
    "Stacks.append([char for char in Stack2])\n",
    "Stacks.append([char for char in Stack3])\n",
    "Stacks.append([char for char in Stack4])\n",
    "Stacks.append([char for char in Stack5])\n",
    "Stacks.append([char for char in Stack6])\n",
    "Stacks.append([char for char in Stack7])\n",
    "Stacks.append([char for char in Stack8])\n",
    "Stacks.append([char for char in Stack9])"
   ]
  },
  {
   "cell_type": "code",
   "execution_count": null,
   "id": "33ff26ff",
   "metadata": {
    "hidden": true,
    "scrolled": true
   },
   "outputs": [],
   "source": [
    "Stacks"
   ]
  },
  {
   "cell_type": "code",
   "execution_count": null,
   "id": "99c50d83",
   "metadata": {
    "hidden": true
   },
   "outputs": [],
   "source": [
    "for instruction in data_instructions:\n",
    "    \n",
    "    print(instruction)\n",
    "    \n",
    "    tmp = instruction.split()\n",
    "    \n",
    "    moves_ = int(tmp[1]) \n",
    "    from_ = int(tmp[3])\n",
    "    to_ = int(tmp[5])\n",
    "    \n",
    "    bottom_crate = (len(Stacks[from_-1]) - moves_)\n",
    "    \n",
    "    crates_ = Stacks[from_-1][bottom_crate:]\n",
    "    \n",
    "#     print('from',Stacks[from_-1])\n",
    "#     print('to',Stacks[to_-1])\n",
    "#     print('crates',crates_)\n",
    "    \n",
    "    Stacks[from_-1] = Stacks[from_-1][:bottom_crate]\n",
    "    \n",
    "    for crate in crates_:\n",
    "        \n",
    "        Stacks[to_-1].append(crate)\n",
    "    \n",
    "#     print('from (post)',Stacks[from_-1])\n",
    "#     print('to (post)',Stacks[to_-1])\n",
    "#     break\n",
    "        \n"
   ]
  },
  {
   "cell_type": "code",
   "execution_count": null,
   "id": "25063ec3",
   "metadata": {
    "hidden": true
   },
   "outputs": [],
   "source": [
    "final_items = [stack[-1:] for stack in Stacks]\n",
    "\n",
    "final_items"
   ]
  },
  {
   "cell_type": "markdown",
   "id": "fddd8f69",
   "metadata": {
    "heading_collapsed": true
   },
   "source": [
    "# Day 6 "
   ]
  },
  {
   "cell_type": "markdown",
   "id": "5e7655ea",
   "metadata": {
    "hidden": true
   },
   "source": [
    "## Part i"
   ]
  },
  {
   "cell_type": "code",
   "execution_count": null,
   "id": "b3996e45",
   "metadata": {
    "hidden": true
   },
   "outputs": [],
   "source": [
    "from aocd import get_data\n",
    "\n",
    "token_file = !cat /Users/mischadhar/.config/aocd/token/token.txt\n",
    "\n",
    "token = token_file[0]\n",
    "\n",
    "data = get_data(session=token,day=6,year=2022)"
   ]
  },
  {
   "cell_type": "code",
   "execution_count": null,
   "id": "ab23c918",
   "metadata": {
    "hidden": true
   },
   "outputs": [],
   "source": [
    "len(data)"
   ]
  },
  {
   "cell_type": "code",
   "execution_count": null,
   "id": "0016a93a",
   "metadata": {
    "hidden": true
   },
   "outputs": [],
   "source": [
    "windows = [data[i:i+4] for i in range(len(data)-4)]\n",
    "\n",
    "for i in range(len(data)-14):\n",
    "    \n",
    "    window = data[i:i+14]\n",
    "    \n",
    "    if len(list(set(window).intersection(window))) == 14:\n",
    "        \n",
    "        print(i+14)\n",
    "        \n",
    "        break\n",
    "\n"
   ]
  },
  {
   "cell_type": "markdown",
   "id": "0b1dc791",
   "metadata": {
    "heading_collapsed": true
   },
   "source": [
    "# Day 7"
   ]
  },
  {
   "cell_type": "markdown",
   "id": "dc30ffb8",
   "metadata": {
    "hidden": true
   },
   "source": [
    "## Part i"
   ]
  },
  {
   "cell_type": "code",
   "execution_count": 9,
   "id": "cd6f1a17",
   "metadata": {
    "hidden": true
   },
   "outputs": [],
   "source": [
    "from aocd import get_data\n",
    "\n",
    "token_file = !cat /Users/mischadhar/.config/aocd/token/token.txt\n",
    "\n",
    "token = token_file[0]\n",
    "\n",
    "data = get_data(session=token,day=7,year=2022)"
   ]
  },
  {
   "cell_type": "code",
   "execution_count": 10,
   "id": "a497760e",
   "metadata": {
    "hidden": true
   },
   "outputs": [],
   "source": [
    "data_split = data.split('\\n')"
   ]
  },
  {
   "cell_type": "code",
   "execution_count": null,
   "id": "0b4645f0",
   "metadata": {
    "hidden": true
   },
   "outputs": [],
   "source": [
    "test_data"
   ]
  },
  {
   "cell_type": "code",
   "execution_count": 11,
   "id": "e08d29f4",
   "metadata": {
    "hidden": true
   },
   "outputs": [],
   "source": [
    "from collections import defaultdict\n",
    "from itertools import accumulate\n",
    "\n",
    "\n",
    "dirs = defaultdict(int)\n",
    "\n",
    "for line in data_split:\n",
    "#     print(line)\n",
    "    match line.split():\n",
    "        case '$', 'cd', '/': curr = ['']\n",
    "        case '$', 'cd', '..': curr.pop()\n",
    "        case '$', 'cd', x: curr.append(x+'/')\n",
    "        case '$', 'ls': pass\n",
    "        case 'dir', _: pass\n",
    "        case size, _:\n",
    "            for p in accumulate(curr):\n",
    "#                 print(p)\n",
    "                dirs[p] += int(size)\n",
    "#                 print(dirs)\n",
    "                \n",
    "#     print(curr)"
   ]
  },
  {
   "cell_type": "code",
   "execution_count": 12,
   "id": "42749121",
   "metadata": {
    "hidden": true
   },
   "outputs": [
    {
     "name": "stdout",
     "output_type": "stream",
     "text": [
      "1611443 2086088\n"
     ]
    }
   ],
   "source": [
    "print(sum(s for s in dirs.values() if s <= 100_000),\n",
    "      min(s for s in dirs.values() if s >= dirs[''] - 40_000_000))"
   ]
  },
  {
   "cell_type": "code",
   "execution_count": null,
   "id": "b438f314",
   "metadata": {
    "hidden": true
   },
   "outputs": [],
   "source": [
    "print(sum(s for s in dirs.values() if s <= 100_000),\n",
    "      min(s for s in dirs.values() if s >= dirs[''] - 40_000_000))"
   ]
  },
  {
   "cell_type": "code",
   "execution_count": null,
   "id": "7852fe1f",
   "metadata": {
    "hidden": true
   },
   "outputs": [],
   "source": [
    "dirs"
   ]
  },
  {
   "cell_type": "markdown",
   "id": "068ae699",
   "metadata": {},
   "source": [
    "# Day 8"
   ]
  },
  {
   "cell_type": "markdown",
   "id": "923c0e3b",
   "metadata": {},
   "source": [
    "## Part i "
   ]
  },
  {
   "cell_type": "code",
   "execution_count": 54,
   "id": "ff8b2e73",
   "metadata": {},
   "outputs": [],
   "source": [
    "from aocd import get_data\n",
    "\n",
    "token_file = !cat /Users/mischadhar/.config/aocd/token/token.txt\n",
    "\n",
    "token = token_file[0]\n",
    "\n",
    "data = get_data(session=token,day=8,year=2022)"
   ]
  },
  {
   "cell_type": "code",
   "execution_count": 55,
   "id": "c7f4c371",
   "metadata": {},
   "outputs": [],
   "source": [
    "data_split = data.split('\\n')"
   ]
  },
  {
   "cell_type": "code",
   "execution_count": 66,
   "id": "58914d83",
   "metadata": {
    "scrolled": false
   },
   "outputs": [
    {
     "data": {
      "text/plain": [
       "'131210223122034201100050105424523044130411422315401641602244345313413050154142511210232230010113310'"
      ]
     },
     "execution_count": 66,
     "metadata": {},
     "output_type": "execute_result"
    }
   ],
   "source": [
    "data_split[0]"
   ]
  },
  {
   "cell_type": "code",
   "execution_count": 68,
   "id": "f55e6c0e",
   "metadata": {
    "scrolled": true
   },
   "outputs": [
    {
     "data": {
      "text/plain": [
       "array([1, 3, 1, 2, 1, 0, 2, 2, 3, 1, 2, 2, 0, 3, 4, 2, 0, 1, 1, 0, 0, 0,\n",
       "       5, 0, 1, 0, 5, 4, 2, 4, 5, 2, 3, 0, 4, 4, 1, 3, 0, 4, 1, 1, 4, 2,\n",
       "       2, 3, 1, 5, 4, 0, 1, 6, 4, 1, 6, 0, 2, 2, 4, 4, 3, 4, 5, 3, 1, 3,\n",
       "       4, 1, 3, 0, 5, 0, 1, 5, 4, 1, 4, 2, 5, 1, 1, 2, 1, 0, 2, 3, 2, 2,\n",
       "       3, 0, 0, 1, 0, 1, 1, 3, 3, 1, 0])"
      ]
     },
     "execution_count": 68,
     "metadata": {},
     "output_type": "execute_result"
    }
   ],
   "source": [
    "forest = np.array([[int(x) for x in list(line.strip())] for line in data_split])\n",
    "\n",
    "forest[0]"
   ]
  },
  {
   "cell_type": "code",
   "execution_count": 50,
   "id": "0bafc0e4",
   "metadata": {},
   "outputs": [],
   "source": [
    "import numpy as np\n",
    "\n",
    "forest = np.array([[int(x) for x in list(line.strip())] for line in data_split])\n",
    "\n",
    "def look_along(x):\n",
    "    return print(x > np.hstack((-1, np.maximum.accumulate(x)[:-1])))\n",
    "\n",
    "is_visible = np.apply_along_axis(look_along, 0, forest)\n",
    "# is_visible |= np.apply_along_axis(look_along, 1, forest)\n",
    "# is_visible |= np.apply_along_axis(look_along, 0, forest[::-1, :])[::-1, :]\n",
    "# is_visible |= np.apply_along_axis(look_along, 1, forest[:, ::-1])[:, ::-1]\n",
    "# print('Day 8, part 1:', is_visible.sum())"
   ]
  },
  {
   "cell_type": "code",
   "execution_count": 51,
   "id": "4edad6fe",
   "metadata": {},
   "outputs": [
    {
     "name": "stdout",
     "output_type": "stream",
     "text": [
      "[ True  True False False False False False False False False False False\n",
      " False False  True False False False False False False False  True False\n",
      " False False False False False False False False False False False False\n",
      " False False False False False False False False False False False False\n",
      " False False False  True False False False False False False False False\n",
      " False False False False False False False False False False False False\n",
      " False False False False False False False False False False False False\n",
      " False False False False False False False False False False False False\n",
      " False False False]\n",
      "[ True False False False False False False False False False  True False\n",
      " False False False False False False False False False False  True False\n",
      " False False False False False False False False False False False False\n",
      " False False False  True False False False False False False False False\n",
      " False False False False False False False False False False False False\n",
      " False False False False False False False False False False False False\n",
      " False False False False False False False False False False False False\n",
      " False False False False False False False False False False False False\n",
      " False False False]\n",
      "[ True False False False False False  True  True False False False False\n",
      " False False  True False False False  True False False False False False\n",
      " False False False False False False False False False False False False\n",
      " False False False False  True False False False False False False False\n",
      " False False False False False False False False False False False False\n",
      " False False False False False False False False False False False False\n",
      " False False False False False False False False False False False False\n",
      " False False False False False False False False False False False False\n",
      " False False False]\n",
      "[ True False  True  True False False  True False False False False False\n",
      " False False False False False False False False  True False False False\n",
      " False False False False False False False False  True False False False\n",
      " False False False False False False False False False False False False\n",
      " False False False False False False False False False False False False\n",
      " False False False False False False False False False False False False\n",
      " False False False False False False False False False False False False\n",
      " False False False False False False False False False False False False\n",
      " False False False]\n",
      "[ True  True False  True False False False False  True False False False\n",
      " False False False False False False  True False False False False False\n",
      " False False False False False False False False False False  True False\n",
      " False False False False False False False False False False False False\n",
      " False False False False False False False False False False False False\n",
      " False False False False False False False False False False False False\n",
      " False False False False False False False False False False False False\n",
      " False False False False False False False False False False False False\n",
      " False False False]\n",
      "[ True False False False False False  True False False False False False\n",
      " False False False False False False False False False False False False\n",
      "  True False False False  True False False False False False False False\n",
      " False False False False False False False False False False False False\n",
      " False False False False False False False False False False False False\n",
      " False False False False False False False False False False False False\n",
      " False False False False False False False False False False False False\n",
      " False False False False False False False False False False False False\n",
      " False False False]\n",
      "[ True False False  True False False False False False False False False\n",
      " False False False False False False False False False False False False\n",
      "  True False False False False False False False False  True False False\n",
      " False False False False False False False False False False False False\n",
      " False False False False False False False False False False False False\n",
      " False False False False False False False False False False False False\n",
      " False False False False False False False False False False False False\n",
      " False False False False False False False False False False False False\n",
      " False False False]\n",
      "[ True False  True False False False False False False False False False\n",
      " False False False False False False False False False False False False\n",
      " False False False False False False False False False  True False False\n",
      " False False False False False False False False False False  True False\n",
      " False False  True False False False False False False False False False\n",
      " False False False False False False False False False False False False\n",
      " False False False False False False False False False False False False\n",
      " False False False False False False False False False False False False\n",
      " False False False]\n",
      "[ True False  True False False False False False False False False False\n",
      " False False False False False False False False  True False False False\n",
      "  True False False False False False False False False False False False\n",
      " False False False False  True False False False False False False False\n",
      " False False False False False False False False False False False False\n",
      " False False False False False False False False False False False False\n",
      " False False False False False False False False False False False False\n",
      " False False False False False False False False False False False False\n",
      " False False False]\n",
      "[ True False False False False False False False False False False False\n",
      " False False False False  True False False False False False False False\n",
      " False False False False  True False False False False False False False\n",
      " False False False False False False  True False False False False False\n",
      " False False False False False False False False False False False False\n",
      " False False False False False False False False False False False False\n",
      " False False False False False False False False False False False False\n",
      " False False False False False False False False False False False False\n",
      " False False False]\n",
      "[ True  True False False False False False False False False False False\n",
      " False  True False False False False False False  True False False False\n",
      " False False False False False False False False False False False False\n",
      " False False False False False False False False False False False False\n",
      " False False False False  True False False False False False False False\n",
      " False False False False False False False False False False False False\n",
      " False False False False False False False False False False False False\n",
      " False False False False False False False False False False False False\n",
      " False False False]\n",
      "[ True  True False False False False False False False  True False False\n",
      " False False False False False False False  True False False False False\n",
      " False False False False False False False False False False False False\n",
      " False  True False False False False False False False False False False\n",
      " False False False False False False False False False False False False\n",
      " False False False False False False False False False False False False\n",
      " False False False False False False False False False False False False\n",
      " False False False False False False False False False False False False\n",
      " False False False]\n",
      "[ True False  True False  True False False  True False False False False\n",
      " False False False False False False False False False  True False False\n",
      " False False False False False False False False False False False False\n",
      " False False False False False False False False False False False  True\n",
      " False False False False False False False False False False False False\n",
      " False False False False False False False False False False False False\n",
      " False False False False False False False False False False False False\n",
      " False False False False False False False False False False False False\n",
      " False False False]\n",
      "[ True  True False False False False False False  True False False False\n",
      " False False False False False False False False False False False False\n",
      " False False False False False False  True False False False False False\n",
      " False False False False False False False False False False False False\n",
      " False False False False False False False False False False False False\n",
      " False False False False False False False False False False False False\n",
      " False False False False False False False False False False False False\n",
      " False False False False False False False False False False False False\n",
      " False False False]\n",
      "[ True False False False False False  True False False False False False\n",
      " False False False False False False False  True False False False False\n",
      " False False False False False  True False False False False False False\n",
      " False False False False False False False False False False False False\n",
      "  True False False False False False False False False False False False\n",
      " False False False False False False False False False False False False\n",
      " False False False False False False False False False False False False\n",
      " False False False False False False False False False False False False\n",
      " False False False]\n",
      "[ True False False False  True False False False False False False  True\n",
      " False False False False False False False False  True False False False\n",
      " False False  True False False False False False False False False False\n",
      " False False False False False False  True False False False False False\n",
      " False False False False False False False False False False False False\n",
      " False False False False False False False False False False False False\n",
      " False False False False False False False False False False False False\n",
      " False False False False False False False False False False False False\n",
      " False False False]\n",
      "[ True  True False False False  True False False False  True False False\n",
      " False False False False False  True False False False False False False\n",
      " False False  True False False False False False False False False False\n",
      " False False False  True False False False False False False False False\n",
      " False False False False False False False False False False False False\n",
      " False False False False False False False False False False False False\n",
      " False False False False False False False False False False False False\n",
      " False False False False False False False False False False False False\n",
      " False False False]\n",
      "[ True False False False  True False False False False False False False\n",
      "  True False False False False False False False False False False False\n",
      " False False False False False False False False False False False False\n",
      " False  True False False False False False False False False False False\n",
      " False False False False False False False False False False False False\n",
      " False False False False False False False False False False False False\n",
      " False False False False False False False False False False False False\n",
      " False False False False False False False False False False False False\n",
      " False False False]\n",
      "[ True  True  True False False False False False False False False False\n",
      " False False False False False False False False False  True False False\n",
      " False False False False False False False False False False False False\n",
      " False False False False False False False False False False False False\n",
      " False False False False False  True False False False False False False\n",
      " False False False False False False False False False False False False\n",
      " False False False False False False False False False False False False\n",
      " False False False False False False False False False False False False\n",
      " False False False]\n",
      "[ True False False  True False False False False False False False False\n",
      " False False  True False  True False False False False False False False\n",
      "  True False False False False False False False False False False False\n",
      " False False False False False False False False False False False False\n",
      " False  True False False False False False False False False False False\n",
      " False False False False False False False False False False False False\n",
      " False False False False False False False False False False False False\n",
      " False False False False False False False False False False False False\n",
      " False False False]\n",
      "[ True False False False  True False False False False False False False\n",
      " False False False False False False False False False False False False\n",
      " False False False False False  True False False False False False False\n",
      " False  True False False False False False False False False False False\n",
      " False False False False False False False False False False False False\n",
      " False False False False False False False False False False False False\n",
      " False False False False False False False False False False False False\n",
      " False False False False False False False False False False False False\n",
      " False False False]\n",
      "[ True  True False False False  True False False False False False False\n",
      " False False False  True False False False False False False False False\n",
      " False False False False  True  True False False False False False False\n",
      " False False False False False False False False False False False False\n",
      " False False False False False False False False False False False False\n",
      " False False False False False False False False False False False False\n",
      " False False False False False False False False False False False False\n",
      " False False False False False False False False False False False False\n",
      " False False False]\n",
      "[ True  True False False False False False False False False False False\n",
      " False  True False False False False False False False False False False\n",
      " False False False False False False False  True False False False False\n",
      " False False False False False False False False  True False False False\n",
      " False False False False False False False False False False False False\n",
      " False False False False False False False False False False False False\n",
      " False False False False False False False False False False False False\n",
      " False False False False False False False False False False False False\n",
      " False False False]\n",
      "[ True False  True False  True False False False False False False False\n",
      " False False  True False False False  True False False False False False\n",
      " False False False False False False  True False False False False False\n",
      " False False False False False False  True False False False False False\n",
      " False False False False False False False False False False False False\n",
      " False False False False False False False False False False False False\n",
      " False False False False False False False False False False False False\n",
      " False False False False False False False False False False False False\n",
      " False False False]\n",
      "[ True False  True False False False  True False  True False False False\n",
      " False False False False False False False False False False  True False\n",
      " False False  True False False False False False False False False False\n",
      " False False False False False False False False False False  True False\n",
      " False False False False False False False False False False False False\n",
      " False False False False False False False False False False False False\n",
      " False False False False False False False False False False False False\n",
      " False False False False False False False False False False False False\n",
      " False False False]\n",
      "[ True False False False False False False False  True False False False\n",
      "  True False False False False False False False False False False False\n",
      " False False False False False False False False False False False False\n",
      " False False False False False False False  True False False False False\n",
      " False False False False False False  True False False False False False\n",
      " False False False False False False False False False False False False\n",
      " False False False False False False False False False False False False\n",
      " False False False False False False False False False False False False\n",
      " False False False]\n",
      "[ True  True False  True  True False False False False False False False\n",
      " False False False False False  True False False False False False False\n",
      " False False False False False False False False False False False False\n",
      " False False False False  True False False False False False False False\n",
      "  True False False False False False False False False False False False\n",
      " False False False False False False False False False False False False\n",
      " False False False False False False False False False False False False\n",
      " False False False False False False False False False False False False\n",
      " False False False]\n",
      "[ True False False False False False False False False  True False False\n",
      " False False False False False False  True False False False False  True\n",
      " False False False False False False False False False False False  True\n",
      " False False False False False False False False False False False False\n",
      " False False False False False False False False False False False False\n",
      " False False False False False False False False False False False False\n",
      " False False False False False False False False False False False False\n",
      " False False False False False False False False False False False False\n",
      " False False False]\n",
      "[ True  True False False False False False False  True False False False\n",
      " False  True False False False False False False False False False False\n",
      " False False False False False False  True False False False False  True\n",
      " False False False False False False False False False False False False\n",
      " False False False False False False False False False False False False\n",
      " False False False False False False False False False False False False\n",
      " False False False False False False False False False False False False\n",
      " False False False False False False False False False False False False\n",
      " False False False]\n",
      "[ True  True False False False False False False  True False False False\n",
      " False False  True False False False False False False False False False\n",
      " False False False False False False False False False  True False False\n",
      " False False False False False False False False False False False False\n",
      " False False False False False False False False False False False False\n",
      " False False False False False False False False False False False False\n",
      " False False False False False False False False False False False False\n",
      " False False False False False False False False False False False False\n",
      " False False False]\n",
      "[ True  True  True False False False  True  True False False False False\n",
      " False False False False False  True False False False False False  True\n",
      " False False False False False False False  True False False False False\n",
      " False False False False False False False False False False False False\n",
      " False False False False False False False False False False False False\n",
      " False False False False False False False False False False False False\n",
      " False False False False False False False False False False False False\n",
      " False False False False False False False False False False False False\n",
      " False False False]\n",
      "[ True False False False False False False False False False False False\n",
      " False  True False False False False False  True False False False False\n",
      " False False False False False False False False  True False False False\n",
      "  True False False False False False False False False False False False\n",
      " False False False False False False False False False False False False\n",
      " False False False False False False False False False False False False\n",
      " False False False False False False False False False False False False\n",
      " False False False False False False False False False False False False\n",
      " False False False]\n",
      "[ True False False False False False False False  True False False False\n",
      " False False False False  True False False False False False  True False\n",
      " False False False False False False False False False False False False\n",
      " False False False  True False False False False False False False False\n",
      " False False False False False False False False False False False False\n",
      " False False False False False False False False False False False False\n",
      " False False False False False False False False False False False False\n",
      " False False False False False False False False False False False False\n",
      " False False False]\n",
      "[ True False  True False False  True False False False False False False\n",
      " False False False  True False False False False False  True False False\n",
      " False False False False False False False False False False False False\n",
      " False False False  True False False False False False False False False\n",
      " False False False False False False False False False False False False\n",
      " False False False False False False False False False False False False\n",
      " False False False False False False False False False False False False\n",
      " False False False False False False False False False False False False\n",
      " False False False]\n",
      "[ True False False False False False False False False False False False\n",
      " False  True  True False False False False  True False False False False\n",
      " False False False False False False  True False False False False False\n",
      " False False False False False False False False False False False False\n",
      " False False False False False False False False False False False False\n",
      " False False False False False False False False False False False False\n",
      " False False False False False False False False False False False False\n",
      " False False False False False False False False False False False False\n",
      " False False False]\n",
      "[ True False False False False False False False  True False False False\n",
      "  True False False False False False False False False False False False\n",
      " False False False False  True False False False False False False False\n",
      " False False False False False False False False False False False False\n",
      " False False False False False False False False False False False False\n",
      " False False False False False False False False False False False False\n",
      " False False False False False False False False False False False False\n",
      " False False False False False False False False False False False False\n",
      " False False False]\n",
      "[ True  True False  True False False False False False False False False\n",
      " False False False False False False False False False False False False\n",
      "  True False False False False False False False False  True False False\n",
      " False False False False False False False False False False False False\n",
      " False False False False False False False False False False False False\n",
      " False False False False False False False False False False False False\n",
      " False False False False False False False False False False False False\n",
      " False False False False False False False False False False False False\n",
      " False False False]\n",
      "[ True False  True False False False  True False False False False False\n",
      " False False False False  True  True False False False False False False\n",
      " False False False False  True False False False False False False False\n",
      " False False False False False False False False False False False False\n",
      " False False False False False False False False False False False False\n",
      " False False False False False False False False False False False False\n",
      " False False False False False False False False False False False False\n",
      " False False False False False False False False False False False False\n",
      " False False False]\n",
      "[ True  True False False False False False False False  True False False\n",
      " False False False False False False False False False False  True False\n",
      " False False False False False False False False False  True False False\n",
      " False False False False False False False False False False False False\n",
      " False False False False False False False False False False False False\n",
      " False False False False False False False False False False False False\n",
      " False False False False False False False False False False False False\n",
      " False False False False False False False False False False False False\n",
      " False False False]\n",
      "[ True False  True False False  True False False False False False False\n",
      " False False False False  True  True False False False False False False\n",
      " False False False False False  True False False False False False False\n",
      " False False False False False False False False False False False False\n",
      " False False False False False False False False False False False False\n",
      " False False False False False False False False False False False False\n",
      " False False False False False False False False False False False False\n",
      " False False False False False False False False False False False False\n",
      " False False False]\n",
      "[ True False False  True False False False False False False  True False\n",
      " False False False False  True False False False False False False  True\n",
      " False False False False False False False False False False False False\n",
      " False False False False False False False False False False False False\n",
      " False False False False False False False False False False False False\n",
      " False False False False False False False False False False False False\n",
      " False False False False False False False False False False False False\n",
      " False False False False False False False False False False False False\n",
      " False False False]\n",
      "[ True False  True False False False False False False  True False False\n",
      " False False False False False False False False False  True False False\n",
      "  True False False False False False False False False False False False\n",
      " False False False False False False False False False False False False\n",
      " False False False False False False False False False False False False\n",
      " False False False False False False False False False False False False\n",
      " False False False False False False False False False False False False\n",
      " False False False False False False False False False False False False\n",
      " False False False]\n",
      "[ True False False False False False  True False False False False False\n",
      " False False False  True False False False False False False False  True\n",
      " False False False False False False False False False False False False\n",
      " False False False False False False False False False False False False\n",
      " False False False False False False False False False False False False\n",
      " False False False False False False False False False False False False\n",
      " False False False False False False False False False False False False\n",
      " False False False False False False False False False False False False\n",
      " False False False]\n",
      "[ True  True False  True False False False False False  True False False\n",
      " False False False False False False False False False False False False\n",
      " False False False False False False False False  True False False False\n",
      " False False False False False False False False False False False False\n",
      " False False False False False False False False False False False False\n",
      " False False False False False False False False False False False False\n",
      " False False False False False False False False False False False False\n",
      " False False False False False False False False False False False False\n",
      " False False False]\n",
      "[ True False  True False False False False False False  True False False\n",
      " False False False False  True False False False False False False False\n",
      " False False False False False  True False False False False False False\n",
      " False False False False False False False False False False False False\n",
      " False False False False False False False False False False False False\n",
      " False False False False False False False False False False False False\n",
      " False False False False False False False False False False False False\n",
      " False False False False False False False False False False False False\n",
      " False False False]\n",
      "[ True  True False False False False False False False False False False\n",
      " False False  True False  True False False False False False False  True\n",
      " False False False False False False False False  True False False False\n",
      " False False False False False False False False False False False False\n",
      " False False False False False False False False False False False False\n",
      " False False False False False False False False False False False False\n",
      " False False False False False False False False False False False False\n",
      " False False False False False False False False False False False False\n",
      " False False False]\n",
      "[ True  True False  True False False False False False False False False\n",
      "  True False False False False False  True False False False False False\n",
      " False False False  True False False False False False False False False\n",
      " False False False False False False False False False False False False\n",
      " False False False False False False False False False False False False\n",
      " False False False False False False False False False False False False\n",
      " False False False False False False False False False False False False\n",
      " False False False False False False False False False False False False\n",
      " False False False]\n",
      "[ True  True  True False False False False False  True False False False\n",
      " False False False False False False False False False False False  True\n",
      " False False False False False  True False False False False False False\n",
      " False False False False False False False False False False False False\n",
      " False False False False False False False False False False False False\n",
      " False False False False False False False False False False False False\n",
      " False False False False False False False False False False False False\n",
      " False False False False False False False False False False False False\n",
      " False False False]\n",
      "[ True False False  True False  True False False False False False False\n",
      "  True False False False False False False False False False False  True\n",
      " False False False False False False False False False False False False\n",
      " False False False False False False False False False False False False\n",
      " False False False False False False False False False False False False\n",
      " False False False False False False False False False False False False\n",
      " False False False False False False False False False False False False\n",
      " False False False False False False False False False False False False\n",
      " False False False]\n",
      "[ True  True False False False False False  True False False False False\n",
      " False False False  True False False False False False False False False\n",
      " False  True False False False False False False False False False False\n",
      " False False False False False False False False False False False False\n",
      " False False False False False False False False False False False False\n",
      " False False False False False False False False False False False False\n",
      " False False False False False False False False False False False False\n",
      " False False False False False False False False False False False False\n",
      " False False False]\n",
      "[ True False False False False False False False False False False False\n",
      " False False  True False False False False False False False False  True\n",
      "  True False False False False False False False False False False False\n",
      " False False False False False False False False False False False False\n",
      " False False False False False False False False False False False False\n",
      " False False False False False False False False False False False False\n",
      " False False False False False False False False False False False False\n",
      " False False False False False False False False False False False False\n",
      " False False False]\n",
      "[ True False  True False False False False False False  True False False\n",
      " False False  True False False False False False False False False False\n",
      " False False False False  True False False False False False False False\n",
      " False False False False False False False False False False False False\n",
      " False False False False False False False False False False False False\n",
      " False False False False False False False False False False False False\n",
      " False False False False False False False False False False False False\n",
      " False False False False False False False False False False False False\n",
      " False False False]\n",
      "[ True  True False False  True False False False False False  True False\n",
      " False False False False False False False  True False False False  True\n",
      " False False False False False False False False False False False False\n",
      " False False False False False False False False False False False False\n",
      " False False False False False False False False False False False False\n",
      " False False False False False False False False False False False False\n",
      " False False False False False False False False False False False False\n",
      " False False False False False False False False False False False False\n",
      " False False False]\n",
      "[ True False False False False False False False False False False False\n",
      " False False False  True False False False False False False False False\n",
      "  True False False False False False False False False False False False\n",
      " False False False False False False False False False False False False\n",
      " False False False False False False False False False False False False\n",
      " False False False False False False False False False False False False\n",
      " False False False False False False False False False False False False\n",
      " False False False False False False False False False False False False\n",
      " False False False]\n",
      "[ True  True False False False False False False  True False False  True\n",
      " False False False False False False False False False False False False\n",
      " False False False False False  True False False False False False False\n",
      " False False False False False False False False False False False False\n",
      " False False False False False False False False False False False False\n",
      " False False False False False False False False False False False False\n",
      " False False False False False False False False False False False False\n",
      " False False False False False False False False False False False False\n",
      " False False False]\n",
      "[ True  True  True  True False False False False  True False False False\n",
      " False False False  True False False False False False False False False\n",
      " False False  True False False False False False False False False False\n",
      " False False False False False False False False False False False False\n",
      " False False False False False False False False False False False False\n",
      " False False False False False False False False False False False False\n",
      " False False False False False False False False False False False False\n",
      " False False False False False False False False False False False False\n",
      " False False False]\n",
      "[ True  True False False False False False False False False False False\n",
      " False False False False  True False False False False False False False\n",
      " False  True False False False False False False False False False False\n",
      " False False False False False False False False False False False False\n",
      " False False False False False False False False False False False False\n",
      " False False False False False False False False False False False False\n",
      " False False False False False False False False False False False False\n",
      " False False False False False False False False False False False False\n",
      " False False False]\n",
      "[ True  True False  True False False False False False False False False\n",
      " False False False  True False False False False False False False False\n",
      " False False False  True False False False False False False False False\n",
      " False False False False False False False False False False False False\n",
      " False False False False False False False False False False False False\n",
      " False False False False False False False False False False False False\n",
      " False False False False False False False False False False False False\n",
      " False False False False False False False False False False False False\n",
      " False False False]\n",
      "[ True  True False False False False False False False False False False\n",
      " False False False False False  True False False False False False False\n",
      "  True False False False False False False False False False False False\n",
      " False False False False False False  True False False False False False\n",
      " False False False False False False False False False False False False\n",
      " False False False False False False False False False False False False\n",
      " False False False False False False False False False False False False\n",
      " False False False False False False False False False False False False\n",
      " False False False]\n",
      "[ True False False False False False False False False False False False\n",
      " False False  True False False  True False False False False False False\n",
      " False False False False False False False False False False False False\n",
      " False False False False False False False  True False False False False\n",
      " False False False False False False False False False False False False\n",
      " False False False False False False False False False False False False\n",
      " False False False False False False False False False False False False\n",
      " False False False False False False False False False False False False\n",
      " False False False]\n",
      "[ True False False False False  True False False False False False False\n",
      " False False False False False  True False False False False False False\n",
      " False False False False  True False False False False False False False\n",
      " False False False False False False False False False False False False\n",
      " False False False False False False False False False False False False\n",
      " False False False False False False False False False False False False\n",
      " False False False False False False False False False False False False\n",
      " False False False False False False False False False False False False\n",
      " False False False]\n",
      "[ True  True False False  True False False False False False False False\n",
      " False False False False False False False False False False False False\n",
      " False  True False False False  True False False False False False False\n",
      " False False False False False False False False False False False False\n",
      " False False False False False False False False False False False False\n",
      " False False False False False False False False False False False False\n",
      " False False False False False False False False False False False False\n",
      " False False False False False False False False False False False False\n",
      " False False False]\n",
      "[ True  True False False False False False False False False  True False\n",
      " False False  True False False False False False False False False False\n",
      " False  True False False False False False False False False False False\n",
      " False False False False False False False False False False False False\n",
      " False False False False False False False False False False False False\n",
      " False False False False False False False False False False False False\n",
      " False False False False False False False False False False False False\n",
      " False False False False False False False False False False False False\n",
      " False False False]\n",
      "[ True False False False False False False False  True False False False\n",
      " False  True False False False  True False False False False False False\n",
      " False False False False False False False False False  True False False\n",
      " False False False False False False False False False False False False\n",
      " False False False False False False False False False False False False\n",
      " False False False False False False False False False False False False\n",
      " False False False False False False False False False False False False\n",
      " False False False False False False False False False False False False\n",
      " False False False]\n",
      "[ True False False  True False False False False False False False  True\n",
      " False False False False False False  True False False False False False\n",
      " False False False  True False False False False False False False False\n",
      " False False False False False False False False False False False False\n",
      " False False False False False False False False False False False False\n",
      " False False False False False False False False False False False False\n",
      " False False False False False False False False False False False False\n",
      " False False False False False False False False False False False False\n",
      " False False False]\n",
      "[ True False False False False False False False False  True False False\n",
      " False  True False False False  True False False False False False False\n",
      " False False  True False False False False False False False False False\n",
      " False False False False False False False False False False False False\n",
      " False False False False False False False False False False False False\n",
      " False False False False False False False False False False False False\n",
      " False False False False False False False False False False False False\n",
      " False False False False False False False False False False False False\n",
      " False False False]\n",
      "[ True  True False  True False False False False False False False False\n",
      " False False False False False False  True False False False False False\n",
      " False False False  True False False False False False False False False\n",
      " False False False False False False False False False False False False\n",
      " False False False False False False False False False False False False\n",
      " False False False False False False False False False False False False\n",
      " False False False False False False False False False False False False\n",
      " False False False False False False False False False False False False\n",
      " False False False]\n",
      "[ True False  True False False False False False False False False False\n",
      "  True False False False False False False  True False False False False\n",
      " False False False False False False False False False False False False\n",
      " False False False False False False  True False False False False False\n",
      " False False False False False False False False False False False False\n",
      " False False False False False False False False False False False False\n",
      " False False False False False False False False False False False False\n",
      " False False False False False False False False False False False False\n",
      " False False False]\n",
      "[ True False  True  True False  True False False False False False False\n",
      " False False False False False False False  True  True False False False\n",
      " False False False False  True False False False False False False False\n",
      " False False False False False False False False False False False False\n",
      " False False False False False False False False False False False False\n",
      " False False False False False False False False False False False False\n",
      " False False False False False False False False False False False False\n",
      " False False False False False False False False False False False False\n",
      " False False False]\n",
      "[ True False False  True False False False False False False False False\n",
      " False  True  True False False False False False False False False False\n",
      " False False False False False False False  True  True False False False\n",
      " False False False False False False False False False False False False\n",
      " False False False False False False False False False False False False\n",
      " False False False False False False False False False False False False\n",
      " False False False False False False False False False False False False\n",
      " False False False False False False False False False False False False\n",
      " False False False]\n",
      "[ True False False  True False False False  True False False False False\n",
      " False False False False False False False  True False False False False\n",
      " False False False False False False  True False False False False False\n",
      " False False False False False False False False False False False False\n",
      " False False False False False False False False False False False False\n",
      " False False False False False False False False False False False False\n",
      " False False False False False False False False False False False False\n",
      " False False False False False False False False False False False False\n",
      " False False False]\n",
      "[ True False False False False  True False False False False False False\n",
      " False False False False False False  True False False  True False False\n",
      " False False False False False False False False False  True False False\n",
      " False False False False False False False False False False False False\n",
      " False False False False False False False False False False False False\n",
      " False False False False False False False False False False False False\n",
      " False False False False False False False False False False False False\n",
      " False False False False False False False False False False False False\n",
      " False False False]\n",
      "[ True  True False False False False  True False False False False False\n",
      " False False False False  True False False False False False  True False\n",
      " False False False False False False False False  True False False False\n",
      " False False False False False False False False False False False False\n",
      " False False False False False False False False False False False False\n",
      " False False False False False False False False False False False False\n",
      " False False False False False False False False False False False False\n",
      " False False False False False False False False False False False False\n",
      " False False False]\n",
      "[ True False False False False False False False False False False  True\n",
      " False False False False False False False False False  True False  True\n",
      " False False False False False False False False False False False False\n",
      " False False False False False  True False False False False False False\n",
      " False False False False False False False False False False False False\n",
      " False False False False False False False False False False False False\n",
      " False False False False False False False False False False False False\n",
      " False False False False False False False False False False False False\n",
      " False False False]\n",
      "[ True  True False False False False False False  True False  True False\n",
      " False False  True False False False False False False False False False\n",
      " False False False False False False False False False False False False\n",
      " False False False  True False False False False False False False False\n",
      " False False False False False False False False False False False False\n",
      " False False False False False False False False False False False False\n",
      " False False False False False False False False False False False False\n",
      " False False False False False False False False False False False False\n",
      " False False False]\n",
      "[ True  True False False  True False False False False False False False\n",
      " False False False False  True False False False False False False False\n",
      " False  True False False False False False False False False  True False\n",
      " False False  True False False False False False False False False False\n",
      " False False False False False False False False False False False False\n",
      " False False False False False False False False False False False False\n",
      " False False False False False False False False False False False False\n",
      " False False False False False False False False False False False False\n",
      " False False False]\n",
      "[ True  True False False False False False False  True False False False\n",
      " False False False False False False False False False False False False\n",
      " False False False False  True False False False False False False False\n",
      "  True False False  True False False False False False False False False\n",
      " False False False False False False False False False False False False\n",
      " False False False False False False False False False False False False\n",
      " False False False False False False False False False False False False\n",
      " False False False False False False False False False False False False\n",
      " False False False]\n",
      "[ True False  True False False False  True False False False False False\n",
      " False False False False False False False False False False False  True\n",
      " False False False  True False False False False False False False False\n",
      " False False False False False False False False False False False False\n",
      " False False False False False  True False False False False False False\n",
      " False False False False False False False False False False False False\n",
      " False False False False False False False False False False False False\n",
      " False False False False False False False False False False False False\n",
      " False False False]\n",
      "[ True False False False False False False False False False False False\n",
      " False False False False False False False False False False False  True\n",
      " False False False False False  True False False False False False False\n",
      " False False False False False False False False False False False False\n",
      " False False False False False False False False False False False False\n",
      " False False False False False False False False False False False False\n",
      " False False False False False False False False False False False False\n",
      " False False False False False False False False False False False False\n",
      " False False False]\n",
      "[ True  True False False False False False False False False False False\n",
      " False False False False False False False False False False  True False\n",
      " False False False False False False False False False False False False\n",
      " False False False False False False False False False False False False\n",
      "  True False False False False False False False False False False False\n",
      " False False False False False False False False False False False False\n",
      " False False False False False False False False False False False False\n",
      " False False False False False False False False False False False False\n",
      " False False False]\n",
      "[ True False False  True False False False False False False False  True\n",
      " False False False False False False False False False False False False\n",
      "  True False False False False False False False  True False False False\n",
      " False False False False False False False False False False False False\n",
      " False False False False False False False False False False False False\n",
      " False False False False False False False False False False False False\n",
      " False False False False False False False False False False False False\n",
      " False False False False False False False False False False False False\n",
      " False False False]\n",
      "[ True False  True False False False False False False False False False\n",
      " False False False False False False False False False False False  True\n",
      " False False False False False  True False False False False False False\n",
      " False  True False False False False False False False False False False\n",
      " False False False False False False False False False False False False\n",
      " False False False False False False False False False False False False\n",
      " False False False False False False False False False False False False\n",
      " False False False False False False False False False False False False\n",
      " False False False]\n",
      "[ True  True  True False False False False False False False False False\n",
      " False False False  True False False False False False False False False\n",
      " False False False False False False False False False False False False\n",
      " False False False  True False False False False False False False False\n",
      " False False False False False False False False False False False False\n",
      " False False False False False False False False False False False False\n",
      " False False False False False False False False False False False False\n",
      " False False False False False False False False False False False False\n",
      " False False False]\n",
      "[ True  True False False False False  True False False False False False\n",
      "  True False False False False  True False False False False False  True\n",
      " False False False False False False False False False False False False\n",
      " False False False False False False False False False  True False False\n",
      " False False False False False False False False False False False False\n",
      " False False False False False False False False False False False False\n",
      " False False False False False False False False False False False False\n",
      " False False False False False False False False False False False False\n",
      " False False False]\n",
      "[ True False False False False False False False False False False False\n",
      " False  True False False False False False False False False False False\n",
      " False False False False False False False False False False False False\n",
      " False False False False False False  True False False  True False False\n",
      " False False False False False False False False False False False False\n",
      " False False False False False False False False False False False False\n",
      " False False False False False False False False False False False False\n",
      " False False False False False False False False False False False False\n",
      " False False False]\n",
      "[ True False  True False False False False False False False False False\n",
      " False  True False False False False False False False False False False\n",
      " False False  True False False False False False False False False False\n",
      " False False False False False False False  True False False False False\n",
      " False False False False False False False False False False False False\n",
      " False False False False False False False False False False False False\n",
      " False False False False False False False False False False False False\n",
      " False False False False False False False False False False False False\n",
      " False False False]\n",
      "[ True False False False  True False  True False False  True False False\n",
      " False False False False  True False False False False False False False\n",
      " False False False False False False  True False False False False False\n",
      " False False False False False False False False False False False False\n",
      " False False  True False False False False False False False False False\n",
      " False False False False False False False False False False False False\n",
      " False False False False False False False False False False False False\n",
      " False False False False False False False False False False False False\n",
      " False False False]\n",
      "[ True  True False False False False False False  True False False False\n",
      " False False False False False False False  True False False False False\n",
      " False False False False False  True False False False False False False\n",
      " False False False False False False False False False False False False\n",
      " False False False False False False False False False False False False\n",
      " False False False False False False False False False False False False\n",
      " False False False False False False False False False False False False\n",
      " False False False False False False False False False False False False\n",
      " False False False]\n",
      "[ True False False False False  True False  True False False False False\n",
      " False False False False False False False False False False  True False\n",
      " False False False False False False False False False False  True False\n",
      " False False False False False False False False False False False False\n",
      " False False False False False False False False False False False False\n",
      " False False False False False False False False False False False False\n",
      " False False False False False False False False False False False False\n",
      " False False False False False False False False False False False False\n",
      " False False False]\n",
      "[ True False False  True False False False False  True False False False\n",
      " False False False False False False False False  True False False False\n",
      " False False False False False False False False False False False False\n",
      " False False False False False False False False False False False False\n",
      " False False False  True False False False False False False False False\n",
      " False False False False False False False False False False False False\n",
      " False False False False False False False False False False False False\n",
      " False False False False False False False False False False False False\n",
      " False False False]\n",
      "[ True False False  True  True  True False False False False  True False\n",
      " False False False False False False False False False False False False\n",
      " False False False False False False False False False False False False\n",
      "  True False False False False False False False False False False False\n",
      " False False False False False False False False False False False False\n",
      " False False False False False False False False False False False False\n",
      " False False False False False False False False False False False False\n",
      " False False False False False False False False False False False False\n",
      " False False False]\n",
      "[ True False False False False False False False False False False  True\n",
      " False False False False False False False False False False False False\n",
      " False False False False False False False False False False  True False\n",
      " False  True False False False False False False False False False False\n",
      " False False False False False False False False False False False False\n",
      " False False False False False False False False False False False False\n",
      " False False False False False False False False False False False False\n",
      " False False False False False False False False False False False False\n",
      " False False False]\n",
      "[ True  True False False False False False False False False False False\n",
      " False False False False False False False False False False  True False\n",
      " False False False False False  True False False False False False False\n",
      " False False False False  True False False False False False False False\n",
      " False False False False False False False False False False False False\n",
      " False False False False False False False False False False False False\n",
      " False False False False False False False False False False False False\n",
      " False False False False False False False False False False False False\n",
      " False False False]\n",
      "[ True  True False False False False  True False False False False False\n",
      " False False False False False False  True False False False False False\n",
      " False False False False False  True False False False False False False\n",
      " False False False False False False False False False False False False\n",
      " False False  True False False False False False False False False False\n",
      " False False False False False False False False False False False False\n",
      " False False False False False False False False False False False False\n",
      " False False False False False False False False False False False False\n",
      " False False False]\n",
      "[ True  True False  True False False False False False False False False\n",
      " False False False False False False False False False  True  True False\n",
      " False False False False False False False  True False False False False\n",
      " False False False False False False False False False False False False\n",
      " False False False False False False False False False False False False\n",
      " False False False False False False False False False False False False\n",
      " False False False False False False False False False False False False\n",
      " False False False False False False False False False False False False\n",
      " False False False]\n",
      "[ True False  True False False False False False False  True False False\n",
      " False False False False False False False False False False False False\n",
      "  True False False False False False  True False False False False False\n",
      " False False False False False False False False False False False False\n",
      " False False False False False False False False False False False False\n",
      " False False False False False False False False False False False False\n",
      " False False False False False False False False False False False False\n",
      " False False False False False False False False False False False False\n",
      " False False False]\n",
      "[ True  True  True False False  True False False False False False False\n",
      " False False False False False  True False False False False False False\n",
      " False False False False False False False False  True False False False\n",
      " False False False False False False False False False False False False\n",
      " False False False False False False False False False False False False\n",
      " False False False False False False False False False False False False\n",
      " False False False False False False False False False False False False\n",
      " False False False False False False False False False False False False\n",
      " False False False]\n",
      "[ True  True False False False False False False  True False False False\n",
      " False False False False False False False False False False False  True\n",
      " False False False False False False False False  True False False False\n",
      " False False False False False False False False False False False False\n",
      " False False False False False False False False False False False False\n",
      " False False False False False False False False False False False False\n",
      " False False False False False False False False False False False False\n",
      " False False False False False False False False False False False False\n",
      " False False False]\n",
      "[ True  True  True False False False False False False False False False\n",
      "  True False False False False False False False False False False False\n",
      "  True False False False False False False False False False False False\n",
      " False  True False False False False False False False False False False\n",
      " False False False False False False False False False False False False\n",
      " False False False False False False False False False False False False\n",
      " False False False False False False False False False False False False\n",
      " False False False False False False False False False False False False\n",
      " False False False]\n"
     ]
    },
    {
     "data": {
      "text/plain": [
       "array([None, None, None, None, None, None, None, None, None, None, None,\n",
       "       None, None, None, None, None, None, None, None, None, None, None,\n",
       "       None, None, None, None, None, None, None, None, None, None, None,\n",
       "       None, None, None, None, None, None, None, None, None, None, None,\n",
       "       None, None, None, None, None, None, None, None, None, None, None,\n",
       "       None, None, None, None, None, None, None, None, None, None, None,\n",
       "       None, None, None, None, None, None, None, None, None, None, None,\n",
       "       None, None, None, None, None, None, None, None, None, None, None,\n",
       "       None, None, None, None, None, None, None, None, None, None, None],\n",
       "      dtype=object)"
      ]
     },
     "execution_count": 51,
     "metadata": {},
     "output_type": "execute_result"
    }
   ],
   "source": [
    "np.apply_along_axis(look_along, 1, forest)"
   ]
  },
  {
   "cell_type": "code",
   "execution_count": null,
   "id": "3f815ad8",
   "metadata": {},
   "outputs": [],
   "source": []
  },
  {
   "cell_type": "code",
   "execution_count": 70,
   "id": "a2d77ebe",
   "metadata": {},
   "outputs": [
    {
     "name": "stdout",
     "output_type": "stream",
     "text": [
      "1647 392080\n"
     ]
    }
   ],
   "source": [
    "import numpy as np\n",
    "\n",
    "grid = np.array([list(x.strip()) for x in data_split], int)\n",
    "part1 = np.zeros_like(grid, int)\n",
    "part2 = np.ones_like(grid, int)\n",
    "\n",
    "for _ in range(4):\n",
    "    for x,y in np.ndindex(grid.shape):   \n",
    "            lower = [t < grid[x,y] for t in grid[x,y+1:]]\n",
    "    \n",
    "            part1[x,y] |= all(lower)\n",
    "            part2[x,y] *= next((i+1 for i,t in enumerate(lower) if ~t), len(lower))\n",
    "\n",
    "    grid, part1, part2 = map(np.rot90, [grid, part1, part2])\n",
    "\n",
    "print(part1.sum(), part2.max())"
   ]
  },
  {
   "cell_type": "code",
   "execution_count": 74,
   "id": "c4de2848",
   "metadata": {},
   "outputs": [],
   "source": [
    "from aocd import get_data\n",
    "\n",
    "token_file = !cat /Users/mischadhar/.config/aocd/token/token.txt\n",
    "\n",
    "token = token_file[0]\n",
    "\n",
    "data = get_data(session=token,day=9,year=2022)\n",
    "\n",
    "data_split = data.split('\\n')"
   ]
  },
  {
   "cell_type": "code",
   "execution_count": 75,
   "id": "48ead1b2",
   "metadata": {},
   "outputs": [
    {
     "name": "stdout",
     "output_type": "stream",
     "text": [
      "6339 2541\n"
     ]
    }
   ],
   "source": [
    "rope = [0] * 10\n",
    "seen = [set([x]) for x in rope]\n",
    "dirs = {'L':+1, 'R':-1, 'D':1j, 'U':-1j}\n",
    "sign = lambda x: complex((x.real>0) - (x.real<0), (x.imag>0) - (x.imag<0))\n",
    "\n",
    "for line in data_split:\n",
    "    for _ in range(int(line[2:])):\n",
    "        rope[0] += dirs[line[0]]\n",
    "\n",
    "        for i in range(1, 10):\n",
    "            dist = rope[i-1] - rope[i]\n",
    "            if abs(dist) >= 2:\n",
    "                rope[i] += sign(dist)\n",
    "                seen[i].add(rope[i])\n",
    "\n",
    "print(len(seen[1]), len(seen[9]))"
   ]
  },
  {
   "cell_type": "code",
   "execution_count": 76,
   "id": "4bebdc96",
   "metadata": {},
   "outputs": [],
   "source": [
    "from aocd import get_data\n",
    "\n",
    "token_file = !cat /Users/mischadhar/.config/aocd/token/token.txt\n",
    "\n",
    "token = token_file[0]\n",
    "\n",
    "data = get_data(session=token,day=10,year=2022)\n",
    "\n",
    "data_split = data.split('\\n')"
   ]
  },
  {
   "cell_type": "code",
   "execution_count": 80,
   "id": "d42d6e9c",
   "metadata": {},
   "outputs": [
    {
     "name": "stdout",
     "output_type": "stream",
     "text": [
      "13720 \n",
      " # # # #   # # #     #     #   # # #     #     #   # # # #     # #     #     #   #         #     #   #     #   #     #   #     #         #   #     #   #     #   # # #     # # #     #     #   #     #   # # # #       #     #         # # # #   #         #     #   #     #   # # #     #     #     #       #         #     #   #         #     #   #     #   #   #     #     #   #         #     #   #     #   #         # # #       # #     #     #   #     #   # # # #     # #     #     #    \n"
     ]
    }
   ],
   "source": [
    "from itertools import accumulate\n",
    "\n",
    "f = lambda x: int(x) if x[-1].isdigit() else 0\n",
    "xs = [*map(f, data.split())]\n",
    "\n",
    "part1, part2 = 0, '\\n'\n",
    "for i, x in enumerate(accumulate([1]+xs), 1):\n",
    "    part1 += i*x if i%40==20 else 0\n",
    "    part2 += '#' if (i-1)%40-x in [-1,0,1] else ' '\n",
    "\n",
    "print(part1, *part2)"
   ]
  },
  {
   "cell_type": "code",
   "execution_count": 82,
   "id": "ddeeb759",
   "metadata": {},
   "outputs": [
    {
     "name": "stdout",
     "output_type": "stream",
     "text": [
      "Part 1: 13720\n",
      "Part 2:\n",
      "#### ###  #  # ###  #  # ####  ##  #  # \n",
      "#    #  # #  # #  # #  #    # #  # #  # \n",
      "###  ###  #  # #  # ####   #  #    #### \n",
      "#    #  # #  # ###  #  #  #   #    #  # \n",
      "#    #  # #  # # #  #  # #    #  # #  # \n",
      "#    ###   ##  #  # #  # ####  ##  #  # \n"
     ]
    }
   ],
   "source": [
    "import itertools as it\n",
    "import sys\n",
    "\n",
    "instructions = (\n",
    "    instruction.split() for instruction in data_split\n",
    ")\n",
    "\n",
    "X, x = 1, None\n",
    "\n",
    "S = 0\n",
    "crt = [[\" \"] * 40 for _ in range(6)]\n",
    "for cycle in it.count(1):\n",
    "    if cycle in (20, 60, 100, 140, 180, 220):\n",
    "        S = S + cycle * X\n",
    "    \n",
    "    k = cycle - 1\n",
    "    if abs((k % 40) - X) <= 1:\n",
    "        crt[k // 40][k % 40] = \"#\"\n",
    "    \n",
    "    # Now, we can handle the instruction.\n",
    "    if x is not None:\n",
    "        X, x = X + x, None\n",
    "    else:\n",
    "        try:\n",
    "            op, *args = next(instructions)\n",
    "        except StopIteration:\n",
    "            break\n",
    "        \n",
    "        x = int(args[0]) if op == \"addx\" else None\n",
    "\n",
    "print(\"Part 1:\", S)\n",
    "print(\"Part 2:\")\n",
    "print(\"\\n\".join(\"\".join(ln) for ln in crt))"
   ]
  },
  {
   "cell_type": "code",
   "execution_count": 87,
   "id": "9fb4c030",
   "metadata": {},
   "outputs": [],
   "source": [
    "data = get_data(session=token,day=11,year=2022)\n",
    "\n",
    "# data_split = data.split('\\n')"
   ]
  },
  {
   "cell_type": "code",
   "execution_count": 88,
   "id": "fe7d8437",
   "metadata": {},
   "outputs": [
    {
     "name": "stdout",
     "output_type": "stream",
     "text": [
      "117624\n",
      "16792940265\n"
     ]
    }
   ],
   "source": [
    "import sys\n",
    "import math\n",
    "from copy import deepcopy\n",
    "from collections import defaultdict\n",
    "infile = sys.argv[1] if len(sys.argv)>1 else '11.in'\n",
    "# data = open(infile).read().strip()\n",
    "lines = [x for x in data.split('\\n')]\n",
    "\n",
    "M = []\n",
    "OP = []\n",
    "DIV = []\n",
    "TRUE = []\n",
    "FALSE = []\n",
    "for monkey in data.split('\\n\\n'):\n",
    "    id_, items, op, test, true, false = monkey.split('\\n')\n",
    "    M.append([int(i) for i in items.split(':')[1].split(',')])\n",
    "    words = op.split()\n",
    "    op = ''.join(words[-3:])\n",
    "    # the last 3 words of the input are a valid python function of the single variable \"old\"\n",
    "    OP.append(lambda old,op=op:eval(op))\n",
    "    DIV.append(int(test.split()[-1]))\n",
    "    TRUE.append(int(true.split()[-1]))\n",
    "    FALSE.append(int(false.split()[-1]))\n",
    "\n",
    "START = deepcopy(M)\n",
    "\n",
    "# Want to know for each item if it is divisible by e.g. 23,19,13,17\n",
    "# If we just wanted to know if its divisible by 23, we can just keep track of the number modulo 23.\n",
    "# x+a is divisible by 23 iff (x%23)+a is divisible by 23\n",
    "# x*a is divisible by 23 iff (x%23)*a is divisible by 23\n",
    "# We can keep track of the number modulo 23*19*13*17\n",
    "lcm = 1\n",
    "for x in DIV:\n",
    "    lcm = (lcm*x)#//math.gcd(lcm,x)\n",
    "#print(len(str(lcm)))\n",
    "\n",
    "for part in [1,2]:\n",
    "    C = [0 for _ in range(len(M))]\n",
    "    M = deepcopy(START)\n",
    "    for t in range(20 if part==1 else 10000):\n",
    "        for i in range(len(M)):\n",
    "            for item in M[i]:\n",
    "                #print(i,item)\n",
    "                C[i] += 1\n",
    "                item = OP[i](item)\n",
    "                if part == 2:\n",
    "                    item %= lcm\n",
    "                #print(i,item)\n",
    "                if part == 1:\n",
    "                    item = (item // 3)\n",
    "                #print(i,item,item%DIV[i],TRUE[i],FALSE[i])\n",
    "                if item % DIV[i] == 0:\n",
    "                    #print(f'Item {item} thrown to {TRUE[i]}')\n",
    "                    M[TRUE[i]].append(item)\n",
    "                else:\n",
    "                    #print(f'Item {item} thrown to {FALSE[i]}')\n",
    "                    M[FALSE[i]].append(item)\n",
    "            M[i] = []\n",
    "    print(sorted(C)[-1] * sorted(C)[-2])"
   ]
  },
  {
   "cell_type": "code",
   "execution_count": null,
   "id": "02ee5157",
   "metadata": {},
   "outputs": [],
   "source": [
    "data = get_data(session=token,day=12,year=2022)\n",
    "\n",
    "data_split = data.split('\\n')"
   ]
  },
  {
   "cell_type": "code",
   "execution_count": null,
   "id": "24bcee1d",
   "metadata": {},
   "outputs": [],
   "source": [
    "import time\n",
    " \n",
    "start_time=time.time()\n",
    " \n",
    "data=[]\n",
    "\n",
    "\n",
    "with open(\"input.txt\") as file:\n",
    "    for idx1,line in enumerate(file):\n",
    "        data.append([])\n",
    "        for idx2,char in enumerate(line.strip()):\n",
    "            data[idx1].append(char)\n",
    "            if char==\"S\":\n",
    "                S=(idx1,idx2)\n",
    "                data[S[0]][S[1]]=\"a\"\n",
    "            elif char==\"E\":\n",
    "                E=(idx1,idx2)\n",
    "                data[E[0]][E[1]]=\"z\"\n",
    " \n",
    " \n",
    "def BFS(data,start,end,part2):\n",
    "    dirs = [[0, 1], [0, -1], [1, 0], [-1, 0]]\n",
    "    \n",
    "    row = len(data)\n",
    "    col = len(data[0])\n",
    " \n",
    "    visited=[]\n",
    " \n",
    "    q = []\n",
    "    q.append(start)\n",
    " \n",
    "    v=[[0 for i in range(col)] for _ in range(row)]\n",
    "    \n",
    "    while(len(q) > 0) :\n",
    "        p = q[0]\n",
    "        q.pop(0)\n",
    "            \n",
    "        \n",
    "        if part2 and data[p[0]][p[1]]==\"a\":\n",
    "            return (v[p[0]][p[1]])\n",
    "        elif not part2 and p==end:\n",
    "            return v[end[0]][end[1]]\n",
    " \n",
    "        for i in range(4) :\n",
    "            a = p[0] + dirs[i][0]\n",
    "            b = p[1] + dirs[i][1]\n",
    " \n",
    "            if(a >= 0 and b >= 0 and a < row and b < col and (ord(data[a][b])>=ord((data[p[0]][p[1]])) or ord(data[a][b])+1==ord((data[p[0]][p[1]]))) and (a,b) not in visited):  \n",
    "                q.append((a, b))\n",
    "                visited.append((a,b))\n",
    "                v[a][b]=v[p[0]][p[1]]+1\n",
    " \n",
    "    return None\n",
    " \n",
    " \n",
    " \n",
    "print(\"Part 1:\",BFS(data,E,S,False))\n",
    "print(\"Part 2:\",BFS(data,E,S,True))\n",
    " \n",
    "end=time.time()\n",
    "print(\"Time:\", end-start_time)"
   ]
  }
 ],
 "metadata": {
  "kernelspec": {
   "display_name": "Python 3 (ipykernel)",
   "language": "python",
   "name": "python3"
  },
  "language_info": {
   "codemirror_mode": {
    "name": "ipython",
    "version": 3
   },
   "file_extension": ".py",
   "mimetype": "text/x-python",
   "name": "python",
   "nbconvert_exporter": "python",
   "pygments_lexer": "ipython3",
   "version": "3.10.6"
  },
  "toc": {
   "base_numbering": 1,
   "nav_menu": {},
   "number_sections": true,
   "sideBar": true,
   "skip_h1_title": false,
   "title_cell": "Table of Contents",
   "title_sidebar": "Contents",
   "toc_cell": false,
   "toc_position": {},
   "toc_section_display": true,
   "toc_window_display": true
  }
 },
 "nbformat": 4,
 "nbformat_minor": 5
}
