{
 "cells": [
  {
   "cell_type": "markdown",
   "id": "a543b4ec",
   "metadata": {},
   "source": [
    "# Imports "
   ]
  },
  {
   "cell_type": "code",
   "execution_count": 1,
   "id": "f57a02a1",
   "metadata": {},
   "outputs": [],
   "source": [
    "from aocd import get_data\n",
    "import numpy as np\n",
    "import pandas as pd\n",
    "import matplotlib.pyplot as plt\n",
    "import seaborn as sns"
   ]
  },
  {
   "cell_type": "code",
   "execution_count": 4,
   "id": "34f40d33",
   "metadata": {},
   "outputs": [
    {
     "data": {
      "text/plain": [
       "'53616c7465645f5f30e0d992ea63cabcc59f2eaaf4c3798bfd335b499b8f3230f6c32cda0595f224a9707a28ae4f1e140197f8febb15ab51e29c92d99b76e2ad'"
      ]
     },
     "execution_count": 4,
     "metadata": {},
     "output_type": "execute_result"
    }
   ],
   "source": [
    "token_file = !cat /Users/mischadhar/.config/aocd/token/token.txt\n",
    "\n",
    "token = token_file[0]\n",
    "\n",
    "token"
   ]
  },
  {
   "cell_type": "markdown",
   "id": "5cb74f5e",
   "metadata": {
    "heading_collapsed": true
   },
   "source": [
    "# Day 1"
   ]
  },
  {
   "cell_type": "code",
   "execution_count": null,
   "id": "c7ee61fb",
   "metadata": {
    "hidden": true
   },
   "outputs": [],
   "source": [
    "import pandas as pd\n",
    "import numpy as np\n",
    "from itertools import groupby"
   ]
  },
  {
   "cell_type": "markdown",
   "id": "b0bbb531",
   "metadata": {
    "hidden": true
   },
   "source": [
    "## Part i "
   ]
  },
  {
   "cell_type": "markdown",
   "id": "3eef8627",
   "metadata": {
    "hidden": true
   },
   "source": [
    "### Get data"
   ]
  },
  {
   "cell_type": "code",
   "execution_count": null,
   "id": "9044067d",
   "metadata": {
    "hidden": true
   },
   "outputs": [],
   "source": [
    "data_dir = '../raw_data/'"
   ]
  },
  {
   "cell_type": "code",
   "execution_count": null,
   "id": "21d47187",
   "metadata": {
    "hidden": true
   },
   "outputs": [],
   "source": [
    "with open(data_dir+'Day1_data.txt') as f:\n",
    "    data = f.readlines()"
   ]
  },
  {
   "cell_type": "markdown",
   "id": "bb622d0c",
   "metadata": {
    "hidden": true
   },
   "source": [
    "### Clean data"
   ]
  },
  {
   "cell_type": "code",
   "execution_count": null,
   "id": "6e800360",
   "metadata": {
    "hidden": true
   },
   "outputs": [],
   "source": [
    "data_clean = [data.replace('\\n','') for data in data]"
   ]
  },
  {
   "cell_type": "code",
   "execution_count": null,
   "id": "857c8a7a",
   "metadata": {
    "hidden": true
   },
   "outputs": [],
   "source": [
    "elves1 = [list(sub) for ele, sub in groupby(data_clean, key = bool) if ele]\n",
    "\n",
    "num_elves = [[int(numerics) for numerics in strings] for strings in elves1]"
   ]
  },
  {
   "cell_type": "code",
   "execution_count": null,
   "id": "2de558ba",
   "metadata": {
    "hidden": true
   },
   "outputs": [],
   "source": [
    "sum_elves = [sum(elf) for elf in num_elves]"
   ]
  },
  {
   "cell_type": "markdown",
   "id": "151b6aa2",
   "metadata": {
    "hidden": true
   },
   "source": [
    "### Get max value"
   ]
  },
  {
   "cell_type": "code",
   "execution_count": null,
   "id": "760ade99",
   "metadata": {
    "hidden": true
   },
   "outputs": [],
   "source": [
    "max_value = max(sum_elves)\n",
    "max_index = sum_elves.index(max_value)"
   ]
  },
  {
   "cell_type": "code",
   "execution_count": null,
   "id": "c159fc89",
   "metadata": {
    "hidden": true
   },
   "outputs": [],
   "source": [
    "max_index"
   ]
  },
  {
   "cell_type": "markdown",
   "id": "cf7816ae",
   "metadata": {
    "hidden": true
   },
   "source": [
    "### Find total calories"
   ]
  },
  {
   "cell_type": "code",
   "execution_count": null,
   "id": "58cf3098",
   "metadata": {
    "hidden": true
   },
   "outputs": [],
   "source": [
    "sum_elves[max_index]"
   ]
  },
  {
   "cell_type": "markdown",
   "id": "cad10ff4",
   "metadata": {
    "hidden": true
   },
   "source": [
    "## Part ii"
   ]
  },
  {
   "cell_type": "markdown",
   "id": "ef19e26e",
   "metadata": {
    "hidden": true
   },
   "source": [
    "### Find top three highest calories amounts"
   ]
  },
  {
   "cell_type": "code",
   "execution_count": null,
   "id": "bd7b8772",
   "metadata": {
    "hidden": true
   },
   "outputs": [],
   "source": [
    "index_values = [(i,x) for x,i in enumerate(sum_elves)]"
   ]
  },
  {
   "cell_type": "code",
   "execution_count": null,
   "id": "72b4fc1c",
   "metadata": {
    "hidden": true
   },
   "outputs": [],
   "source": [
    "top_three_elves = sorted(index_values, reverse=True)[0:3]\n",
    "\n",
    "elf_dict = {}\n",
    "\n",
    "for elf_cal, elf_id in top_three_elves:\n",
    "    \n",
    "    print(elf_id, elf_cal)\n",
    "    \n",
    "    elf_dict[elf_id] = elf_cal\n",
    "    \n",
    "\n",
    "# sum(elf_dict.values())\n",
    "sum(elf_dict.values())\n",
    "    "
   ]
  },
  {
   "cell_type": "code",
   "execution_count": null,
   "id": "501c1c1f",
   "metadata": {
    "hidden": true
   },
   "outputs": [],
   "source": [
    "top_three_elves = [elf[0] for elf in sorted(index_values,reverse=True)[0:3]]\n",
    "\n",
    "top_three_elves"
   ]
  },
  {
   "cell_type": "code",
   "execution_count": null,
   "id": "bfec4c2e",
   "metadata": {
    "hidden": true
   },
   "outputs": [],
   "source": [
    "sum(top_three_elves)"
   ]
  },
  {
   "cell_type": "markdown",
   "id": "d46cdff2",
   "metadata": {
    "heading_collapsed": true
   },
   "source": [
    "# Day 2"
   ]
  },
  {
   "cell_type": "markdown",
   "id": "fe3e5a3d",
   "metadata": {
    "hidden": true
   },
   "source": [
    "## Part i"
   ]
  },
  {
   "cell_type": "code",
   "execution_count": null,
   "id": "7ebc55e5",
   "metadata": {
    "hidden": true,
    "scrolled": false
   },
   "outputs": [],
   "source": [
    "df = pd.read_csv('../raw_data/Day2_data.csv'\n",
    "            , delim_whitespace=True\n",
    "            , header=None \n",
    "            , names=['Opponent','Response'])"
   ]
  },
  {
   "cell_type": "code",
   "execution_count": null,
   "id": "c229f58a",
   "metadata": {
    "hidden": true
   },
   "outputs": [],
   "source": [
    "choice_dict = {'A':'Rock'\n",
    "               , 'B':'Paper'\n",
    "               ,'C':'Scissors'\n",
    "               ,'X':'Rock'\n",
    "               ,'Y':'Paper'\n",
    "               ,'Z':'Scissors'}"
   ]
  },
  {
   "cell_type": "code",
   "execution_count": null,
   "id": "54bc1795",
   "metadata": {
    "hidden": true
   },
   "outputs": [],
   "source": [
    "df_clean = df.replace({'Opponent':choice_dict\n",
    "            ,'Response':choice_dict})\n",
    "\n",
    "df_clean.head()"
   ]
  },
  {
   "cell_type": "code",
   "execution_count": null,
   "id": "c16cc21e",
   "metadata": {
    "hidden": true
   },
   "outputs": [],
   "source": [
    "def score_calculator(row):\n",
    "        \n",
    "    combo_dict = {'loss':['RockPaper','PaperScissors','ScissorsRock'],\n",
    "                  'draw':['RockRock','PaperPaper','ScissorsScissors'],\n",
    "                  'win':['PaperRock','ScissorsPaper','RockScissors']}\n",
    "    \n",
    "    score_dict = {'win':[6],'draw':[3],'loss':[0]}\n",
    "    \n",
    "    choice_score_dict = {'Rock':1,'Paper':2,'Scissors':3}\n",
    "    \n",
    "    combination = row['Response'] + row['Opponent']\n",
    "    \n",
    "    score = 0\n",
    "        \n",
    "    if combination in combo_dict['win']:\n",
    "\n",
    "        score += 6 + choice_score_dict[row['Response']]\n",
    "              \n",
    "        \n",
    "    elif combination in combo_dict['draw']:\n",
    "        \n",
    "        score += 3 + choice_score_dict[row['Response']]\n",
    "        \n",
    "    elif combination in combo_dict['loss']:\n",
    "        \n",
    "        score += 0 + choice_score_dict[row['Response']]\n",
    "        \n",
    "    else:\n",
    "        \n",
    "        print('combo not valid')\n",
    "        \n",
    "    return score"
   ]
  },
  {
   "cell_type": "code",
   "execution_count": null,
   "id": "cce057c4",
   "metadata": {
    "hidden": true,
    "scrolled": false
   },
   "outputs": [],
   "source": [
    "df_clean['Score'] = df_clean.apply(lambda row: score_calculator(row),axis=1)"
   ]
  },
  {
   "cell_type": "code",
   "execution_count": null,
   "id": "4308e4e6",
   "metadata": {
    "hidden": true
   },
   "outputs": [],
   "source": [
    "df_clean.Score.sum()"
   ]
  },
  {
   "cell_type": "markdown",
   "id": "d98cea1f",
   "metadata": {
    "hidden": true
   },
   "source": [
    "### Test"
   ]
  },
  {
   "cell_type": "code",
   "execution_count": null,
   "id": "9dcf4e32",
   "metadata": {
    "hidden": true
   },
   "outputs": [],
   "source": [
    "test_df = pd.DataFrame({'Opponent':['Rock','Paper','Scissors'],'Response':['Paper','Rock','Scissors']})\n",
    "\n",
    "test_df['Score'] = test_df.apply(lambda row: score_calculator(row),axis=1)\n",
    "\n",
    "test_df.Score.sum()"
   ]
  },
  {
   "cell_type": "markdown",
   "id": "407e24dd",
   "metadata": {
    "hidden": true
   },
   "source": [
    "## Part ii"
   ]
  },
  {
   "cell_type": "markdown",
   "id": "0057e05c",
   "metadata": {
    "hidden": true
   },
   "source": [
    "X = Win\n",
    "\n",
    "Y = Draw\n",
    "\n",
    "Z = Lose"
   ]
  },
  {
   "cell_type": "code",
   "execution_count": null,
   "id": "33558a94",
   "metadata": {
    "hidden": true
   },
   "outputs": [],
   "source": [
    "choice_dict2 = {'A':'Rock'\n",
    "               , 'B':'Paper'\n",
    "               ,'C':'Scissors'\n",
    "               ,'X':'Lose'\n",
    "               ,'Y':'Draw'\n",
    "               ,'Z':'Win'}"
   ]
  },
  {
   "cell_type": "code",
   "execution_count": null,
   "id": "24af2617",
   "metadata": {
    "hidden": true
   },
   "outputs": [],
   "source": [
    "df2 = df.rename(columns={'Response':'Result'}).replace({'Opponent':choice_dict\n",
    "                                                        ,'Result':choice_dict2})"
   ]
  },
  {
   "cell_type": "code",
   "execution_count": null,
   "id": "26f0934f",
   "metadata": {
    "hidden": true
   },
   "outputs": [],
   "source": [
    "df2.head()"
   ]
  },
  {
   "cell_type": "code",
   "execution_count": null,
   "id": "1fb84db4",
   "metadata": {
    "hidden": true
   },
   "outputs": [],
   "source": [
    "def score_calculator2(row):\n",
    "                \n",
    "    combo_dict = {'RockLose':'Scissors', 'RockDraw':'Rock','RockWin':'Paper'\n",
    "                 ,'ScissorsLose':'Paper','ScissorsDraw':'Scissors','ScissorsWin':'Rock'\n",
    "                 ,'PaperLose':'Rock','PaperDraw':'Paper','PaperWin':'Scissors'}\n",
    "    \n",
    "    score_dict = {'Win':6,'Draw':3,'Lose':0}\n",
    "    \n",
    "    choice_score_dict = {'Rock':1,'Paper':2,'Scissors':3}\n",
    "    \n",
    "    combination = row['Opponent'] + row['Result']\n",
    "        \n",
    "    sign_played = combo_dict[combination]\n",
    "    \n",
    "    sign_score = choice_score_dict[sign_played]\n",
    "    round_score = score_dict[row['Result']]\n",
    "        \n",
    "    return sign_score + round_score"
   ]
  },
  {
   "cell_type": "code",
   "execution_count": null,
   "id": "3113db34",
   "metadata": {
    "hidden": true
   },
   "outputs": [],
   "source": [
    "df2['score'] = df2.apply(lambda row: score_calculator2(row),axis=1)"
   ]
  },
  {
   "cell_type": "code",
   "execution_count": null,
   "id": "85318326",
   "metadata": {
    "hidden": true
   },
   "outputs": [],
   "source": [
    "df2['score'].sum()"
   ]
  },
  {
   "cell_type": "code",
   "execution_count": null,
   "id": "7a24a728",
   "metadata": {
    "hidden": true
   },
   "outputs": [],
   "source": [
    "test_df = pd.DataFrame({'Opponent':['Rock','Paper','Scissors'],'Result':['Draw','Lose','Win']})\n",
    "\n",
    "test_df['Score'] = test_df.apply(lambda row: score_calculator2(row),axis=1)\n",
    "\n",
    "test_df.Score.sum()"
   ]
  },
  {
   "cell_type": "markdown",
   "id": "fa6741a6",
   "metadata": {
    "heading_collapsed": true
   },
   "source": [
    "# Day 3"
   ]
  },
  {
   "cell_type": "markdown",
   "id": "3c1973b0",
   "metadata": {
    "hidden": true
   },
   "source": [
    "## Part i "
   ]
  },
  {
   "cell_type": "code",
   "execution_count": null,
   "id": "ec36a639",
   "metadata": {
    "hidden": true
   },
   "outputs": [],
   "source": [
    "from aocd import get_data"
   ]
  },
  {
   "cell_type": "code",
   "execution_count": null,
   "id": "ef4808ee",
   "metadata": {
    "hidden": true
   },
   "outputs": [],
   "source": [
    "with open('/Users/mischadhar/.config/aocd/token/token.txt') as f:\n",
    "    token = f.read()\n",
    "    \n",
    "(len(token.strip('\\n')),len(token))"
   ]
  },
  {
   "cell_type": "code",
   "execution_count": null,
   "id": "d0314dba",
   "metadata": {
    "hidden": true
   },
   "outputs": [],
   "source": [
    "token"
   ]
  },
  {
   "cell_type": "code",
   "execution_count": null,
   "id": "9ef06337",
   "metadata": {
    "hidden": true,
    "scrolled": true
   },
   "outputs": [],
   "source": [
    "token_file = !cat /Users/mischadhar/.config/aocd/token/token.txt\n",
    "\n",
    "token = token_file[0]"
   ]
  },
  {
   "cell_type": "code",
   "execution_count": null,
   "id": "05843dd6",
   "metadata": {
    "hidden": true
   },
   "outputs": [],
   "source": [
    "token_file"
   ]
  },
  {
   "cell_type": "markdown",
   "id": "cf11f133",
   "metadata": {
    "hidden": true
   },
   "source": [
    "53616c7465645f5f30e0d992ea63cabcc59f2eaaf4c3798bfd335b499b8f3230f6c32cda0595f224a9707a28ae4f1e140197f8febb15ab51e29c92d99b76e2ad"
   ]
  },
  {
   "cell_type": "code",
   "execution_count": null,
   "id": "5f5b2096",
   "metadata": {
    "hidden": true
   },
   "outputs": [],
   "source": [
    "token"
   ]
  },
  {
   "cell_type": "code",
   "execution_count": null,
   "id": "a6c4927f",
   "metadata": {
    "hidden": true
   },
   "outputs": [],
   "source": [
    "data = get_data(session=token,day=3,year=2022)"
   ]
  },
  {
   "cell_type": "code",
   "execution_count": null,
   "id": "70b9f08d",
   "metadata": {
    "hidden": true,
    "scrolled": true
   },
   "outputs": [],
   "source": [
    "data_split = data.split(sep='\\n')\n",
    "\n",
    "len(data_split)"
   ]
  },
  {
   "cell_type": "code",
   "execution_count": null,
   "id": "069a835e",
   "metadata": {
    "hidden": true
   },
   "outputs": [],
   "source": [
    "rucksack_sizes = [len(data) for data in data_split]"
   ]
  },
  {
   "cell_type": "code",
   "execution_count": null,
   "id": "6d8f7307",
   "metadata": {
    "hidden": true
   },
   "outputs": [],
   "source": [
    "data_split[0]\n",
    "\n",
    "data_split[0][:int(len(data_split[0])/2)]\n",
    "\n",
    "data_split[0][int(len(data_split[0])/2):]"
   ]
  },
  {
   "cell_type": "code",
   "execution_count": null,
   "id": "47d3ce0e",
   "metadata": {
    "hidden": true
   },
   "outputs": [],
   "source": [
    "rucksacks = []\n",
    "\n",
    "for rucksack in data_split:\n",
    "    \n",
    "    rucksack_size = int(len(rucksack)/2)\n",
    "    \n",
    "    temp_list = []\n",
    "    \n",
    "    temp_list.append(rucksack[:rucksack_size])\n",
    "    temp_list.append(rucksack[rucksack_size:])\n",
    "    \n",
    "    if len(temp_list[0]) != len(temp_list[1]):\n",
    "        \n",
    "        break\n",
    "        \n",
    "    rucksacks.append(temp_list) "
   ]
  },
  {
   "cell_type": "code",
   "execution_count": null,
   "id": "979bab14",
   "metadata": {
    "hidden": true
   },
   "outputs": [],
   "source": [
    "len(rucksacks)"
   ]
  },
  {
   "cell_type": "code",
   "execution_count": null,
   "id": "ff7bd7e7",
   "metadata": {
    "hidden": true
   },
   "outputs": [],
   "source": [
    "test_sack = rucksacks[1]\n",
    "\n",
    "test_sack"
   ]
  },
  {
   "cell_type": "code",
   "execution_count": null,
   "id": "ebe80574",
   "metadata": {
    "hidden": true
   },
   "outputs": [],
   "source": [
    "import string"
   ]
  },
  {
   "cell_type": "code",
   "execution_count": null,
   "id": "f1a9c5db",
   "metadata": {
    "hidden": true
   },
   "outputs": [],
   "source": [
    "string.ascii_letters.index('a')"
   ]
  },
  {
   "cell_type": "code",
   "execution_count": null,
   "id": "85161c30",
   "metadata": {
    "hidden": true,
    "scrolled": true
   },
   "outputs": [],
   "source": [
    "priority_scores = []\n",
    "\n",
    "for sack in rucksacks:\n",
    "    \n",
    "    common_value = list(set(sack[0]).intersection(sack[1]))[0]\n",
    "        \n",
    "    priority_score = string.ascii_letters.index(common_value) + 1\n",
    "    \n",
    "    priority_scores.append(priority_score)\n",
    "    \n",
    "sum(priority_scores)"
   ]
  },
  {
   "cell_type": "markdown",
   "id": "b73cf7f0",
   "metadata": {
    "hidden": true
   },
   "source": [
    "### Test"
   ]
  },
  {
   "cell_type": "code",
   "execution_count": null,
   "id": "2bb10662",
   "metadata": {
    "hidden": true
   },
   "outputs": [],
   "source": [
    "# 16 (p), 38 (L), 42 (P), 22 (v), 20 (t), and 19 (s)\n",
    "\n",
    "test_case = ['p','L','P','v','t','s']\n",
    "\n",
    "test_priority_scores = []\n",
    "\n",
    "for test in test_case:\n",
    "    \n",
    "    test_priority_score = string.ascii_letters.index(test) + 1\n",
    "    \n",
    "    print(test_priority_score)\n",
    "    \n",
    "    test_priority_scores.append(test_priority_score)\n",
    "\n",
    "sum(test_priority_scores)"
   ]
  },
  {
   "cell_type": "markdown",
   "id": "9ba2ae94",
   "metadata": {
    "hidden": true
   },
   "source": [
    "## Part ii"
   ]
  },
  {
   "cell_type": "code",
   "execution_count": null,
   "id": "83ed50e6",
   "metadata": {
    "hidden": true
   },
   "outputs": [],
   "source": [
    "data_split"
   ]
  },
  {
   "cell_type": "code",
   "execution_count": null,
   "id": "f94c83d8",
   "metadata": {
    "hidden": true
   },
   "outputs": [],
   "source": [
    "badge_values = []"
   ]
  },
  {
   "cell_type": "code",
   "execution_count": null,
   "id": "a3b9db19",
   "metadata": {
    "hidden": true
   },
   "outputs": [],
   "source": [
    "for i in range(0,len(data_split),3):\n",
    "    \n",
    "#     print(i)\n",
    "    \n",
    "    temp_group = []\n",
    "    \n",
    "    temp_group.append(data_split[i])\n",
    "    temp_group.append(data_split[i+1])\n",
    "    temp_group.append(data_split[i+2])\n",
    "    \n",
    "    badge = set(temp_group[0]) & set(temp_group[1]) & set(temp_group[2])\n",
    "    \n",
    "    badge_score = string.ascii_letters.index(list(badge)[0]) + 1\n",
    "    \n",
    "#     print(badge_score)\n",
    "    \n",
    "    badge_values.append(badge_score)"
   ]
  },
  {
   "cell_type": "code",
   "execution_count": null,
   "id": "30b3fcde",
   "metadata": {
    "hidden": true,
    "scrolled": true
   },
   "outputs": [],
   "source": [
    "len(badge_values)"
   ]
  },
  {
   "cell_type": "code",
   "execution_count": null,
   "id": "73ea5c93",
   "metadata": {
    "hidden": true
   },
   "outputs": [],
   "source": [
    "sum(badge_values)"
   ]
  },
  {
   "cell_type": "markdown",
   "id": "ae87a887",
   "metadata": {
    "heading_collapsed": true
   },
   "source": [
    "# Day 4"
   ]
  },
  {
   "cell_type": "markdown",
   "id": "4e4ec4a3",
   "metadata": {
    "hidden": true
   },
   "source": [
    "## Part i"
   ]
  },
  {
   "cell_type": "code",
   "execution_count": null,
   "id": "e322fb97",
   "metadata": {
    "hidden": true
   },
   "outputs": [],
   "source": [
    "token_file = !cat /Users/mischadhar/.config/aocd/token/token.txt\n",
    "\n",
    "token = token_file[0]"
   ]
  },
  {
   "cell_type": "code",
   "execution_count": null,
   "id": "104802de",
   "metadata": {
    "hidden": true
   },
   "outputs": [],
   "source": [
    "data = get_data(session=token,day=4,year=2022)"
   ]
  },
  {
   "cell_type": "code",
   "execution_count": null,
   "id": "d529fdb4",
   "metadata": {
    "hidden": true
   },
   "outputs": [],
   "source": [
    "data = data.split(sep='\\n')\n",
    "\n",
    "(data[0:2])"
   ]
  },
  {
   "cell_type": "code",
   "execution_count": null,
   "id": "42852196",
   "metadata": {
    "hidden": true
   },
   "outputs": [],
   "source": [
    "import re\n",
    "\n",
    "temp_lst = []\n",
    "\n",
    "for area in data:\n",
    "    \n",
    "    split = re.split(',| |\\-', area)\n",
    "    \n",
    "    elf1 = [int(x) for x in split[:2]]\n",
    "    elf2 = [int(x) for x in split[2:]]\n",
    "    \n",
    "    \n",
    "    range1 = list(range(elf1[0],elf1[1]+1))\n",
    "    range2 = list(range(elf2[0],elf2[1]+1))\n",
    "    \n",
    "    response = 0\n",
    "    \n",
    "    if set(range1).issubset(range2) or set(range2).issubset(range1):\n",
    "        \n",
    "        response = 1\n",
    "        \n",
    "    temp_lst.append(response)"
   ]
  },
  {
   "cell_type": "code",
   "execution_count": null,
   "id": "3dc440a3",
   "metadata": {
    "hidden": true
   },
   "outputs": [],
   "source": [
    "sum(temp_lst)"
   ]
  },
  {
   "cell_type": "code",
   "execution_count": null,
   "id": "14aebcaa",
   "metadata": {
    "hidden": true
   },
   "outputs": [],
   "source": [
    "list(range(3,4))"
   ]
  },
  {
   "cell_type": "code",
   "execution_count": null,
   "id": "0dae0d46",
   "metadata": {
    "hidden": true
   },
   "outputs": [],
   "source": [
    "import re\n",
    "\n",
    "count_val = 0\n",
    "\n",
    "for area in data:\n",
    "    \n",
    "    split = re.split(',| |\\-', area)\n",
    "    \n",
    "    elf1 = [int(x) for x in split[:2]]\n",
    "    elf2 = [int(x) for x in split[2:]]\n",
    "    \n",
    "    range1 = list(range(elf1[0],elf1[1]+1))\n",
    "    range2 = list(range(elf2[0],elf2[1]+1))\n",
    "    \n",
    "    response = 0\n",
    "    \n",
    "    intersection = len(list(set(range1).intersection(range2)))\n",
    "        \n",
    "    if len(list(set(range1).intersection(range2)))>0:\n",
    "        \n",
    "        count_val += 1\n",
    "        \n",
    "count_val"
   ]
  },
  {
   "cell_type": "markdown",
   "id": "6a2c9097",
   "metadata": {
    "heading_collapsed": true
   },
   "source": [
    "# Day 5"
   ]
  },
  {
   "cell_type": "markdown",
   "id": "6b8a8baa",
   "metadata": {
    "hidden": true
   },
   "source": [
    "## Part i"
   ]
  },
  {
   "cell_type": "code",
   "execution_count": null,
   "id": "6cc85df9",
   "metadata": {
    "hidden": true
   },
   "outputs": [],
   "source": [
    "from aocd import get_data\n",
    "\n",
    "token_file = !cat /Users/mischadhar/.config/aocd/token/token.txt\n",
    "\n",
    "token = token_file[0]\n",
    "\n",
    "data = get_data(session=token,day=5,year=2022)"
   ]
  },
  {
   "cell_type": "code",
   "execution_count": null,
   "id": "afe9bcdb",
   "metadata": {
    "hidden": true
   },
   "outputs": [],
   "source": [
    "data = data.split(sep='\\n')\n",
    "\n",
    "data_instructions = data[10:]\n",
    "\n",
    "data_main = data[:9]"
   ]
  },
  {
   "cell_type": "code",
   "execution_count": null,
   "id": "996d2a85",
   "metadata": {
    "hidden": true
   },
   "outputs": [],
   "source": [
    "data_main"
   ]
  },
  {
   "cell_type": "code",
   "execution_count": null,
   "id": "4c0fecbb",
   "metadata": {
    "hidden": true
   },
   "outputs": [],
   "source": [
    "Stack1 = 'TPZCSLQN'\n",
    "Stack2 = 'LPTVHCG'\n",
    "Stack3 = 'DCZF'\n",
    "Stack4 = 'GWTDLMVC'\n",
    "Stack5 = 'PWC'\n",
    "Stack6 = 'PFJDCTSZ'\n",
    "Stack7 = 'VWGBD'\n",
    "Stack8 = 'NJSQHW'\n",
    "Stack9 = 'RCQJSLV'"
   ]
  },
  {
   "cell_type": "code",
   "execution_count": null,
   "id": "cade0e2b",
   "metadata": {
    "hidden": true
   },
   "outputs": [],
   "source": [
    "Stacks = []\n",
    "\n",
    "Stacks.append([char for char in Stack1])\n",
    "Stacks.append([char for char in Stack2])\n",
    "Stacks.append([char for char in Stack3])\n",
    "Stacks.append([char for char in Stack4])\n",
    "Stacks.append([char for char in Stack5])\n",
    "Stacks.append([char for char in Stack6])\n",
    "Stacks.append([char for char in Stack7])\n",
    "Stacks.append([char for char in Stack8])\n",
    "Stacks.append([char for char in Stack9])"
   ]
  },
  {
   "cell_type": "code",
   "execution_count": null,
   "id": "9008e952",
   "metadata": {
    "hidden": true,
    "scrolled": true
   },
   "outputs": [],
   "source": [
    "Stacks"
   ]
  },
  {
   "cell_type": "code",
   "execution_count": null,
   "id": "1cd7ac33",
   "metadata": {
    "hidden": true
   },
   "outputs": [],
   "source": [
    "for instruction in data_instructions:\n",
    "    \n",
    "    tmp = instruction.split()\n",
    "    \n",
    "    moves_ = int(tmp[1]) \n",
    "    from_ = int(tmp[3])\n",
    "    to_ = int(tmp[5])\n",
    "    \n",
    "    for i in range(moves_):\n",
    "        \n",
    "        to_move = Stacks[from_-1].pop()\n",
    "        Stacks[to_-1].append(to_move)\n",
    "        \n",
    "Stacks"
   ]
  },
  {
   "cell_type": "code",
   "execution_count": null,
   "id": "aaf422d4",
   "metadata": {
    "hidden": true
   },
   "outputs": [],
   "source": [
    "final_items = [stack[-1:] for stack in Stacks]"
   ]
  },
  {
   "cell_type": "code",
   "execution_count": null,
   "id": "2901816b",
   "metadata": {
    "hidden": true
   },
   "outputs": [],
   "source": [
    "final_items"
   ]
  },
  {
   "cell_type": "markdown",
   "id": "9aecdc4c",
   "metadata": {
    "hidden": true
   },
   "source": [
    "## Part ii"
   ]
  },
  {
   "cell_type": "code",
   "execution_count": null,
   "id": "a6ad436d",
   "metadata": {
    "hidden": true
   },
   "outputs": [],
   "source": [
    "Stacks = []\n",
    "\n",
    "Stacks.append([char for char in Stack1])\n",
    "Stacks.append([char for char in Stack2])\n",
    "Stacks.append([char for char in Stack3])\n",
    "Stacks.append([char for char in Stack4])\n",
    "Stacks.append([char for char in Stack5])\n",
    "Stacks.append([char for char in Stack6])\n",
    "Stacks.append([char for char in Stack7])\n",
    "Stacks.append([char for char in Stack8])\n",
    "Stacks.append([char for char in Stack9])"
   ]
  },
  {
   "cell_type": "code",
   "execution_count": null,
   "id": "33ff26ff",
   "metadata": {
    "hidden": true,
    "scrolled": true
   },
   "outputs": [],
   "source": [
    "Stacks"
   ]
  },
  {
   "cell_type": "code",
   "execution_count": null,
   "id": "99c50d83",
   "metadata": {
    "hidden": true
   },
   "outputs": [],
   "source": [
    "for instruction in data_instructions:\n",
    "    \n",
    "    print(instruction)\n",
    "    \n",
    "    tmp = instruction.split()\n",
    "    \n",
    "    moves_ = int(tmp[1]) \n",
    "    from_ = int(tmp[3])\n",
    "    to_ = int(tmp[5])\n",
    "    \n",
    "    bottom_crate = (len(Stacks[from_-1]) - moves_)\n",
    "    \n",
    "    crates_ = Stacks[from_-1][bottom_crate:]\n",
    "    \n",
    "#     print('from',Stacks[from_-1])\n",
    "#     print('to',Stacks[to_-1])\n",
    "#     print('crates',crates_)\n",
    "    \n",
    "    Stacks[from_-1] = Stacks[from_-1][:bottom_crate]\n",
    "    \n",
    "    for crate in crates_:\n",
    "        \n",
    "        Stacks[to_-1].append(crate)\n",
    "    \n",
    "#     print('from (post)',Stacks[from_-1])\n",
    "#     print('to (post)',Stacks[to_-1])\n",
    "#     break\n",
    "        \n"
   ]
  },
  {
   "cell_type": "code",
   "execution_count": null,
   "id": "25063ec3",
   "metadata": {
    "hidden": true
   },
   "outputs": [],
   "source": [
    "final_items = [stack[-1:] for stack in Stacks]\n",
    "\n",
    "final_items"
   ]
  },
  {
   "cell_type": "markdown",
   "id": "fddd8f69",
   "metadata": {
    "heading_collapsed": true
   },
   "source": [
    "# Day 6 "
   ]
  },
  {
   "cell_type": "markdown",
   "id": "5e7655ea",
   "metadata": {
    "hidden": true
   },
   "source": [
    "## Part i"
   ]
  },
  {
   "cell_type": "code",
   "execution_count": null,
   "id": "b3996e45",
   "metadata": {
    "hidden": true
   },
   "outputs": [],
   "source": [
    "from aocd import get_data\n",
    "\n",
    "token_file = !cat /Users/mischadhar/.config/aocd/token/token.txt\n",
    "\n",
    "token = token_file[0]\n",
    "\n",
    "data = get_data(session=token,day=6,year=2022)"
   ]
  },
  {
   "cell_type": "code",
   "execution_count": null,
   "id": "ab23c918",
   "metadata": {
    "hidden": true
   },
   "outputs": [],
   "source": [
    "len(data)"
   ]
  },
  {
   "cell_type": "code",
   "execution_count": null,
   "id": "0016a93a",
   "metadata": {
    "hidden": true
   },
   "outputs": [],
   "source": [
    "windows = [data[i:i+4] for i in range(len(data)-4)]\n",
    "\n",
    "for i in range(len(data)-14):\n",
    "    \n",
    "    window = data[i:i+14]\n",
    "    \n",
    "    if len(list(set(window).intersection(window))) == 14:\n",
    "        \n",
    "        print(i+14)\n",
    "        \n",
    "        break\n",
    "\n"
   ]
  },
  {
   "cell_type": "markdown",
   "id": "0b1dc791",
   "metadata": {
    "heading_collapsed": true
   },
   "source": [
    "# Day 7"
   ]
  },
  {
   "cell_type": "markdown",
   "id": "dc30ffb8",
   "metadata": {
    "hidden": true
   },
   "source": [
    "## Part i"
   ]
  },
  {
   "cell_type": "code",
   "execution_count": 9,
   "id": "cd6f1a17",
   "metadata": {
    "hidden": true
   },
   "outputs": [],
   "source": [
    "from aocd import get_data\n",
    "\n",
    "token_file = !cat /Users/mischadhar/.config/aocd/token/token.txt\n",
    "\n",
    "token = token_file[0]\n",
    "\n",
    "data = get_data(session=token,day=7,year=2022)"
   ]
  },
  {
   "cell_type": "code",
   "execution_count": 10,
   "id": "a497760e",
   "metadata": {
    "hidden": true
   },
   "outputs": [],
   "source": [
    "data_split = data.split('\\n')"
   ]
  },
  {
   "cell_type": "code",
   "execution_count": null,
   "id": "0b4645f0",
   "metadata": {
    "hidden": true
   },
   "outputs": [],
   "source": [
    "test_data"
   ]
  },
  {
   "cell_type": "code",
   "execution_count": 11,
   "id": "e08d29f4",
   "metadata": {
    "hidden": true
   },
   "outputs": [],
   "source": [
    "from collections import defaultdict\n",
    "from itertools import accumulate\n",
    "\n",
    "\n",
    "dirs = defaultdict(int)\n",
    "\n",
    "for line in data_split:\n",
    "#     print(line)\n",
    "    match line.split():\n",
    "        case '$', 'cd', '/': curr = ['']\n",
    "        case '$', 'cd', '..': curr.pop()\n",
    "        case '$', 'cd', x: curr.append(x+'/')\n",
    "        case '$', 'ls': pass\n",
    "        case 'dir', _: pass\n",
    "        case size, _:\n",
    "            for p in accumulate(curr):\n",
    "#                 print(p)\n",
    "                dirs[p] += int(size)\n",
    "#                 print(dirs)\n",
    "                \n",
    "#     print(curr)"
   ]
  },
  {
   "cell_type": "code",
   "execution_count": 12,
   "id": "42749121",
   "metadata": {
    "hidden": true
   },
   "outputs": [
    {
     "name": "stdout",
     "output_type": "stream",
     "text": [
      "1611443 2086088\n"
     ]
    }
   ],
   "source": [
    "print(sum(s for s in dirs.values() if s <= 100_000),\n",
    "      min(s for s in dirs.values() if s >= dirs[''] - 40_000_000))"
   ]
  },
  {
   "cell_type": "code",
   "execution_count": null,
   "id": "b438f314",
   "metadata": {
    "hidden": true
   },
   "outputs": [],
   "source": [
    "print(sum(s for s in dirs.values() if s <= 100_000),\n",
    "      min(s for s in dirs.values() if s >= dirs[''] - 40_000_000))"
   ]
  },
  {
   "cell_type": "code",
   "execution_count": null,
   "id": "7852fe1f",
   "metadata": {
    "hidden": true
   },
   "outputs": [],
   "source": [
    "dirs"
   ]
  },
  {
   "cell_type": "markdown",
   "id": "068ae699",
   "metadata": {
    "heading_collapsed": true
   },
   "source": [
    "# Day 8"
   ]
  },
  {
   "cell_type": "markdown",
   "id": "923c0e3b",
   "metadata": {
    "heading_collapsed": true,
    "hidden": true
   },
   "source": [
    "## Part i "
   ]
  },
  {
   "cell_type": "code",
   "execution_count": 54,
   "id": "ff8b2e73",
   "metadata": {
    "hidden": true
   },
   "outputs": [],
   "source": [
    "from aocd import get_data\n",
    "\n",
    "token_file = !cat /Users/mischadhar/.config/aocd/token/token.txt\n",
    "\n",
    "token = token_file[0]\n",
    "\n",
    "data = get_data(session=token,day=8,year=2022)"
   ]
  },
  {
   "cell_type": "code",
   "execution_count": 55,
   "id": "c7f4c371",
   "metadata": {
    "hidden": true
   },
   "outputs": [],
   "source": [
    "data_split = data.split('\\n')"
   ]
  },
  {
   "cell_type": "code",
   "execution_count": 66,
   "id": "58914d83",
   "metadata": {
    "hidden": true,
    "scrolled": false
   },
   "outputs": [
    {
     "data": {
      "text/plain": [
       "'131210223122034201100050105424523044130411422315401641602244345313413050154142511210232230010113310'"
      ]
     },
     "execution_count": 66,
     "metadata": {},
     "output_type": "execute_result"
    }
   ],
   "source": [
    "data_split[0]"
   ]
  },
  {
   "cell_type": "code",
   "execution_count": 70,
   "id": "a2d77ebe",
   "metadata": {
    "hidden": true
   },
   "outputs": [
    {
     "name": "stdout",
     "output_type": "stream",
     "text": [
      "1647 392080\n"
     ]
    }
   ],
   "source": [
    "import numpy as np\n",
    "\n",
    "grid = np.array([list(x.strip()) for x in data_split], int)\n",
    "part1 = np.zeros_like(grid, int)\n",
    "part2 = np.ones_like(grid, int)\n",
    "\n",
    "for _ in range(4):\n",
    "    for x,y in np.ndindex(grid.shape):   \n",
    "            lower = [t < grid[x,y] for t in grid[x,y+1:]]\n",
    "    \n",
    "            part1[x,y] |= all(lower)\n",
    "            part2[x,y] *= next((i+1 for i,t in enumerate(lower) if ~t), len(lower))\n",
    "\n",
    "    grid, part1, part2 = map(np.rot90, [grid, part1, part2])\n",
    "\n",
    "print(part1.sum(), part2.max())"
   ]
  },
  {
   "cell_type": "markdown",
   "id": "f42ba48b",
   "metadata": {},
   "source": [
    "# Day 13"
   ]
  },
  {
   "cell_type": "code",
   "execution_count": 49,
   "id": "d0adc985",
   "metadata": {},
   "outputs": [],
   "source": [
    "import ast"
   ]
  },
  {
   "cell_type": "code",
   "execution_count": 24,
   "id": "67eecb51",
   "metadata": {},
   "outputs": [],
   "source": [
    "data = get_data(session=token,day=13,year=2022)\n",
    "\n",
    "data_split = data.split('\\n\\n')"
   ]
  },
  {
   "cell_type": "code",
   "execution_count": 79,
   "id": "41a338a3",
   "metadata": {},
   "outputs": [
    {
     "name": "stdout",
     "output_type": "stream",
     "text": [
      "5003\n",
      "20280\n"
     ]
    }
   ],
   "source": [
    "from functools import cmp_to_key\n",
    "from math import prod\n",
    "\n",
    "def cmp(l, r):\n",
    "    match l, r:\n",
    "        case int(), int():  return (l>r) - (l<r)\n",
    "        case int(), list(): return cmp([l], r)\n",
    "        case list(), int(): return cmp(l, [r])\n",
    "        case list(), list():\n",
    "            for z in map(cmp, l, r):\n",
    "                if z: return z\n",
    "            return cmp(len(l), len(r))\n",
    "\n",
    "packets = [[*map(eval, x.split())] for x in data_split]\n",
    "print(sum(i for i, p in enumerate(packets, 1) if cmp(*p) == -1))\n",
    "\n",
    "packets = sorted(sum(packets, [[2], [6]]), key=cmp_to_key(cmp))\n",
    "print(prod(i for i, p in enumerate(packets, 1) if p in [[2], [6]]))"
   ]
  }
 ],
 "metadata": {
  "kernelspec": {
   "display_name": "Python 3 (ipykernel)",
   "language": "python",
   "name": "python3"
  },
  "language_info": {
   "codemirror_mode": {
    "name": "ipython",
    "version": 3
   },
   "file_extension": ".py",
   "mimetype": "text/x-python",
   "name": "python",
   "nbconvert_exporter": "python",
   "pygments_lexer": "ipython3",
   "version": "3.10.6"
  },
  "toc": {
   "base_numbering": 1,
   "nav_menu": {},
   "number_sections": true,
   "sideBar": true,
   "skip_h1_title": false,
   "title_cell": "Table of Contents",
   "title_sidebar": "Contents",
   "toc_cell": false,
   "toc_position": {
    "height": "calc(100% - 180px)",
    "left": "10px",
    "top": "150px",
    "width": "294px"
   },
   "toc_section_display": true,
   "toc_window_display": true
  }
 },
 "nbformat": 4,
 "nbformat_minor": 5
}
