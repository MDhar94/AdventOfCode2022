{
 "cells": [
  {
   "cell_type": "markdown",
   "id": "5cb74f5e",
   "metadata": {},
   "source": [
    "# Challenge day 1"
   ]
  },
  {
   "cell_type": "code",
   "execution_count": 1,
   "id": "c7ee61fb",
   "metadata": {},
   "outputs": [],
   "source": [
    "import pandas as pd\n",
    "import numpy as np\n",
    "from itertools import groupby"
   ]
  },
  {
   "cell_type": "markdown",
   "id": "b0bbb531",
   "metadata": {},
   "source": [
    "## Part i "
   ]
  },
  {
   "cell_type": "markdown",
   "id": "3eef8627",
   "metadata": {},
   "source": [
    "### Get data"
   ]
  },
  {
   "cell_type": "code",
   "execution_count": 2,
   "id": "9044067d",
   "metadata": {},
   "outputs": [],
   "source": [
    "data_dir = '../raw_data/'"
   ]
  },
  {
   "cell_type": "code",
   "execution_count": 3,
   "id": "21d47187",
   "metadata": {},
   "outputs": [],
   "source": [
    "with open(data_dir+'Day1_data.txt') as f:\n",
    "    data = f.readlines()"
   ]
  },
  {
   "cell_type": "markdown",
   "id": "bb622d0c",
   "metadata": {},
   "source": [
    "### Clean data"
   ]
  },
  {
   "cell_type": "code",
   "execution_count": 4,
   "id": "6e800360",
   "metadata": {},
   "outputs": [],
   "source": [
    "data_clean = [data.replace('\\n','') for data in data]"
   ]
  },
  {
   "cell_type": "code",
   "execution_count": 5,
   "id": "857c8a7a",
   "metadata": {},
   "outputs": [],
   "source": [
    "elves1 = [list(sub) for ele, sub in groupby(data_clean, key = bool) if ele]\n",
    "\n",
    "num_elves = [[int(numerics) for numerics in strings] for strings in elves1]"
   ]
  },
  {
   "cell_type": "code",
   "execution_count": 6,
   "id": "2de558ba",
   "metadata": {},
   "outputs": [],
   "source": [
    "sum_elves = [sum(elf) for elf in num_elves]"
   ]
  },
  {
   "cell_type": "markdown",
   "id": "151b6aa2",
   "metadata": {},
   "source": [
    "### Get max value"
   ]
  },
  {
   "cell_type": "code",
   "execution_count": 7,
   "id": "760ade99",
   "metadata": {},
   "outputs": [],
   "source": [
    "max_value = max(sum_elves)\n",
    "max_index = sum_elves.index(max_value)"
   ]
  },
  {
   "cell_type": "code",
   "execution_count": 8,
   "id": "c159fc89",
   "metadata": {},
   "outputs": [
    {
     "data": {
      "text/plain": [
       "59"
      ]
     },
     "execution_count": 8,
     "metadata": {},
     "output_type": "execute_result"
    }
   ],
   "source": [
    "max_index"
   ]
  },
  {
   "cell_type": "markdown",
   "id": "cf7816ae",
   "metadata": {},
   "source": [
    "### Find total calories"
   ]
  },
  {
   "cell_type": "code",
   "execution_count": 9,
   "id": "58cf3098",
   "metadata": {},
   "outputs": [
    {
     "data": {
      "text/plain": [
       "71502"
      ]
     },
     "execution_count": 9,
     "metadata": {},
     "output_type": "execute_result"
    }
   ],
   "source": [
    "sum_elves[max_index]"
   ]
  },
  {
   "cell_type": "markdown",
   "id": "cad10ff4",
   "metadata": {},
   "source": [
    "## Part ii"
   ]
  },
  {
   "cell_type": "markdown",
   "id": "ef19e26e",
   "metadata": {},
   "source": [
    "### Find top three highest calories amounts"
   ]
  },
  {
   "cell_type": "code",
   "execution_count": 10,
   "id": "bd7b8772",
   "metadata": {},
   "outputs": [],
   "source": [
    "index_values = [(i,x) for x,i in enumerate(sum_elves)]"
   ]
  },
  {
   "cell_type": "code",
   "execution_count": 11,
   "id": "72b4fc1c",
   "metadata": {},
   "outputs": [
    {
     "name": "stdout",
     "output_type": "stream",
     "text": [
      "59 71502\n",
      "136 68977\n",
      "3 67712\n"
     ]
    },
    {
     "data": {
      "text/plain": [
       "208191"
      ]
     },
     "execution_count": 11,
     "metadata": {},
     "output_type": "execute_result"
    }
   ],
   "source": [
    "top_three_elves = sorted(index_values, reverse=True)[0:3]\n",
    "\n",
    "elf_dict = {}\n",
    "\n",
    "for elf_cal, elf_id in top_three_elves:\n",
    "    \n",
    "    print(elf_id, elf_cal)\n",
    "    \n",
    "    elf_dict[elf_id] = elf_cal\n",
    "    \n",
    "\n",
    "# sum(elf_dict.values())\n",
    "sum(elf_dict.values())\n",
    "    "
   ]
  },
  {
   "cell_type": "code",
   "execution_count": 12,
   "id": "501c1c1f",
   "metadata": {},
   "outputs": [
    {
     "data": {
      "text/plain": [
       "[71502, 68977, 67712]"
      ]
     },
     "execution_count": 12,
     "metadata": {},
     "output_type": "execute_result"
    }
   ],
   "source": [
    "top_three_elves = [elf[0] for elf in sorted(index_values,reverse=True)[0:3]]\n",
    "\n",
    "top_three_elves"
   ]
  },
  {
   "cell_type": "code",
   "execution_count": 13,
   "id": "bfec4c2e",
   "metadata": {},
   "outputs": [
    {
     "data": {
      "text/plain": [
       "208191"
      ]
     },
     "execution_count": 13,
     "metadata": {},
     "output_type": "execute_result"
    }
   ],
   "source": [
    "sum(top_three_elves)"
   ]
  },
  {
   "cell_type": "markdown",
   "id": "d46cdff2",
   "metadata": {},
   "source": [
    "# Challenge day 2"
   ]
  },
  {
   "cell_type": "markdown",
   "id": "fe3e5a3d",
   "metadata": {},
   "source": [
    "## Part i"
   ]
  },
  {
   "cell_type": "code",
   "execution_count": 14,
   "id": "7ebc55e5",
   "metadata": {
    "scrolled": false
   },
   "outputs": [],
   "source": [
    "df = pd.read_csv('../raw_data/Day2_data.csv'\n",
    "            , delim_whitespace=True\n",
    "            , header=None \n",
    "            , names=['Opponent','Response'])"
   ]
  },
  {
   "cell_type": "code",
   "execution_count": 15,
   "id": "c229f58a",
   "metadata": {},
   "outputs": [],
   "source": [
    "choice_dict = {'A':'Rock'\n",
    "               , 'B':'Paper'\n",
    "               ,'C':'Scissors'\n",
    "               ,'X':'Rock'\n",
    "               ,'Y':'Paper'\n",
    "               ,'Z':'Scissors'}"
   ]
  },
  {
   "cell_type": "code",
   "execution_count": 16,
   "id": "54bc1795",
   "metadata": {},
   "outputs": [
    {
     "data": {
      "text/html": [
       "<div>\n",
       "<style scoped>\n",
       "    .dataframe tbody tr th:only-of-type {\n",
       "        vertical-align: middle;\n",
       "    }\n",
       "\n",
       "    .dataframe tbody tr th {\n",
       "        vertical-align: top;\n",
       "    }\n",
       "\n",
       "    .dataframe thead th {\n",
       "        text-align: right;\n",
       "    }\n",
       "</style>\n",
       "<table border=\"1\" class=\"dataframe\">\n",
       "  <thead>\n",
       "    <tr style=\"text-align: right;\">\n",
       "      <th></th>\n",
       "      <th>Opponent</th>\n",
       "      <th>Response</th>\n",
       "    </tr>\n",
       "  </thead>\n",
       "  <tbody>\n",
       "    <tr>\n",
       "      <th>0</th>\n",
       "      <td>Rock</td>\n",
       "      <td>Paper</td>\n",
       "    </tr>\n",
       "    <tr>\n",
       "      <th>1</th>\n",
       "      <td>Scissors</td>\n",
       "      <td>Paper</td>\n",
       "    </tr>\n",
       "    <tr>\n",
       "      <th>2</th>\n",
       "      <td>Scissors</td>\n",
       "      <td>Rock</td>\n",
       "    </tr>\n",
       "    <tr>\n",
       "      <th>3</th>\n",
       "      <td>Rock</td>\n",
       "      <td>Paper</td>\n",
       "    </tr>\n",
       "    <tr>\n",
       "      <th>4</th>\n",
       "      <td>Scissors</td>\n",
       "      <td>Rock</td>\n",
       "    </tr>\n",
       "  </tbody>\n",
       "</table>\n",
       "</div>"
      ],
      "text/plain": [
       "   Opponent Response\n",
       "0      Rock    Paper\n",
       "1  Scissors    Paper\n",
       "2  Scissors     Rock\n",
       "3      Rock    Paper\n",
       "4  Scissors     Rock"
      ]
     },
     "execution_count": 16,
     "metadata": {},
     "output_type": "execute_result"
    }
   ],
   "source": [
    "df_clean = df.replace({'Opponent':choice_dict\n",
    "            ,'Response':choice_dict})\n",
    "\n",
    "df_clean.head()"
   ]
  },
  {
   "cell_type": "code",
   "execution_count": 17,
   "id": "c16cc21e",
   "metadata": {},
   "outputs": [],
   "source": [
    "def score_calculator(row):\n",
    "        \n",
    "    combo_dict = {'loss':['RockPaper','PaperScissors','ScissorsRock'],\n",
    "                  'draw':['RockRock','PaperPaper','ScissorsScissors'],\n",
    "                  'win':['PaperRock','ScissorsPaper','RockScissors']}\n",
    "    \n",
    "    score_dict = {'win':[6],'draw':[3],'loss':[0]}\n",
    "    \n",
    "    choice_score_dict = {'Rock':1,'Paper':2,'Scissors':3}\n",
    "    \n",
    "    combination = row['Response'] + row['Opponent']\n",
    "    \n",
    "    score = 0\n",
    "        \n",
    "    if combination in combo_dict['win']:\n",
    "\n",
    "        score += 6 + choice_score_dict[row['Response']]\n",
    "              \n",
    "        \n",
    "    elif combination in combo_dict['draw']:\n",
    "        \n",
    "        score += 3 + choice_score_dict[row['Response']]\n",
    "        \n",
    "    elif combination in combo_dict['loss']:\n",
    "        \n",
    "        score += 0 + choice_score_dict[row['Response']]\n",
    "        \n",
    "    else:\n",
    "        \n",
    "        print('combo not valid')\n",
    "        \n",
    "    return score"
   ]
  },
  {
   "cell_type": "code",
   "execution_count": 18,
   "id": "cce057c4",
   "metadata": {
    "scrolled": false
   },
   "outputs": [],
   "source": [
    "df_clean['Score'] = df_clean.apply(lambda row: score_calculator(row),axis=1)"
   ]
  },
  {
   "cell_type": "code",
   "execution_count": 19,
   "id": "4308e4e6",
   "metadata": {},
   "outputs": [
    {
     "data": {
      "text/plain": [
       "14531"
      ]
     },
     "execution_count": 19,
     "metadata": {},
     "output_type": "execute_result"
    }
   ],
   "source": [
    "df_clean.Score.sum()"
   ]
  },
  {
   "cell_type": "markdown",
   "id": "d98cea1f",
   "metadata": {},
   "source": [
    "### Test"
   ]
  },
  {
   "cell_type": "code",
   "execution_count": 20,
   "id": "9dcf4e32",
   "metadata": {},
   "outputs": [
    {
     "data": {
      "text/plain": [
       "15"
      ]
     },
     "execution_count": 20,
     "metadata": {},
     "output_type": "execute_result"
    }
   ],
   "source": [
    "test_df = pd.DataFrame({'Opponent':['Rock','Paper','Scissors'],'Response':['Paper','Rock','Scissors']})\n",
    "\n",
    "test_df['Score'] = test_df.apply(lambda row: score_calculator(row),axis=1)\n",
    "\n",
    "test_df.Score.sum()"
   ]
  },
  {
   "cell_type": "markdown",
   "id": "407e24dd",
   "metadata": {},
   "source": [
    "## Part ii"
   ]
  },
  {
   "cell_type": "markdown",
   "id": "0057e05c",
   "metadata": {},
   "source": [
    "X = Win\n",
    "\n",
    "Y = Draw\n",
    "\n",
    "Z = Lose"
   ]
  },
  {
   "cell_type": "code",
   "execution_count": 21,
   "id": "33558a94",
   "metadata": {},
   "outputs": [],
   "source": [
    "choice_dict2 = {'A':'Rock'\n",
    "               , 'B':'Paper'\n",
    "               ,'C':'Scissors'\n",
    "               ,'X':'Lose'\n",
    "               ,'Y':'Draw'\n",
    "               ,'Z':'Win'}"
   ]
  },
  {
   "cell_type": "code",
   "execution_count": 22,
   "id": "24af2617",
   "metadata": {},
   "outputs": [],
   "source": [
    "df2 = df.rename(columns={'Response':'Result'}).replace({'Opponent':choice_dict\n",
    "                                                        ,'Result':choice_dict2})"
   ]
  },
  {
   "cell_type": "code",
   "execution_count": 23,
   "id": "26f0934f",
   "metadata": {},
   "outputs": [
    {
     "data": {
      "text/html": [
       "<div>\n",
       "<style scoped>\n",
       "    .dataframe tbody tr th:only-of-type {\n",
       "        vertical-align: middle;\n",
       "    }\n",
       "\n",
       "    .dataframe tbody tr th {\n",
       "        vertical-align: top;\n",
       "    }\n",
       "\n",
       "    .dataframe thead th {\n",
       "        text-align: right;\n",
       "    }\n",
       "</style>\n",
       "<table border=\"1\" class=\"dataframe\">\n",
       "  <thead>\n",
       "    <tr style=\"text-align: right;\">\n",
       "      <th></th>\n",
       "      <th>Opponent</th>\n",
       "      <th>Result</th>\n",
       "    </tr>\n",
       "  </thead>\n",
       "  <tbody>\n",
       "    <tr>\n",
       "      <th>0</th>\n",
       "      <td>Rock</td>\n",
       "      <td>Draw</td>\n",
       "    </tr>\n",
       "    <tr>\n",
       "      <th>1</th>\n",
       "      <td>Scissors</td>\n",
       "      <td>Draw</td>\n",
       "    </tr>\n",
       "    <tr>\n",
       "      <th>2</th>\n",
       "      <td>Scissors</td>\n",
       "      <td>Lose</td>\n",
       "    </tr>\n",
       "    <tr>\n",
       "      <th>3</th>\n",
       "      <td>Rock</td>\n",
       "      <td>Draw</td>\n",
       "    </tr>\n",
       "    <tr>\n",
       "      <th>4</th>\n",
       "      <td>Scissors</td>\n",
       "      <td>Lose</td>\n",
       "    </tr>\n",
       "  </tbody>\n",
       "</table>\n",
       "</div>"
      ],
      "text/plain": [
       "   Opponent Result\n",
       "0      Rock   Draw\n",
       "1  Scissors   Draw\n",
       "2  Scissors   Lose\n",
       "3      Rock   Draw\n",
       "4  Scissors   Lose"
      ]
     },
     "execution_count": 23,
     "metadata": {},
     "output_type": "execute_result"
    }
   ],
   "source": [
    "df2.head()"
   ]
  },
  {
   "cell_type": "code",
   "execution_count": 24,
   "id": "1fb84db4",
   "metadata": {},
   "outputs": [],
   "source": [
    "def score_calculator2(row):\n",
    "                \n",
    "    combo_dict = {'RockLose':'Scissors', 'RockDraw':'Rock','RockWin':'Paper'\n",
    "                 ,'ScissorsLose':'Paper','ScissorsDraw':'Scissors','ScissorsWin':'Rock'\n",
    "                 ,'PaperLose':'Rock','PaperDraw':'Paper','PaperWin':'Scissors'}\n",
    "    \n",
    "    score_dict = {'Win':6,'Draw':3,'Lose':0}\n",
    "    \n",
    "    choice_score_dict = {'Rock':1,'Paper':2,'Scissors':3}\n",
    "    \n",
    "    combination = row['Opponent'] + row['Result']\n",
    "        \n",
    "    sign_played = combo_dict[combination]\n",
    "    \n",
    "    sign_score = choice_score_dict[sign_played]\n",
    "    round_score = score_dict[row['Result']]\n",
    "        \n",
    "    return sign_score + round_score"
   ]
  },
  {
   "cell_type": "code",
   "execution_count": 25,
   "id": "3113db34",
   "metadata": {},
   "outputs": [],
   "source": [
    "df2['score'] = df2.apply(lambda row: score_calculator2(row),axis=1)"
   ]
  },
  {
   "cell_type": "code",
   "execution_count": 26,
   "id": "85318326",
   "metadata": {},
   "outputs": [
    {
     "data": {
      "text/plain": [
       "11258"
      ]
     },
     "execution_count": 26,
     "metadata": {},
     "output_type": "execute_result"
    }
   ],
   "source": [
    "df2['score'].sum()"
   ]
  },
  {
   "cell_type": "code",
   "execution_count": 27,
   "id": "7a24a728",
   "metadata": {},
   "outputs": [
    {
     "data": {
      "text/plain": [
       "12"
      ]
     },
     "execution_count": 27,
     "metadata": {},
     "output_type": "execute_result"
    }
   ],
   "source": [
    "test_df = pd.DataFrame({'Opponent':['Rock','Paper','Scissors'],'Result':['Draw','Lose','Win']})\n",
    "\n",
    "test_df['Score'] = test_df.apply(lambda row: score_calculator2(row),axis=1)\n",
    "\n",
    "test_df.Score.sum()"
   ]
  },
  {
   "cell_type": "markdown",
   "id": "fa6741a6",
   "metadata": {},
   "source": [
    "# Day 3"
   ]
  },
  {
   "cell_type": "markdown",
   "id": "3c1973b0",
   "metadata": {},
   "source": [
    "## Part i "
   ]
  },
  {
   "cell_type": "code",
   "execution_count": 28,
   "id": "ec36a639",
   "metadata": {},
   "outputs": [],
   "source": [
    "from aocd import get_data"
   ]
  },
  {
   "cell_type": "code",
   "execution_count": 29,
   "id": "ef4808ee",
   "metadata": {},
   "outputs": [
    {
     "data": {
      "text/plain": [
       "(128, 129)"
      ]
     },
     "execution_count": 29,
     "metadata": {},
     "output_type": "execute_result"
    }
   ],
   "source": [
    "with open('/Users/mischadhar/.config/aocd/token/token.txt') as f:\n",
    "    token = f.read()\n",
    "    \n",
    "(len(token.strip('\\n')),len(token))"
   ]
  },
  {
   "cell_type": "code",
   "execution_count": 30,
   "id": "d0314dba",
   "metadata": {},
   "outputs": [
    {
     "data": {
      "text/plain": [
       "'53616c7465645f5f30e0d992ea63cabcc59f2eaaf4c3798bfd335b499b8f3230f6c32cda0595f224a9707a28ae4f1e140197f8febb15ab51e29c92d99b76e2ad\\n'"
      ]
     },
     "execution_count": 30,
     "metadata": {},
     "output_type": "execute_result"
    }
   ],
   "source": [
    "token"
   ]
  },
  {
   "cell_type": "code",
   "execution_count": 31,
   "id": "9ef06337",
   "metadata": {
    "scrolled": true
   },
   "outputs": [],
   "source": [
    "token_file = !cat /Users/mischadhar/.config/aocd/token/token.txt\n",
    "\n",
    "token = token_file[0]"
   ]
  },
  {
   "cell_type": "code",
   "execution_count": 32,
   "id": "05843dd6",
   "metadata": {},
   "outputs": [
    {
     "data": {
      "text/plain": [
       "['53616c7465645f5f30e0d992ea63cabcc59f2eaaf4c3798bfd335b499b8f3230f6c32cda0595f224a9707a28ae4f1e140197f8febb15ab51e29c92d99b76e2ad']"
      ]
     },
     "execution_count": 32,
     "metadata": {},
     "output_type": "execute_result"
    }
   ],
   "source": [
    "token_file"
   ]
  },
  {
   "cell_type": "markdown",
   "id": "cf11f133",
   "metadata": {},
   "source": [
    "53616c7465645f5f30e0d992ea63cabcc59f2eaaf4c3798bfd335b499b8f3230f6c32cda0595f224a9707a28ae4f1e140197f8febb15ab51e29c92d99b76e2ad"
   ]
  },
  {
   "cell_type": "code",
   "execution_count": 33,
   "id": "5f5b2096",
   "metadata": {},
   "outputs": [
    {
     "data": {
      "text/plain": [
       "'53616c7465645f5f30e0d992ea63cabcc59f2eaaf4c3798bfd335b499b8f3230f6c32cda0595f224a9707a28ae4f1e140197f8febb15ab51e29c92d99b76e2ad'"
      ]
     },
     "execution_count": 33,
     "metadata": {},
     "output_type": "execute_result"
    }
   ],
   "source": [
    "token"
   ]
  },
  {
   "cell_type": "code",
   "execution_count": 34,
   "id": "a6c4927f",
   "metadata": {},
   "outputs": [],
   "source": [
    "data = get_data(session=token,day=3,year=2022)"
   ]
  },
  {
   "cell_type": "code",
   "execution_count": 35,
   "id": "70b9f08d",
   "metadata": {
    "scrolled": true
   },
   "outputs": [
    {
     "data": {
      "text/plain": [
       "300"
      ]
     },
     "execution_count": 35,
     "metadata": {},
     "output_type": "execute_result"
    }
   ],
   "source": [
    "data_split = data.split(sep='\\n')\n",
    "\n",
    "len(data_split)"
   ]
  },
  {
   "cell_type": "code",
   "execution_count": 36,
   "id": "069a835e",
   "metadata": {},
   "outputs": [],
   "source": [
    "rucksack_sizes = [len(data) for data in data_split]"
   ]
  },
  {
   "cell_type": "code",
   "execution_count": 37,
   "id": "6d8f7307",
   "metadata": {},
   "outputs": [
    {
     "data": {
      "text/plain": [
       "'JHflSJCLgCphgHHgRHJCRRff'"
      ]
     },
     "execution_count": 37,
     "metadata": {},
     "output_type": "execute_result"
    }
   ],
   "source": [
    "data_split[0]\n",
    "\n",
    "data_split[0][:int(len(data_split[0])/2)]\n",
    "\n",
    "data_split[0][int(len(data_split[0])/2):]"
   ]
  },
  {
   "cell_type": "code",
   "execution_count": 38,
   "id": "47d3ce0e",
   "metadata": {},
   "outputs": [],
   "source": [
    "rucksacks = []\n",
    "\n",
    "for rucksack in data_split:\n",
    "    \n",
    "    rucksack_size = int(len(rucksack)/2)\n",
    "    \n",
    "    temp_list = []\n",
    "    \n",
    "    temp_list.append(rucksack[:rucksack_size])\n",
    "    temp_list.append(rucksack[rucksack_size:])\n",
    "    \n",
    "    if len(temp_list[0]) != len(temp_list[1]):\n",
    "        \n",
    "        break\n",
    "        \n",
    "    rucksacks.append(temp_list) "
   ]
  },
  {
   "cell_type": "code",
   "execution_count": 39,
   "id": "979bab14",
   "metadata": {},
   "outputs": [
    {
     "data": {
      "text/plain": [
       "300"
      ]
     },
     "execution_count": 39,
     "metadata": {},
     "output_type": "execute_result"
    }
   ],
   "source": [
    "len(rucksacks)"
   ]
  },
  {
   "cell_type": "code",
   "execution_count": 40,
   "id": "ff7bd7e7",
   "metadata": {},
   "outputs": [
    {
     "data": {
      "text/plain": [
       "['BcBGcQzVBVZcvznTTTvZcGT', 'pCRRRfRCggLflHlhhCZpZCj']"
      ]
     },
     "execution_count": 40,
     "metadata": {},
     "output_type": "execute_result"
    }
   ],
   "source": [
    "test_sack = rucksacks[1]\n",
    "\n",
    "test_sack"
   ]
  },
  {
   "cell_type": "code",
   "execution_count": 42,
   "id": "ebe80574",
   "metadata": {},
   "outputs": [],
   "source": [
    "import string"
   ]
  },
  {
   "cell_type": "code",
   "execution_count": 43,
   "id": "f1a9c5db",
   "metadata": {},
   "outputs": [
    {
     "data": {
      "text/plain": [
       "0"
      ]
     },
     "execution_count": 43,
     "metadata": {},
     "output_type": "execute_result"
    }
   ],
   "source": [
    "string.ascii_letters.index('a')"
   ]
  },
  {
   "cell_type": "code",
   "execution_count": 44,
   "id": "85161c30",
   "metadata": {
    "scrolled": true
   },
   "outputs": [
    {
     "data": {
      "text/plain": [
       "7817"
      ]
     },
     "execution_count": 44,
     "metadata": {},
     "output_type": "execute_result"
    }
   ],
   "source": [
    "priority_scores = []\n",
    "\n",
    "for sack in rucksacks:\n",
    "    \n",
    "    common_value = list(set(sack[0]).intersection(sack[1]))[0]\n",
    "        \n",
    "    priority_score = string.ascii_letters.index(common_value) + 1\n",
    "    \n",
    "    priority_scores.append(priority_score)\n",
    "    \n",
    "sum(priority_scores)"
   ]
  },
  {
   "cell_type": "markdown",
   "id": "b73cf7f0",
   "metadata": {},
   "source": [
    "### Test"
   ]
  },
  {
   "cell_type": "code",
   "execution_count": 45,
   "id": "2bb10662",
   "metadata": {},
   "outputs": [
    {
     "name": "stdout",
     "output_type": "stream",
     "text": [
      "16\n",
      "38\n",
      "42\n",
      "22\n",
      "20\n",
      "19\n"
     ]
    },
    {
     "data": {
      "text/plain": [
       "157"
      ]
     },
     "execution_count": 45,
     "metadata": {},
     "output_type": "execute_result"
    }
   ],
   "source": [
    "# 16 (p), 38 (L), 42 (P), 22 (v), 20 (t), and 19 (s)\n",
    "\n",
    "test_case = ['p','L','P','v','t','s']\n",
    "\n",
    "test_priority_scores = []\n",
    "\n",
    "for test in test_case:\n",
    "    \n",
    "    test_priority_score = string.ascii_letters.index(test) + 1\n",
    "    \n",
    "    print(test_priority_score)\n",
    "    \n",
    "    test_priority_scores.append(test_priority_score)\n",
    "\n",
    "sum(test_priority_scores)"
   ]
  },
  {
   "cell_type": "markdown",
   "id": "9ba2ae94",
   "metadata": {},
   "source": [
    "## Part ii"
   ]
  },
  {
   "cell_type": "code",
   "execution_count": 46,
   "id": "83ed50e6",
   "metadata": {},
   "outputs": [
    {
     "data": {
      "text/plain": [
       "['DPstqDdrsqdDtqrFDJDDrmtsJHflSJCLgCphgHHgRHJCRRff',\n",
       " 'BcBGcQzVBVZcvznTTTvZcGTpCRRRfRCggLflHlhhCZpZCj',\n",
       " 'vGQnQvnzTzNTTbVnzGBqMqwqDLdPtMmbwqqLLM',\n",
       " 'wLRFRqvFsFRjfrHddbdbjzdH',\n",
       " 'lcsnSJPSSVVlGmGrHzbbrGNrdzbz',\n",
       " 'mSmlnnPlmJmncVDSlSZSlmLBCvtwBvtLCqqswsDBCTWW',\n",
       " 'pfqPrPgmmhvqdlsdWq',\n",
       " 'nfjHLJfZcLbVtQWWtndhls',\n",
       " 'CzJJFLzRzfDwrmggpC',\n",
       " 'CWfllmlCDFlZZqMfmFBWmWLJVRLVwNNtRVGPpwtGpqbJ',\n",
       " 'jHndndndcjhscnhHNtRbVtLbGpJbRRcb',\n",
       " 'HSrvnQzQSMDlLzBCfg',\n",
       " 'BQRVbgQQBJBbBtVBSSSRWMQbdNvvRPjZjCCdPLNZNNsNCCzd',\n",
       " 'HwpFpnlGpGZWGvjzPd',\n",
       " 'FTDmFrrwDpFMtmQVQQcWgc',\n",
       " 'VhbPshVDPDFWhWsgDNMMbVtmBjwBffpwBntnmnqfnswt',\n",
       " 'QzzGrTZZdrdlTcCLpRBnmBRRjBCqtptt',\n",
       " 'rJdGlmLTJdJrvZDbSbDSWDNbFJgD',\n",
       " 'qrcqTBHTcHgwWWdHRjdWBglBbGPpGvvPbszGzsbPpQfPLwPz',\n",
       " 'nFVmjhMjFJCSJsQQPQLbLpzCPQ',\n",
       " 'SnMSVVZSJMNMZNDVFtJtNRBdqBrWrRHWZTllrrjgHq',\n",
       " 'ZqdqcrPqqrwnQqnrZqjVcqrQwwmNbzNzwbNLzvFbHLbNmBLF',\n",
       " 'LCDsCsRTfLTDszzNbsbNNHbs',\n",
       " 'gLfCgShfCgMPlPrVcqrQgn',\n",
       " 'QSNSLDQDLfqqPwwBNLqgqJMMmmRRCTzHnCHhRzHmfCmh',\n",
       " 'lGvdbdWdVvsVszpDhHmmlnMpTC',\n",
       " 'ctbdtVsbbvvsbWZFdVQJqPtgLQBDBwBQPJwJ',\n",
       " 'dggSSDCPddRWPnSSPWRDgdSrTDsDQDTzQGGTMbsMMVsQfTfV',\n",
       " 'jmBvtFpBcBhhjljZHphztMsCbsTTCbzsqGqsfz',\n",
       " 'hccpLmhFlcwCrPLrCPnL',\n",
       " 'MMHZnGrCfJnfCPggSSGGSSSgLW',\n",
       " 'qhFhRlDFDlqFsgdvJdWdDdcSvp',\n",
       " 'wVlhqTbbRNFqswlVVRNbZfHCrntMBrTTZnJMCfnn',\n",
       " 'sHGZscVGHJMtmRrqzRqqqTqt',\n",
       " 'SjvvNgjLShWWhhSQNWqmrBzlRllTTgBqnRmq',\n",
       " 'LNQWLfWhSQvLdCddWWPHMcbHHrJcDGFZCJssFM',\n",
       " 'mSDjSVQbVGbmqDVbHmqqJTZzPHTHhhRJhwsRPcRJ',\n",
       " 'tFfFFttFdsNntfpMMppJWwZTzJczJcZPzwWcdJ',\n",
       " 'vNtgCrpgNptptgCCbbmjbSbvsVjSsjGG',\n",
       " 'VCQlZJCTPRWsBsjTTT',\n",
       " 'wvNrnbbvnhdNhLMfGsrGpRFpGpjp',\n",
       " 'dwndHbHbbLqwwhNcLsqSHSCHJClQtJSttQDPSJ',\n",
       " 'ZlrvrdvpGBBhlDrshdqJHRPHqPTJzRPPqw',\n",
       " 'tcftfSgFFgcgLPmPmpnqFwJRHP',\n",
       " 'pWLCcWNNNNttMNgZvlsvrBrsrjWDjB',\n",
       " 'wgdCJgDMDwMCwDMCMJsJJfpffVpVfbfrrrrgjgllZp',\n",
       " 'QFRhvttRthtQzzmpBWbWzWZSVpbSpl',\n",
       " 'btRttRLttGNqvbFHLwCdDcMwnPPJDnDD',\n",
       " 'VhmMNllLqGLJQNhRfZHgSPfgSPTqZj',\n",
       " 'sBwDcwBtsdzvvHZRlPRjDZTgPZ',\n",
       " 'pWvvBBcBCdzNLVQVWQlNlW',\n",
       " 'NsSppvSjSPNBNLJJLh',\n",
       " 'fCGtqQbZZGZQZTbtzbqbCZThddcMBddlJGhdlBMcddgLlJ',\n",
       " 'zZFTqwLtTRFqTQwvmprnRVSsDrnvVR',\n",
       " 'FttFTzzvlVHFzTjpbvzbFSDDdVGhdqLGWGJdVDDfsLqG',\n",
       " 'cmBNCRnwsCcBPMfLLfJGcWhWqfdh',\n",
       " 'BwPmZZMmZMCsnrwMrmbHHbjbSvSbjvrlHpzj',\n",
       " 'sZQHCBFHQQQPGQCCHCHwsHFshhtSnnqjbRSSPngnhbRjqVPn',\n",
       " 'mzLvmDvNNWvNvrzzrMTzJNjqndqbnSnnRgTdtjdbjhTt',\n",
       " 'WzzWDlJLzLDvMWJJlMzmLJWcpHFQBpBgBHGQGBHfwwBfQQlG',\n",
       " 'gdpFrdrmrDsqqswdtccgWWCMlChSbhqSlCzBlSqh',\n",
       " 'TTvjrfjNJPnRQNTQjvNnCSWBVBVbClPSVSbSVhSh',\n",
       " 'HRvnfTfvjjHZTDsmcHDsrDsdmp',\n",
       " 'bFChjhbpbjqsntjtns',\n",
       " 'vdWcfMHfddvrlNMNdWWTNgBqDngBBZBBQZshgSfgnD',\n",
       " 'JlwrlrlhlcJWcWMwhWNVFpLzwPbbLRFPppVLzm',\n",
       " 'DtBtgLvgcHzllsTwzSTg',\n",
       " 'vhhjZrCrZdVdZVSwPMwwTTMGwT',\n",
       " 'nmpfqrnZJbqBBvRc',\n",
       " 'nMvSLvWSWPVPvWnSLShFLBjVbpNVGGbVQbbNcBcBBc',\n",
       " 'sTzJsJszbbQbdQJb',\n",
       " 'DsDrwTtsCTFhLQSShRwh',\n",
       " 'RNFQhTQqHNNGRsNqQFNsHhFCwwPLwPqwzfPrrPBwpJSJJw',\n",
       " 'vMMMblZjddlvWbjbBBfbwCrPPLJppwCL',\n",
       " 'jDmvcDBlBdjVglgddmvDQRNFtFRGtQhstHNsGFHV',\n",
       " 'rhLHmZnMrRsZSstZLLtZnhSCNbbmPJVcblTNNTlccpNTjJTj',\n",
       " 'WFgGddGFFgFDddMblpJjlTJTPc',\n",
       " 'QGWqBBfWgBqWwFwzMGvzDqSSrHnCHsrssCRZrfRhHLfH',\n",
       " 'HHzcWqNPmZcqFHPZGBdMRBMDlllWpRDJMl',\n",
       " 'tTgSvPhbMDJlbJQb',\n",
       " 'SCTtvtSPftswjvPhTgffVqmGZLmqmCCcqZzZHFNznF',\n",
       " 'QNpppRrdZvdgzpQZNpgRRgbSwmDDvFGGqwJSsvSGSqGG',\n",
       " 'HchWBMcBVnnWcHPjHhWcjHTqJFDGMSSqDMwJJbGwSsGGSb',\n",
       " 'tcCVcBjPjhnWlFrCFNZflQNr',\n",
       " 'HsVMrqrPqvvgprSrLG',\n",
       " 'THJWBJDwRFvBgGSzgF',\n",
       " 'DmhfHnmQncMNVMqPqbcd',\n",
       " 'SqZmMJqvHJBhHJLp',\n",
       " 'wsgTVTSsPssjjFVrTrFlhLhCFlBBnHplHLLHfF',\n",
       " 'zgggdwPrRrsrjjgRwVwdwdQTmvMvZqDZbWqqMSNWNbGQbGZN',\n",
       " 'fBDBfLZnTLZVVmmDcQMDDV',\n",
       " 'jPFtJFpHpJqfJFrptwrJdRWRWNpQVmQRMWNVVVNVvQ',\n",
       " 'zHwJgtFrTlslfghf',\n",
       " 'wMwTttCCTTSTfBmPzPVZnPZLVVtbnN',\n",
       " 'ldRRRlRHggGcvcRbZsNzvBVWnnPBWv',\n",
       " 'hdlJHgpcJccJhQdJrcrhwFMpDqCwCMBqjSqjqpTC',\n",
       " 'fJfnwJJnnHJgJHTgjsjDccNjcbgNjm',\n",
       " 'VdLqRRqGVqpRrPpppMBjDNmDctdsBlNjmZdZ',\n",
       " 'PDQvPQSvpGDrTwfJzzfFnTnS',\n",
       " 'MnHvnHHMRMzPTlDLPPRGcl',\n",
       " 'dFnfhFVwhdBPBfGWlPcP',\n",
       " 'JNrQFsnVtwsgvNzvmMjpzS',\n",
       " 'BZVPFpNpcNZpmRRPpzcVNhLLnssDjjDGnqjjLDFDjq',\n",
       " 'mMJbJvtJQQHlJDGCDnjvChDSsv',\n",
       " 'MQwWJHdQwWrJltQrgfNPmfBcBrpBpZ',\n",
       " 'ZWZqDsZZqWsWvWLPwPbpHjdtSbSjSCSPPSCp',\n",
       " 'MFVNMLmFmNzcTTrFrLbjdjbpCdCSbTCShRSd',\n",
       " 'czNzLrznlGNNrMzMwDlJwJWDwJwqJDvW',\n",
       " 'GlgchGGVShlQcQfDhzZrNFnFNFNjFzNFcn',\n",
       " 'dwCtpwHTtPTWpdFNfJJzRzvJNR',\n",
       " 'tLBBmWHftBttPbLwCHWTsSSQVglqgMsMBDSMGlQS',\n",
       " 'RDDDGhGfvPPTTPTThn',\n",
       " 'ZFLMmjpCpfMZzFqmqsCmPjdVBlVBVnWBPNTVbnTV',\n",
       " 'zHqJMCzLvftRQQHG',\n",
       " 'nTcbnvPsvdvFzpczVZmMGg',\n",
       " 'BCCJwSDqhQLJmMMpzGZVFVFB',\n",
       " 'qhrwJwrJrrzJNqwWLsTTnlTlbnsvbstWsW',\n",
       " 'vHRbqPJZvRPZhShJvTZllZtgzwlfBGBlsm',\n",
       " 'VdQjVVCssQVrWrQmTBgBzglmgCBGml',\n",
       " 'NnpQNpcFpNWshPRLsbSFsH',\n",
       " 'cVGmVZVwVVMLdvcRttTdbB',\n",
       " 'ppCQrwzHBtLrttLb',\n",
       " 'hsFJQzFWCpCqjZGVwlhlPP',\n",
       " 'HDGRzgWhgfzVWfRpspwRwbwStSwt',\n",
       " 'ZBPPPmmmTMQMPcZrBmSptSbbQCwtlsNqCwjC',\n",
       " 'TTLMMmZvPTrMZvFMmcmvrTccDDnfGHJgJhHhnhnLfVhSWDJz',\n",
       " 'pNrpjzthZPnGrzzWbJLLLbbJZwgSvZCV',\n",
       " 'MQsFFFDTfMNfRFfBFMdBdwLSvgbSTVCqTgVbbTLvwV',\n",
       " 'BQlQDMFccQsNmWpPGhpcjr',\n",
       " 'CTgGRCRglLlLTllL',\n",
       " 'vMJmhPJcmPBMvhqPDnNNqlWnwDWqsRQs',\n",
       " 'hcBfcJRPFfvvRvJZBrfMPZdpbSSGtSdtdgtzzSZzbV',\n",
       " 'NQLzNzzJcrLrSgZSSGgZrR',\n",
       " 'bTsjqHvcmTHvjgZGDvDpGZRfpg',\n",
       " 'WqTVPbdnMlLJncQC',\n",
       " 'hZLBrqLGLMbzLLBhfMMrnnNJlnNnlnJJNNdCJdzN',\n",
       " 'TWTsWqvtvpTSgRHpVFdjgjCPdgJlCFCFnF',\n",
       " 'swSTsTwpTVRmVRRRqMDMfqfDwLfbrhLr',\n",
       " 'NTQHWNQWrQwSTDWlcPPBHZBZbPgZJZ',\n",
       " 'nmfjCRCfRhndJcjBbcbcbg',\n",
       " 'nsppRfssfzCnqgzTzrwTwQVTWM',\n",
       " 'mFjQmDGmbbGjmChrCwdQBHCHWh',\n",
       " 'qvZZnPvvnngMpnlqpMZnpsTgWHTRCWrVdVDBWRhHBrhHDHhd',\n",
       " 'vqZgnnqgLvqlPllpnjGDjmNjNLfftftLFD',\n",
       " 'rfGsjsMNnFMMFddMsttDMgLHGlmJLCPPmHHGmHPlmm',\n",
       " 'vZcbhQbrRbVZPJLwPTgCLlgb',\n",
       " 'hchzSBqzQvphnWnrjFdWMqff',\n",
       " 'WmfPWfVsfqszRDqPqgpvHhvdwddGMmGghM',\n",
       " 'QtTrtTcSBjtQCctStrTrzhpwjGvGHhngwMHGHvMv',\n",
       " 'TtTQlQFcSSJlcccBbltQQTTRsPZDsWzRFzWFzPNfsssLPs',\n",
       " 'QpNNMrjcNMccGNdvLBBlBsBjnsnF',\n",
       " 'tTSqbbbqCtWWCTWSVTmmCJPwVwnwvFPnsPVnnPfddlvf',\n",
       " 'HmhJTZWqHqCJJJltqpNGRgzZDcQNrgzDGM',\n",
       " 'HcLVRhhTRsLRRVjslTscqNQmVNQQgQttqNwNZtmw',\n",
       " 'nJdBJJhfFPSCbJBJBMbzFbFgmNmtgmvgNgnntNwZQQNNmw',\n",
       " 'bMbPzJbzCBPrJfdfbBbdCrGHlLTTpWjsGhGTTRTRlc',\n",
       " 'sJCCpQJQCrfCfnSCrT',\n",
       " 'vmqgNggzgmZqmPShqBhThfhDhjDhhB',\n",
       " 'RZNzHRzZSQwHwHVVWc',\n",
       " 'jtVtvVHgvjJbHjjQPMZdCcwlMdNbdFlNlc',\n",
       " 'WppSBDzGfBzTBqQWwCFMlwZMwMcZ',\n",
       " 'zBfnqpRGnSSqTfqpTpSnnHQsjJgQvPJshHtHVh',\n",
       " 'qJMRMcPPVzVhmsDWfhWT',\n",
       " 'BglQBNlgZtQBHLHHBnTjWSWmFmwDmWjSsnmF',\n",
       " 'BdHvgHBvBtZbTpJRPCdcdpGrGJ',\n",
       " 'pcGcWGWlvQZpzmDbgFmz',\n",
       " 'HqqnddDdddjzTTggjZgFtT',\n",
       " 'sHqRwrRsJswLHrMLLRJdqNVVrGffPGWcvSSWlDfGfc',\n",
       " 'lttTbgRvqvtQRhjLzGjLVh',\n",
       " 'JJfrHfrdffZJQmZhLLZVVwFj',\n",
       " 'sBjCfSNNTTqnCnqD',\n",
       " 'qMtWjSrHftGfjqrJGMqzVzFmBBrzQQwzgBVQVQ',\n",
       " 'LDChPbThbTcTpCTcnPPQPQzVPvvzQBBWgVBQ',\n",
       " 'ZLspppLpdZZttdHttqdWMf',\n",
       " 'htJcJhpMQQWjhNWdJQSCFCTvFBPCTDlMmDCFlM',\n",
       " 'jjbbsfjwZbLGVVqHCFPvmvDmClTfmP',\n",
       " 'zjVVRwZwnRJtnNQt',\n",
       " 'PCPVSzLMMRqGwgMmHmQmDQ',\n",
       " 'slrrbZZgsfcdsgdhrHFGQHQFwvfwFwDGTv',\n",
       " 'NclhgpctrrNjllcZdcrpZnPPqzLLSSLqJLtJWCWzCn',\n",
       " 'PBLSBPVBwpTVppfT',\n",
       " 'lZCqQQtCQGPJJPtPHHwTwZTTZpwHsfRH',\n",
       " 'mCtGFDqFGDGQjPGqjJMMlqPgdWgSSgBWWcWzLdgvMzgBMg',\n",
       " 'cLBrfchhFBcnrgvqvPGvvwSS',\n",
       " 'QpzpstDDZMwDZqwh',\n",
       " 'WzpbWTjsbhpQtjThsjJFRNLnfLbfRLRBLlFB',\n",
       " 'ngnWWqnfgqtfsrWftqsrFWPSdSSdRCTHRSwpRGTfGmSG',\n",
       " 'VhJhVczJQcvbvvlhBpvlPdmlwHRTGHSRPTSCRGTd',\n",
       " 'zVcBcMhzcVcvMJJJDpWrsqrtrWLWsgZZFtFD',\n",
       " 'fbccrJlrffTwJDJTtBtB',\n",
       " 'hRNNFddsgsFPLLRVVwthMCQTtBwrtT',\n",
       " 'jrsPGLNjsqPlvGbZbcvScz',\n",
       " 'HFPmmgQrQzFgrLVPPrLFPNDJNJzzcGbJTbsSzbGGNc',\n",
       " 'MtvCMhJBdnMhwfhlwnfBfMDCDSjGbqDNGNGqGjDDjsDC',\n",
       " 'wwnhhdtBBptwdlhlRntRldJFVWRFPmWZFmHRZZmFQPRWmm',\n",
       " 'WrHNNTBNTTTBwHHcSTrBnSzJPFnpJfpLVfpDVdJLFJLFdD',\n",
       " 'hRthQvhRQlQmDpfVJFdLlLLj',\n",
       " 'hMZZbCMvgQgBTBGNGDcWbr',\n",
       " 'HvQjMRMTzjsCQzHTCFfVVZLPVvfLfPVpZg',\n",
       " 'GtlbBtSGlSbDdStrhSFCPVDgZgLLgPpPJWPF',\n",
       " 'rmwSbcbcdbrbGljQjCzCCwnHRqQT',\n",
       " 'bbgNSHPPgnmMMZtNcMpp',\n",
       " 'VFzFDFVtCBFDCVFdMlhZMhdhmhmplwZL',\n",
       " 'JVtBjGRFRttFCGDFGJJDQQgSgTWPPfSSfWbQnHvPWW',\n",
       " 'NvdBpwNvGNFvpBGGBmLFblrtVTwDttlhtlblfQbQ',\n",
       " 'SCMMsWCMSRZCqsmWcRWgRRsVtlrtrQbtQftThrQTQtqrtQ',\n",
       " 'WRscMgZJJCJWzZgSWNLFdBNHGzpFGmBFFG',\n",
       " 'qghqRVzhLNRLqzLhVztgQdLFdrccCnSpcZdSZcTS',\n",
       " 'DwvmHDJDsmvDGmHbQBlslMDDCrTCnppTndrdBrFnFTSdCCnZ',\n",
       " 'GGwJHlGwwvMHJljwwDMVtfhtWWhzqVPPjfQRqz',\n",
       " 'BsDMPrqPzsDwwCLGmqjpjm',\n",
       " 'VfFJQlVQcvfwJLJCJppLNp',\n",
       " 'vfcSHCglCgbgbbbFvSlvQfPsrsZrPzZzDWWStPhtZPDP',\n",
       " 'gjMsnFgbnllbjMfSZBHHtpHvvvFwhv',\n",
       " 'DDRZDLdVCLNLJwBCShQHHwwBzv',\n",
       " 'DNJNTLJRTqWmjWZnjrlmjW',\n",
       " 'ZTSVSFZCLTnvzfzqvnNL',\n",
       " 'PfPcJljfMpvtlnztvQtw',\n",
       " 'PsJMMMWpGcgMHMfjRBThrgrTbBSBFdVSTF',\n",
       " 'GccBRWjgtQqsTcVQcw',\n",
       " 'JhJCMJHPLffMChlfLCLHMMrDQsQqDVQsqTDbVvGqDhhzqD',\n",
       " 'dHGlfnCHlJrNmtdptggpmW',\n",
       " 'wnDDSBCSBSDLzLLmHLrlwlmpTTqzGJJfpjfjNpfqbpbdpG',\n",
       " 'MMRhFWWRvZPZRZQhFZMVhVSNqjqpNQffJjbjfbjdTJbp',\n",
       " 'VMMsWcZRWgMPvRSrSHmsrrtwSHnr',\n",
       " 'TQchPTgjBcNgPHhhThtNzQdzdsCmRDJnzCCmCdCm',\n",
       " 'vllVwrfvbSBVFSbVGwlrFGlqRCDzRJCJdzvJRzsdLDDLsdCm',\n",
       " 'VrMrqSWbfqWbBhhpWjNTttpjjP',\n",
       " 'rsfvSHHcvwrMPtcQZgnDhGdvJzngLzzJLJ',\n",
       " 'lWmVlfbCCNFCpBCmTpFFJgzhDLGhmRGhLhmGdgGR',\n",
       " 'pNBfflVTNpfWTWbWWbjNVqBsscqsqrZSwMwZrMPZSZrZrs',\n",
       " 'PJPHPJmhhHhlHPQgCndngTbWnqCWDGTD',\n",
       " 'tSwccFpFqwMcFbGFWvnnWvCW',\n",
       " 'MwLwLMSwpNBBtctSctfhZHJQhhqmlRlZRNPH',\n",
       " 'GNzdZhVGvtGZVVgGgtfHHWhpLPPpLWpWWnHf',\n",
       " 'RjwqRcDTvCrWJWWnlLnnqn',\n",
       " 'DbrDDwwBwjjsrbDTRTBmwgZmgGgmdttvQvQFSQGFtg',\n",
       " 'jRgcZRfhmHfZjPZRgHffLFTzzddBTBBFzLDZzBTF',\n",
       " 'VtsJwSbcStlwMqbtwbvWBWddGGdrFDDWJWrzTT',\n",
       " 'VwsQQvlbVbVlbNllVwbMmmpnjpfChfQpnhfcCCnH',\n",
       " 'dFnFjWjTQTFzFWPWPgqhRQRqgVhRqfRqQJ',\n",
       " 'bStrbpmNGHSrBDmrNBtHBhMVLLqLqVVglrllPVLgPg',\n",
       " 'tSsbBDmBbbGmmSHDbtmHbtNCjnzscZccjnPcTcdzWcvjswFz',\n",
       " 'lFCjDhqggMlDvMhFDgqFFzHHwHwwwTpLBwmwqmmpBpwT',\n",
       " 'GPdPnStGncQGNStZPpBmVZmRmfzTRmVVfL',\n",
       " 'tWtNdPWzsbtMDCbrCbrjrv',\n",
       " 'BJHMgLlcMTBLCtbqmMDGppmmMM',\n",
       " 'ZFPsrrdvwrNvrdNZsvhrrzzRSmJRbJSmbztsmpRSSm',\n",
       " 'NwhfPZFNdFQPVQdvZFNgjglJLTCQngQWllBcTT',\n",
       " 'jGlQQvQvpRQRGfnPLfcfGTnP',\n",
       " 'BMqmdBVBwmFdVMFZdcTPqgLnnggTTLSzPS',\n",
       " 'FVtMMVcbZVrcZMQCHjHWJJCJDvrW',\n",
       " 'rPPwVwbpRbbVlllTLCTRqTLL',\n",
       " 'dNdZssBBCBszHsjhDTQgqLDvlTgDZgll',\n",
       " 'dSsCNNHMdsdWWWmpGfmPFS',\n",
       " 'rzCLrsjgZjwcwSZc',\n",
       " 'wNBNRJpRltHNWWRHBlGlJtRcTZSVBmZDVqZTfBVVTDTVTD',\n",
       " 'NWPtGJPNGWHvpvtwvWgzQvdvQQzhnsnCvCLM',\n",
       " 'HHbJhzddMPbPgnDWbZ',\n",
       " 'BLnjLNvBrrcvvvwnwLrnqrgpPRgRNCWgZDPPpDgRpRWp',\n",
       " 'jtsBqScStfJQnnVF',\n",
       " 'QVFSVgQFZZQlQqQSlgQpRppSbRTSTppJJbRpLb',\n",
       " 'cGwCDwjrnrGvzBzGnwwvDBjnpLbsLTTqRPbsJPMJMWpPns',\n",
       " 'tcGzrCdtGdQmVZqVNQ',\n",
       " 'RtTRhncVMTVccShRTctLdfPdJpLPqJhZphHpJs',\n",
       " 'BzssCmFNWWqWwqwPLH',\n",
       " 'svzvvsmmFBmsggrGlGMVSMtMRRncSQScRRRl',\n",
       " 'rmmqrQQwLbbGrrGr',\n",
       " 'cNJzzzWtWmLCGGbLWWbv',\n",
       " 'cVtMppchzMBVMcNJcMsRwqZFMlgmggmRgg',\n",
       " 'mQsQBHFMrbddbRqH',\n",
       " 'NzhcQNfNNtzvWwZdSrgbrprPrwLbgb',\n",
       " 'zcJVhTtNNcvcfVZmBmQMGMMljTCmlB',\n",
       " 'FlldqjSlCgfvPFfvFF',\n",
       " 'rbnDtVBMbprTsbVVcTDTrpMcmNwgHPgghTmNfLwvfPNLwhdT',\n",
       " 'drMppdnbbtQDBtbnsBbcrrtbSqSSRCjlQZWllllSRlWRGCCC',\n",
       " 'nqdCsqbbwdsrHFVJHcwFTc',\n",
       " 'jPPjtWjPWgRltRLsBRrNpHFDHVFWVVJNNHrD',\n",
       " 'fgllPGQjBffLjtzSsqvbSSzGvnhS',\n",
       " 'zsVBzMfHHnzlwwVlqcJJFT',\n",
       " 'ZzRLvLDzQzTmlWlqWRWF',\n",
       " 'GbQQvpGvSSpjdQjSQZpQZGLfrgBCsHzrdtCsnfCBHsBgdH',\n",
       " 'zBLbLWzqqwLMnMZTnHlnsHTvFlFHNT',\n",
       " 'fjhdcrjjdVdrGSmmdfccGclPvlvPTlGHTFgNvNgqFFvg',\n",
       " 'pmmcrcRrjSVJchqVccjpRwZMDwCJQBbLDCCbwBWLzL',\n",
       " 'TDMBgBgLlcjBfMfcVJVmGnnJjvPVCPVv',\n",
       " 'zzptqHstJqFzzdJJZNvNpvNpnNvGnNZm',\n",
       " 'dHszrWQhdzHQqdztwQBLSfglfDbfJlJTLg',\n",
       " 'VTmvrldtGGwmlvmGDHlLnFDCCplFQHLH',\n",
       " 'ssgjzSzzJCQSSFVVQF',\n",
       " 'WsRWhgVqRtfvwcddhc',\n",
       " 'bdlDwznhnNlffMcPTPfzzQ',\n",
       " 'srCRGRrZCmVTBfBBfTQcZb',\n",
       " 'brSrrGvRVvWmRsrHrWSbjNJwdDFhnNlwtlnSdnhN',\n",
       " 'QQqqRfdQQSdjgPmZfBmmPgRhphphJtLmJhTJJhVbTtLhTb',\n",
       " 'vvlNGzDDDcslcsGDlWHtCFVpcCbThFTtbJFtCh',\n",
       " 'DrMGlzMVwNGWsWMHDMvlzlMfZdQdQPZfSZRfdrPBfqRZgj',\n",
       " 'qVHfHNJCHVvvFFbfFlHHnCQQDhLnhhhPZrZnPZPn',\n",
       " 'mSMszWRMQmhqrnZL',\n",
       " 'GjtzjSSdRGSjsRtdRMttgGgsqqFNfFcGVvVVvlbHFFGFVFwb']"
      ]
     },
     "execution_count": 46,
     "metadata": {},
     "output_type": "execute_result"
    }
   ],
   "source": [
    "data_split"
   ]
  },
  {
   "cell_type": "code",
   "execution_count": 47,
   "id": "f94c83d8",
   "metadata": {},
   "outputs": [],
   "source": [
    "badge_values = []"
   ]
  },
  {
   "cell_type": "code",
   "execution_count": 48,
   "id": "a3b9db19",
   "metadata": {},
   "outputs": [],
   "source": [
    "for i in range(0,len(data_split),3):\n",
    "    \n",
    "#     print(i)\n",
    "    \n",
    "    temp_group = []\n",
    "    \n",
    "    temp_group.append(data_split[i])\n",
    "    temp_group.append(data_split[i+1])\n",
    "    temp_group.append(data_split[i+2])\n",
    "    \n",
    "    badge = set(temp_group[0]) & set(temp_group[1]) & set(temp_group[2])\n",
    "    \n",
    "    badge_score = string.ascii_letters.index(list(badge)[0]) + 1\n",
    "    \n",
    "#     print(badge_score)\n",
    "    \n",
    "    badge_values.append(badge_score)"
   ]
  },
  {
   "cell_type": "code",
   "execution_count": 49,
   "id": "30b3fcde",
   "metadata": {
    "scrolled": true
   },
   "outputs": [
    {
     "data": {
      "text/plain": [
       "100"
      ]
     },
     "execution_count": 49,
     "metadata": {},
     "output_type": "execute_result"
    }
   ],
   "source": [
    "len(badge_values)"
   ]
  },
  {
   "cell_type": "code",
   "execution_count": 50,
   "id": "73ea5c93",
   "metadata": {},
   "outputs": [
    {
     "data": {
      "text/plain": [
       "2444"
      ]
     },
     "execution_count": 50,
     "metadata": {},
     "output_type": "execute_result"
    }
   ],
   "source": [
    "sum(badge_values)"
   ]
  },
  {
   "cell_type": "markdown",
   "id": "14a21588",
   "metadata": {},
   "source": [
    "# Day 4"
   ]
  },
  {
   "cell_type": "markdown",
   "id": "3d8c8384",
   "metadata": {},
   "source": [
    "## Part i"
   ]
  },
  {
   "cell_type": "code",
   "execution_count": 70,
   "id": "75408b09",
   "metadata": {},
   "outputs": [],
   "source": [
    "token_file = !cat /Users/mischadhar/.config/aocd/token/token.txt\n",
    "\n",
    "token = token_file[0]"
   ]
  },
  {
   "cell_type": "code",
   "execution_count": 151,
   "id": "5e048c68",
   "metadata": {},
   "outputs": [],
   "source": [
    "data = get_data(session=token,day=4,year=2022)"
   ]
  },
  {
   "cell_type": "code",
   "execution_count": 152,
   "id": "9b05ef21",
   "metadata": {},
   "outputs": [
    {
     "data": {
      "text/plain": [
       "['11-73,29-73', '43-82,44-44']"
      ]
     },
     "execution_count": 152,
     "metadata": {},
     "output_type": "execute_result"
    }
   ],
   "source": [
    "data = data.split(sep='\\n')\n",
    "\n",
    "(data[0:2])"
   ]
  },
  {
   "cell_type": "code",
   "execution_count": 179,
   "id": "c458edf9",
   "metadata": {},
   "outputs": [],
   "source": [
    "import re\n",
    "\n",
    "temp_lst = []\n",
    "\n",
    "for area in data:\n",
    "    \n",
    "    split = re.split(',| |\\-', area)\n",
    "    \n",
    "    elf1 = [int(x) for x in split[:2]]\n",
    "    elf2 = [int(x) for x in split[2:]]\n",
    "    \n",
    "    \n",
    "    range1 = list(range(elf1[0],elf1[1]+1))\n",
    "    range2 = list(range(elf2[0],elf2[1]+1))\n",
    "    \n",
    "    response = 0\n",
    "    \n",
    "    if set(range1).issubset(range2) or set(range2).issubset(range1):\n",
    "        \n",
    "        response = 1\n",
    "        \n",
    "    temp_lst.append(response)"
   ]
  },
  {
   "cell_type": "code",
   "execution_count": 180,
   "id": "17becf4e",
   "metadata": {},
   "outputs": [
    {
     "data": {
      "text/plain": [
       "528"
      ]
     },
     "execution_count": 180,
     "metadata": {},
     "output_type": "execute_result"
    }
   ],
   "source": [
    "sum(temp_lst)"
   ]
  }
 ],
 "metadata": {
  "kernelspec": {
   "display_name": "Python 3 (ipykernel)",
   "language": "python",
   "name": "python3"
  },
  "language_info": {
   "codemirror_mode": {
    "name": "ipython",
    "version": 3
   },
   "file_extension": ".py",
   "mimetype": "text/x-python",
   "name": "python",
   "nbconvert_exporter": "python",
   "pygments_lexer": "ipython3",
   "version": "3.10.6"
  },
  "toc": {
   "base_numbering": 1,
   "nav_menu": {},
   "number_sections": true,
   "sideBar": true,
   "skip_h1_title": false,
   "title_cell": "Table of Contents",
   "title_sidebar": "Contents",
   "toc_cell": false,
   "toc_position": {},
   "toc_section_display": true,
   "toc_window_display": true
  }
 },
 "nbformat": 4,
 "nbformat_minor": 5
}
