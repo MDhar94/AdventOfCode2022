{
 "cells": [
  {
   "cell_type": "markdown",
   "id": "5cb74f5e",
   "metadata": {},
   "source": [
    "# Challenge day 1"
   ]
  },
  {
   "cell_type": "code",
   "execution_count": 1,
   "id": "c7ee61fb",
   "metadata": {},
   "outputs": [],
   "source": [
    "import pandas as pd\n",
    "import numpy as np\n",
    "from itertools import groupby"
   ]
  },
  {
   "cell_type": "markdown",
   "id": "b0bbb531",
   "metadata": {},
   "source": [
    "## Part i "
   ]
  },
  {
   "cell_type": "markdown",
   "id": "3eef8627",
   "metadata": {},
   "source": [
    "### Get data"
   ]
  },
  {
   "cell_type": "code",
   "execution_count": 2,
   "id": "9044067d",
   "metadata": {},
   "outputs": [],
   "source": [
    "data_dir = '../raw_data/'"
   ]
  },
  {
   "cell_type": "code",
   "execution_count": 3,
   "id": "21d47187",
   "metadata": {},
   "outputs": [],
   "source": [
    "with open(data_dir+'Day1_data.txt') as f:\n",
    "    data = f.readlines()"
   ]
  },
  {
   "cell_type": "markdown",
   "id": "bb622d0c",
   "metadata": {},
   "source": [
    "### Clean data"
   ]
  },
  {
   "cell_type": "code",
   "execution_count": 4,
   "id": "6e800360",
   "metadata": {},
   "outputs": [],
   "source": [
    "data_clean = [data.replace('\\n','') for data in data]"
   ]
  },
  {
   "cell_type": "code",
   "execution_count": 5,
   "id": "857c8a7a",
   "metadata": {},
   "outputs": [],
   "source": [
    "elves1 = [list(sub) for ele, sub in groupby(data_clean, key = bool) if ele]\n",
    "\n",
    "num_elves = [[int(numerics) for numerics in strings] for strings in elves1]"
   ]
  },
  {
   "cell_type": "code",
   "execution_count": 6,
   "id": "2de558ba",
   "metadata": {},
   "outputs": [],
   "source": [
    "sum_elves = [sum(elf) for elf in num_elves]"
   ]
  },
  {
   "cell_type": "markdown",
   "id": "151b6aa2",
   "metadata": {},
   "source": [
    "### Get max value"
   ]
  },
  {
   "cell_type": "code",
   "execution_count": 7,
   "id": "760ade99",
   "metadata": {},
   "outputs": [],
   "source": [
    "max_value = max(sum_elves)\n",
    "max_index = sum_elves.index(max_value)"
   ]
  },
  {
   "cell_type": "code",
   "execution_count": 8,
   "id": "c159fc89",
   "metadata": {},
   "outputs": [
    {
     "data": {
      "text/plain": [
       "59"
      ]
     },
     "execution_count": 8,
     "metadata": {},
     "output_type": "execute_result"
    }
   ],
   "source": [
    "max_index"
   ]
  },
  {
   "cell_type": "markdown",
   "id": "cf7816ae",
   "metadata": {},
   "source": [
    "### Find total calories"
   ]
  },
  {
   "cell_type": "code",
   "execution_count": 9,
   "id": "58cf3098",
   "metadata": {},
   "outputs": [
    {
     "data": {
      "text/plain": [
       "71502"
      ]
     },
     "execution_count": 9,
     "metadata": {},
     "output_type": "execute_result"
    }
   ],
   "source": [
    "sum_elves[max_index]"
   ]
  },
  {
   "cell_type": "markdown",
   "id": "cad10ff4",
   "metadata": {},
   "source": [
    "## Part ii"
   ]
  },
  {
   "cell_type": "markdown",
   "id": "ef19e26e",
   "metadata": {},
   "source": [
    "### Find top three highest calories amounts"
   ]
  },
  {
   "cell_type": "code",
   "execution_count": 10,
   "id": "bd7b8772",
   "metadata": {},
   "outputs": [],
   "source": [
    "index_values = [(i,x) for x,i in enumerate(sum_elves)]"
   ]
  },
  {
   "cell_type": "code",
   "execution_count": 11,
   "id": "72b4fc1c",
   "metadata": {},
   "outputs": [
    {
     "name": "stdout",
     "output_type": "stream",
     "text": [
      "59 71502\n",
      "136 68977\n",
      "3 67712\n"
     ]
    },
    {
     "data": {
      "text/plain": [
       "208191"
      ]
     },
     "execution_count": 11,
     "metadata": {},
     "output_type": "execute_result"
    }
   ],
   "source": [
    "top_three_elves = sorted(index_values, reverse=True)[0:3]\n",
    "\n",
    "elf_dict = {}\n",
    "\n",
    "for elf_cal, elf_id in top_three_elves:\n",
    "    \n",
    "    print(elf_id, elf_cal)\n",
    "    \n",
    "    elf_dict[elf_id] = elf_cal\n",
    "    \n",
    "\n",
    "# sum(elf_dict.values())\n",
    "sum(elf_dict.values())\n",
    "    "
   ]
  },
  {
   "cell_type": "code",
   "execution_count": 13,
   "id": "501c1c1f",
   "metadata": {},
   "outputs": [
    {
     "data": {
      "text/plain": [
       "[71502, 68977, 67712]"
      ]
     },
     "execution_count": 13,
     "metadata": {},
     "output_type": "execute_result"
    }
   ],
   "source": [
    "top_three_elves = [elf[0] for elf in sorted(index_values,reverse=True)[0:3]]\n",
    "\n",
    "top_three_elves"
   ]
  },
  {
   "cell_type": "code",
   "execution_count": 16,
   "id": "bfec4c2e",
   "metadata": {},
   "outputs": [
    {
     "data": {
      "text/plain": [
       "208191"
      ]
     },
     "execution_count": 16,
     "metadata": {},
     "output_type": "execute_result"
    }
   ],
   "source": [
    "sum(top_three_elves)"
   ]
  },
  {
   "cell_type": "markdown",
   "id": "f62cf43b",
   "metadata": {},
   "source": [
    "# Challenge day 2"
   ]
  },
  {
   "cell_type": "markdown",
   "id": "1c6867f4",
   "metadata": {},
   "source": [
    "## Part i"
   ]
  },
  {
   "cell_type": "code",
   "execution_count": 17,
   "id": "30c3b655",
   "metadata": {
    "scrolled": false
   },
   "outputs": [],
   "source": [
    "df = pd.read_csv('../raw_data/Day2_data.csv'\n",
    "            , delim_whitespace=True\n",
    "            , header=None \n",
    "            , names=['Opponent','Response'])"
   ]
  },
  {
   "cell_type": "code",
   "execution_count": 18,
   "id": "98c1b3f7",
   "metadata": {},
   "outputs": [],
   "source": [
    "choice_dict = {'A':'Rock'\n",
    "               , 'B':'Paper'\n",
    "               ,'C':'Scissors'\n",
    "               ,'X':'Rock'\n",
    "               ,'Y':'Paper'\n",
    "               ,'Z':'Scissors'}"
   ]
  },
  {
   "cell_type": "code",
   "execution_count": 19,
   "id": "f73b278d",
   "metadata": {},
   "outputs": [
    {
     "data": {
      "text/html": [
       "<div>\n",
       "<style scoped>\n",
       "    .dataframe tbody tr th:only-of-type {\n",
       "        vertical-align: middle;\n",
       "    }\n",
       "\n",
       "    .dataframe tbody tr th {\n",
       "        vertical-align: top;\n",
       "    }\n",
       "\n",
       "    .dataframe thead th {\n",
       "        text-align: right;\n",
       "    }\n",
       "</style>\n",
       "<table border=\"1\" class=\"dataframe\">\n",
       "  <thead>\n",
       "    <tr style=\"text-align: right;\">\n",
       "      <th></th>\n",
       "      <th>Opponent</th>\n",
       "      <th>Response</th>\n",
       "    </tr>\n",
       "  </thead>\n",
       "  <tbody>\n",
       "    <tr>\n",
       "      <th>0</th>\n",
       "      <td>Rock</td>\n",
       "      <td>Paper</td>\n",
       "    </tr>\n",
       "    <tr>\n",
       "      <th>1</th>\n",
       "      <td>Scissors</td>\n",
       "      <td>Paper</td>\n",
       "    </tr>\n",
       "    <tr>\n",
       "      <th>2</th>\n",
       "      <td>Scissors</td>\n",
       "      <td>Rock</td>\n",
       "    </tr>\n",
       "    <tr>\n",
       "      <th>3</th>\n",
       "      <td>Rock</td>\n",
       "      <td>Paper</td>\n",
       "    </tr>\n",
       "    <tr>\n",
       "      <th>4</th>\n",
       "      <td>Scissors</td>\n",
       "      <td>Rock</td>\n",
       "    </tr>\n",
       "  </tbody>\n",
       "</table>\n",
       "</div>"
      ],
      "text/plain": [
       "   Opponent Response\n",
       "0      Rock    Paper\n",
       "1  Scissors    Paper\n",
       "2  Scissors     Rock\n",
       "3      Rock    Paper\n",
       "4  Scissors     Rock"
      ]
     },
     "execution_count": 19,
     "metadata": {},
     "output_type": "execute_result"
    }
   ],
   "source": [
    "df_clean = df.replace({'Opponent':choice_dict\n",
    "            ,'Response':choice_dict})\n",
    "\n",
    "df_clean.head()"
   ]
  },
  {
   "cell_type": "code",
   "execution_count": 20,
   "id": "274e13a0",
   "metadata": {},
   "outputs": [],
   "source": [
    "def score_calculator(row):\n",
    "        \n",
    "    combo_dict = {'loss':['RockPaper','PaperScissors','ScissorsRock'],\n",
    "                  'draw':['RockRock','PaperPaper','ScissorsScissors'],\n",
    "                  'win':['PaperRock','ScissorsPaper','RockScissors']}\n",
    "    \n",
    "    score_dict = {'win':[6],'draw':[3],'loss':[0]}\n",
    "    \n",
    "    choice_score_dict = {'Rock':1,'Paper':2,'Scissors':3}\n",
    "    \n",
    "    combination = row['Response'] + row['Opponent']\n",
    "    \n",
    "    score = 0\n",
    "        \n",
    "    if combination in combo_dict['win']:\n",
    "\n",
    "        score += 6 + choice_score_dict[row['Response']]\n",
    "              \n",
    "        \n",
    "    elif combination in combo_dict['draw']:\n",
    "        \n",
    "        score += 3 + choice_score_dict[row['Response']]\n",
    "        \n",
    "    elif combination in combo_dict['loss']:\n",
    "        \n",
    "        score += 0 + choice_score_dict[row['Response']]\n",
    "        \n",
    "    else:\n",
    "        \n",
    "        print('combo not valid')\n",
    "        \n",
    "    return score"
   ]
  },
  {
   "cell_type": "code",
   "execution_count": 21,
   "id": "1cce6ec4",
   "metadata": {
    "scrolled": false
   },
   "outputs": [],
   "source": [
    "df_clean['Score'] = df_clean.apply(lambda row: score_calculator(row),axis=1)"
   ]
  },
  {
   "cell_type": "code",
   "execution_count": 22,
   "id": "4811aa4f",
   "metadata": {},
   "outputs": [
    {
     "data": {
      "text/plain": [
       "14531"
      ]
     },
     "execution_count": 22,
     "metadata": {},
     "output_type": "execute_result"
    }
   ],
   "source": [
    "df_clean.Score.sum()"
   ]
  },
  {
   "cell_type": "markdown",
   "id": "9acbd79c",
   "metadata": {},
   "source": [
    "### Test"
   ]
  },
  {
   "cell_type": "code",
   "execution_count": 23,
   "id": "9d5cf32f",
   "metadata": {},
   "outputs": [
    {
     "data": {
      "text/plain": [
       "15"
      ]
     },
     "execution_count": 23,
     "metadata": {},
     "output_type": "execute_result"
    }
   ],
   "source": [
    "test_df = pd.DataFrame({'Opponent':['Rock','Paper','Scissors'],'Response':['Paper','Rock','Scissors']})\n",
    "\n",
    "test_df['Score'] = test_df.apply(lambda row: score_calculator(row),axis=1)\n",
    "\n",
    "test_df.Score.sum()"
   ]
  },
  {
   "cell_type": "markdown",
   "id": "b08fe87e",
   "metadata": {},
   "source": [
    "## Part ii"
   ]
  },
  {
   "cell_type": "markdown",
   "id": "a0ad256b",
   "metadata": {},
   "source": [
    "X = Win\n",
    "\n",
    "Y = Draw\n",
    "\n",
    "Z = Lose"
   ]
  },
  {
   "cell_type": "code",
   "execution_count": 24,
   "id": "005646d0",
   "metadata": {},
   "outputs": [],
   "source": [
    "choice_dict2 = {'A':'Rock'\n",
    "               , 'B':'Paper'\n",
    "               ,'C':'Scissors'\n",
    "               ,'X':'Lose'\n",
    "               ,'Y':'Draw'\n",
    "               ,'Z':'Win'}"
   ]
  },
  {
   "cell_type": "code",
   "execution_count": 25,
   "id": "2c6a7c76",
   "metadata": {},
   "outputs": [],
   "source": [
    "df2 = df.rename(columns={'Response':'Result'}).replace({'Opponent':choice_dict\n",
    "                                                        ,'Result':choice_dict2})"
   ]
  },
  {
   "cell_type": "code",
   "execution_count": 26,
   "id": "af385503",
   "metadata": {},
   "outputs": [
    {
     "data": {
      "text/html": [
       "<div>\n",
       "<style scoped>\n",
       "    .dataframe tbody tr th:only-of-type {\n",
       "        vertical-align: middle;\n",
       "    }\n",
       "\n",
       "    .dataframe tbody tr th {\n",
       "        vertical-align: top;\n",
       "    }\n",
       "\n",
       "    .dataframe thead th {\n",
       "        text-align: right;\n",
       "    }\n",
       "</style>\n",
       "<table border=\"1\" class=\"dataframe\">\n",
       "  <thead>\n",
       "    <tr style=\"text-align: right;\">\n",
       "      <th></th>\n",
       "      <th>Opponent</th>\n",
       "      <th>Result</th>\n",
       "    </tr>\n",
       "  </thead>\n",
       "  <tbody>\n",
       "    <tr>\n",
       "      <th>0</th>\n",
       "      <td>Rock</td>\n",
       "      <td>Draw</td>\n",
       "    </tr>\n",
       "    <tr>\n",
       "      <th>1</th>\n",
       "      <td>Scissors</td>\n",
       "      <td>Draw</td>\n",
       "    </tr>\n",
       "    <tr>\n",
       "      <th>2</th>\n",
       "      <td>Scissors</td>\n",
       "      <td>Lose</td>\n",
       "    </tr>\n",
       "    <tr>\n",
       "      <th>3</th>\n",
       "      <td>Rock</td>\n",
       "      <td>Draw</td>\n",
       "    </tr>\n",
       "    <tr>\n",
       "      <th>4</th>\n",
       "      <td>Scissors</td>\n",
       "      <td>Lose</td>\n",
       "    </tr>\n",
       "  </tbody>\n",
       "</table>\n",
       "</div>"
      ],
      "text/plain": [
       "   Opponent Result\n",
       "0      Rock   Draw\n",
       "1  Scissors   Draw\n",
       "2  Scissors   Lose\n",
       "3      Rock   Draw\n",
       "4  Scissors   Lose"
      ]
     },
     "execution_count": 26,
     "metadata": {},
     "output_type": "execute_result"
    }
   ],
   "source": [
    "df2.head()"
   ]
  },
  {
   "cell_type": "code",
   "execution_count": 27,
   "id": "efd18de2",
   "metadata": {},
   "outputs": [],
   "source": [
    "def score_calculator2(row):\n",
    "                \n",
    "    combo_dict = {'RockLose':'Scissors', 'RockDraw':'Rock','RockWin':'Paper'\n",
    "                 ,'ScissorsLose':'Paper','ScissorsDraw':'Scissors','ScissorsWin':'Rock'\n",
    "                 ,'PaperLose':'Rock','PaperDraw':'Paper','PaperWin':'Scissors'}\n",
    "    \n",
    "    score_dict = {'Win':6,'Draw':3,'Lose':0}\n",
    "    \n",
    "    choice_score_dict = {'Rock':1,'Paper':2,'Scissors':3}\n",
    "    \n",
    "    combination = row['Opponent'] + row['Result']\n",
    "        \n",
    "    sign_played = combo_dict[combination]\n",
    "    \n",
    "    sign_score = choice_score_dict[sign_played]\n",
    "    round_score = score_dict[row['Result']]\n",
    "        \n",
    "    return sign_score + round_score"
   ]
  },
  {
   "cell_type": "code",
   "execution_count": 28,
   "id": "ae3c1653",
   "metadata": {},
   "outputs": [],
   "source": [
    "df2['score'] = df2.apply(lambda row: score_calculator2(row),axis=1)"
   ]
  },
  {
   "cell_type": "code",
   "execution_count": 29,
   "id": "4ea6b79d",
   "metadata": {},
   "outputs": [
    {
     "data": {
      "text/plain": [
       "11258"
      ]
     },
     "execution_count": 29,
     "metadata": {},
     "output_type": "execute_result"
    }
   ],
   "source": [
    "df2['score'].sum()"
   ]
  },
  {
   "cell_type": "code",
   "execution_count": 30,
   "id": "47c8c1f2",
   "metadata": {},
   "outputs": [
    {
     "data": {
      "text/plain": [
       "12"
      ]
     },
     "execution_count": 30,
     "metadata": {},
     "output_type": "execute_result"
    }
   ],
   "source": [
    "test_df = pd.DataFrame({'Opponent':['Rock','Paper','Scissors'],'Result':['Draw','Lose','Win']})\n",
    "\n",
    "test_df['Score'] = test_df.apply(lambda row: score_calculator2(row),axis=1)\n",
    "\n",
    "test_df.Score.sum()"
   ]
  },
  {
   "cell_type": "markdown",
   "id": "e204ba59",
   "metadata": {},
   "source": [
    "# Day 3"
   ]
  },
  {
   "cell_type": "markdown",
   "id": "917dc78a",
   "metadata": {},
   "source": [
    "## Part i "
   ]
  },
  {
   "cell_type": "code",
   "execution_count": 54,
   "id": "8cb9a195",
   "metadata": {},
   "outputs": [],
   "source": [
    "from aocd import get_data"
   ]
  },
  {
   "cell_type": "code",
   "execution_count": 138,
   "id": "79272545",
   "metadata": {},
   "outputs": [
    {
     "data": {
      "text/plain": [
       "(128, 129)"
      ]
     },
     "execution_count": 138,
     "metadata": {},
     "output_type": "execute_result"
    }
   ],
   "source": [
    "with open('/Users/mischadhar/.config/aocd/token/token.txt') as f:\n",
    "    token = f.read()\n",
    "    \n",
    "(len(token.strip('\\n')),len(token))"
   ]
  },
  {
   "cell_type": "code",
   "execution_count": 136,
   "id": "e757cc7d",
   "metadata": {},
   "outputs": [
    {
     "data": {
      "text/plain": [
       "'53616c7465645f5f30e0d992ea63cabcc59f2eaaf4c3798bfd335b499b8f3230f6c32cda0595f224a9707a28ae4f1e140197f8febb15ab51e29c92d99b76e2ad\\n'"
      ]
     },
     "execution_count": 136,
     "metadata": {},
     "output_type": "execute_result"
    }
   ],
   "source": [
    "token"
   ]
  },
  {
   "cell_type": "code",
   "execution_count": 55,
   "id": "f23d8a5a",
   "metadata": {
    "scrolled": true
   },
   "outputs": [],
   "source": [
    "token_file = !cat /Users/mischadhar/.config/aocd/token/token.txt\n",
    "\n",
    "token = token_file[0]"
   ]
  },
  {
   "cell_type": "code",
   "execution_count": 133,
   "id": "4d16b00f",
   "metadata": {},
   "outputs": [
    {
     "data": {
      "text/plain": [
       "['53616c7465645f5f30e0d992ea63cabcc59f2eaaf4c3798bfd335b499b8f3230f6c32cda0595f224a9707a28ae4f1e140197f8febb15ab51e29c92d99b76e2ad']"
      ]
     },
     "execution_count": 133,
     "metadata": {},
     "output_type": "execute_result"
    }
   ],
   "source": [
    "token_file"
   ]
  },
  {
   "cell_type": "markdown",
   "id": "f3573665",
   "metadata": {},
   "source": [
    "53616c7465645f5f30e0d992ea63cabcc59f2eaaf4c3798bfd335b499b8f3230f6c32cda0595f224a9707a28ae4f1e140197f8febb15ab51e29c92d99b76e2ad"
   ]
  },
  {
   "cell_type": "code",
   "execution_count": 130,
   "id": "b751a00a",
   "metadata": {},
   "outputs": [
    {
     "data": {
      "text/plain": [
       "'53616c7465645f5f30e0d992ea63cabcc59f2eaaf4c3798bfd335b499b8f3230f6c32cda0595f224a9707a28ae4f1e140197f8febb15ab51e29c92d99b76e2ad'"
      ]
     },
     "execution_count": 130,
     "metadata": {},
     "output_type": "execute_result"
    }
   ],
   "source": [
    "token"
   ]
  },
  {
   "cell_type": "code",
   "execution_count": 129,
   "id": "1b8441dc",
   "metadata": {},
   "outputs": [],
   "source": [
    "data = get_data(session=token,day=3,year=2022)"
   ]
  },
  {
   "cell_type": "code",
   "execution_count": 57,
   "id": "38bf501c",
   "metadata": {
    "scrolled": true
   },
   "outputs": [
    {
     "data": {
      "text/plain": [
       "300"
      ]
     },
     "execution_count": 57,
     "metadata": {},
     "output_type": "execute_result"
    }
   ],
   "source": [
    "data_split = data.split(sep='\\n')\n",
    "\n",
    "len(data_split)"
   ]
  },
  {
   "cell_type": "code",
   "execution_count": 75,
   "id": "b57708d7",
   "metadata": {},
   "outputs": [],
   "source": [
    "rucksack_sizes = [len(data) for data in data_split]"
   ]
  },
  {
   "cell_type": "code",
   "execution_count": 76,
   "id": "1260e71f",
   "metadata": {},
   "outputs": [
    {
     "data": {
      "text/plain": [
       "'JHflSJCLgCphgHHgRHJCRRff'"
      ]
     },
     "execution_count": 76,
     "metadata": {},
     "output_type": "execute_result"
    }
   ],
   "source": [
    "data_split[0]\n",
    "\n",
    "data_split[0][:int(len(data_split[0])/2)]\n",
    "\n",
    "data_split[0][int(len(data_split[0])/2):]"
   ]
  },
  {
   "cell_type": "code",
   "execution_count": 127,
   "id": "bf3e346d",
   "metadata": {},
   "outputs": [
    {
     "ename": "TypeError",
     "evalue": "list.append() takes exactly one argument (2 given)",
     "output_type": "error",
     "traceback": [
      "\u001b[0;31m---------------------------------------------------------------------------\u001b[0m",
      "\u001b[0;31mTypeError\u001b[0m                                 Traceback (most recent call last)",
      "Cell \u001b[0;32mIn [127], line 9\u001b[0m\n\u001b[1;32m      5\u001b[0m     rucksack_size \u001b[38;5;241m=\u001b[39m \u001b[38;5;28mint\u001b[39m(\u001b[38;5;28mlen\u001b[39m(rucksack)\u001b[38;5;241m/\u001b[39m\u001b[38;5;241m2\u001b[39m)\n\u001b[1;32m      7\u001b[0m     temp_list \u001b[38;5;241m=\u001b[39m []\n\u001b[0;32m----> 9\u001b[0m     temp_list\u001b[38;5;241m.\u001b[39mappend(rucksack[:rucksack_size],rucksack[rucksack_size:])\n\u001b[1;32m     10\u001b[0m \u001b[38;5;66;03m#     temp_list.append(rucksack[rucksack_size:])\u001b[39;00m\n\u001b[1;32m     12\u001b[0m     \u001b[38;5;28;01mif\u001b[39;00m \u001b[38;5;28mlen\u001b[39m(temp_list[\u001b[38;5;241m0\u001b[39m]) \u001b[38;5;241m!=\u001b[39m \u001b[38;5;28mlen\u001b[39m(temp_list[\u001b[38;5;241m1\u001b[39m]):\n",
      "\u001b[0;31mTypeError\u001b[0m: list.append() takes exactly one argument (2 given)"
     ]
    }
   ],
   "source": [
    "rucksacks = []\n",
    "\n",
    "for rucksack in data_split:\n",
    "    \n",
    "    rucksack_size = int(len(rucksack)/2)\n",
    "    \n",
    "    temp_list = []\n",
    "    \n",
    "    temp_list.append(rucksack[:rucksack_size])\n",
    "    temp_list.append(rucksack[rucksack_size:])\n",
    "    \n",
    "    if len(temp_list[0]) != len(temp_list[1]):\n",
    "        \n",
    "        break\n",
    "        \n",
    "    rucksacks.append(temp_list) "
   ]
  },
  {
   "cell_type": "code",
   "execution_count": 126,
   "id": "5085be39",
   "metadata": {},
   "outputs": [
    {
     "data": {
      "text/plain": [
       "300"
      ]
     },
     "execution_count": 126,
     "metadata": {},
     "output_type": "execute_result"
    }
   ],
   "source": [
    "len(rucksacks)"
   ]
  },
  {
   "cell_type": "code",
   "execution_count": 94,
   "id": "7d25c382",
   "metadata": {},
   "outputs": [
    {
     "data": {
      "text/plain": [
       "['BcBGcQzVBVZcvznTTTvZcGT', 'pCRRRfRCggLflHlhhCZpZCj']"
      ]
     },
     "execution_count": 94,
     "metadata": {},
     "output_type": "execute_result"
    }
   ],
   "source": [
    "test_sack = rucksacks[1]\n",
    "\n",
    "test_sack"
   ]
  },
  {
   "cell_type": "code",
   "execution_count": 93,
   "id": "93cfc69b",
   "metadata": {},
   "outputs": [
    {
     "data": {
      "text/plain": [
       "['Z']"
      ]
     },
     "execution_count": 93,
     "metadata": {},
     "output_type": "execute_result"
    }
   ],
   "source": [
    "clist(set(test_sack[0]).intersection(test_sack[1]))"
   ]
  },
  {
   "cell_type": "code",
   "execution_count": 121,
   "id": "4074faff",
   "metadata": {},
   "outputs": [],
   "source": [
    "import string"
   ]
  },
  {
   "cell_type": "code",
   "execution_count": 122,
   "id": "0e32d122",
   "metadata": {},
   "outputs": [
    {
     "data": {
      "text/plain": [
       "0"
      ]
     },
     "execution_count": 122,
     "metadata": {},
     "output_type": "execute_result"
    }
   ],
   "source": [
    "string.ascii_letters.index('a')"
   ]
  },
  {
   "cell_type": "code",
   "execution_count": 123,
   "id": "1d454014",
   "metadata": {
    "scrolled": true
   },
   "outputs": [
    {
     "data": {
      "text/plain": [
       "7817"
      ]
     },
     "execution_count": 123,
     "metadata": {},
     "output_type": "execute_result"
    }
   ],
   "source": [
    "priority_scores = []\n",
    "\n",
    "for sack in rucksacks:\n",
    "    \n",
    "    common_value = list(set(sack[0]).intersection(sack[1]))[0]\n",
    "        \n",
    "    priority_score = string.ascii_letters.index(common_value) + 1\n",
    "    \n",
    "    priority_scores.append(priority_score)\n",
    "    \n",
    "sum(priority_scores)"
   ]
  },
  {
   "cell_type": "markdown",
   "id": "909f4563",
   "metadata": {},
   "source": [
    "### Test"
   ]
  },
  {
   "cell_type": "code",
   "execution_count": 124,
   "id": "bd8d53d0",
   "metadata": {},
   "outputs": [
    {
     "name": "stdout",
     "output_type": "stream",
     "text": [
      "16\n",
      "38\n",
      "42\n",
      "22\n",
      "20\n",
      "19\n"
     ]
    },
    {
     "data": {
      "text/plain": [
       "157"
      ]
     },
     "execution_count": 124,
     "metadata": {},
     "output_type": "execute_result"
    }
   ],
   "source": [
    "# 16 (p), 38 (L), 42 (P), 22 (v), 20 (t), and 19 (s)\n",
    "\n",
    "test_case = ['p','L','P','v','t','s']\n",
    "\n",
    "test_priority_scores = []\n",
    "\n",
    "for test in test_case:\n",
    "    \n",
    "    test_priority_score = string.ascii_letters.index(test) + 1\n",
    "    \n",
    "    print(test_priority_score)\n",
    "    \n",
    "    test_priority_scores.append(test_priority_score)\n",
    "\n",
    "sum(test_priority_scores)"
   ]
  }
 ],
 "metadata": {
  "kernelspec": {
   "display_name": "Python 3 (ipykernel)",
   "language": "python",
   "name": "python3"
  },
  "language_info": {
   "codemirror_mode": {
    "name": "ipython",
    "version": 3
   },
   "file_extension": ".py",
   "mimetype": "text/x-python",
   "name": "python",
   "nbconvert_exporter": "python",
   "pygments_lexer": "ipython3",
   "version": "3.10.6"
  },
  "toc": {
   "base_numbering": 1,
   "nav_menu": {},
   "number_sections": true,
   "sideBar": true,
   "skip_h1_title": false,
   "title_cell": "Table of Contents",
   "title_sidebar": "Contents",
   "toc_cell": false,
   "toc_position": {},
   "toc_section_display": true,
   "toc_window_display": true
  }
 },
 "nbformat": 4,
 "nbformat_minor": 5
}
