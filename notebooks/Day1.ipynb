{
 "cells": [
  {
   "cell_type": "markdown",
   "id": "5cb74f5e",
   "metadata": {},
   "source": [
    "# Challenge day 1"
   ]
  },
  {
   "cell_type": "code",
   "execution_count": 49,
   "id": "c7ee61fb",
   "metadata": {},
   "outputs": [],
   "source": [
    "import pandas as pd\n",
    "import numpy as np\n",
    "from itertools import groupby"
   ]
  },
  {
   "cell_type": "markdown",
   "id": "b0bbb531",
   "metadata": {},
   "source": [
    "## Part i "
   ]
  },
  {
   "cell_type": "markdown",
   "id": "3eef8627",
   "metadata": {},
   "source": [
    "### Get data"
   ]
  },
  {
   "cell_type": "code",
   "execution_count": 62,
   "id": "21d47187",
   "metadata": {},
   "outputs": [],
   "source": [
    "with open('/Users/mischadhar/Desktop/input.txt') as f:\n",
    "    data = f.readlines()"
   ]
  },
  {
   "cell_type": "markdown",
   "id": "bb622d0c",
   "metadata": {},
   "source": [
    "### Clean data"
   ]
  },
  {
   "cell_type": "code",
   "execution_count": 63,
   "id": "6e800360",
   "metadata": {},
   "outputs": [],
   "source": [
    "data_clean = [data.replace('\\n','') for data in data]"
   ]
  },
  {
   "cell_type": "code",
   "execution_count": 68,
   "id": "857c8a7a",
   "metadata": {},
   "outputs": [],
   "source": [
    "elves1 = [list(sub) for ele, sub in groupby(data_clean, key = bool) if ele]\n",
    "\n",
    "num_elves = [[int(numerics) for numerics in strings] for strings in elves1]"
   ]
  },
  {
   "cell_type": "code",
   "execution_count": 71,
   "id": "2de558ba",
   "metadata": {},
   "outputs": [],
   "source": [
    "sum_elves = [sum(elf) for elf in num_elves]"
   ]
  },
  {
   "cell_type": "markdown",
   "id": "151b6aa2",
   "metadata": {},
   "source": [
    "### Get max value"
   ]
  },
  {
   "cell_type": "code",
   "execution_count": 76,
   "id": "760ade99",
   "metadata": {},
   "outputs": [],
   "source": [
    "max_value = max(sum_elves)\n",
    "max_index = sum_elves.index(max_value)"
   ]
  },
  {
   "cell_type": "code",
   "execution_count": 100,
   "id": "c159fc89",
   "metadata": {},
   "outputs": [
    {
     "data": {
      "text/plain": [
       "59"
      ]
     },
     "execution_count": 100,
     "metadata": {},
     "output_type": "execute_result"
    }
   ],
   "source": [
    "max_index"
   ]
  },
  {
   "cell_type": "markdown",
   "id": "cf7816ae",
   "metadata": {},
   "source": [
    "### Find total calories"
   ]
  },
  {
   "cell_type": "code",
   "execution_count": 93,
   "id": "58cf3098",
   "metadata": {},
   "outputs": [
    {
     "data": {
      "text/plain": [
       "71502"
      ]
     },
     "execution_count": 93,
     "metadata": {},
     "output_type": "execute_result"
    }
   ],
   "source": [
    "sum_elves[max_index]"
   ]
  },
  {
   "cell_type": "markdown",
   "id": "cad10ff4",
   "metadata": {},
   "source": [
    "## Part ii"
   ]
  },
  {
   "cell_type": "markdown",
   "id": "ef19e26e",
   "metadata": {},
   "source": [
    "### Find top three highest calories amounts"
   ]
  },
  {
   "cell_type": "code",
   "execution_count": 102,
   "id": "bd7b8772",
   "metadata": {},
   "outputs": [],
   "source": [
    "index_values = [(i,x) for x,i in enumerate(sum_elves)]"
   ]
  },
  {
   "cell_type": "code",
   "execution_count": 107,
   "id": "501c1c1f",
   "metadata": {},
   "outputs": [
    {
     "data": {
      "text/plain": [
       "[71502, 68977, 67712]"
      ]
     },
     "execution_count": 107,
     "metadata": {},
     "output_type": "execute_result"
    }
   ],
   "source": [
    "top_three_kcal = [elf[0] for elf in sorted(index_values,reverse=True)[0:3]]\n",
    "\n",
    "top_three_kcal"
   ]
  },
  {
   "cell_type": "code",
   "execution_count": 108,
   "id": "bfec4c2e",
   "metadata": {},
   "outputs": [
    {
     "data": {
      "text/plain": [
       "208191"
      ]
     },
     "execution_count": 108,
     "metadata": {},
     "output_type": "execute_result"
    }
   ],
   "source": [
    "sum(top_three_kcal)"
   ]
  }
 ],
 "metadata": {
  "kernelspec": {
   "display_name": "Python 3 (ipykernel)",
   "language": "python",
   "name": "python3"
  },
  "language_info": {
   "codemirror_mode": {
    "name": "ipython",
    "version": 3
   },
   "file_extension": ".py",
   "mimetype": "text/x-python",
   "name": "python",
   "nbconvert_exporter": "python",
   "pygments_lexer": "ipython3",
   "version": "3.10.6"
  },
  "toc": {
   "base_numbering": 1,
   "nav_menu": {},
   "number_sections": true,
   "sideBar": true,
   "skip_h1_title": false,
   "title_cell": "Table of Contents",
   "title_sidebar": "Contents",
   "toc_cell": false,
   "toc_position": {},
   "toc_section_display": true,
   "toc_window_display": false
  }
 },
 "nbformat": 4,
 "nbformat_minor": 5
}
